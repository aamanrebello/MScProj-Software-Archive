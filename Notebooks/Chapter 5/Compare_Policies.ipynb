{
  "cells": [
    {
      "cell_type": "markdown",
      "metadata": {
        "id": "QKCq0H9FBnQv"
      },
      "source": [
        "# Import GitHub Repo"
      ]
    },
    {
      "cell_type": "code",
      "execution_count": null,
      "metadata": {
        "id": "EY1b2UIxA9Ds",
        "colab": {
          "base_uri": "https://localhost:8080/"
        },
        "outputId": "8789f81e-a19a-4ffb-c1a0-377f8e905298"
      },
      "outputs": [
        {
          "output_type": "stream",
          "name": "stdout",
          "text": [
            "Cloning into 'Factored-Action-Spaces-for-OPE'...\n",
            "remote: Enumerating objects: 93, done.\u001b[K\n",
            "remote: Counting objects: 100% (93/93), done.\u001b[K\n",
            "remote: Compressing objects: 100% (73/73), done.\u001b[K\n",
            "remote: Total 93 (delta 20), reused 71 (delta 7), pack-reused 0\u001b[K\n",
            "Receiving objects: 100% (93/93), 2.94 MiB | 24.12 MiB/s, done.\n",
            "Resolving deltas: 100% (20/20), done.\n"
          ]
        }
      ],
      "source": [
        "!git clone https://github.com/ai4ai-lab/Factored-Action-Spaces-for-OPE.git"
      ]
    },
    {
      "cell_type": "code",
      "execution_count": null,
      "metadata": {
        "id": "lo1uwOvfDe3w"
      },
      "outputs": [],
      "source": [
        "#Enable importing code from parent directory\n",
        "import os, sys\n",
        "main_folder = os.path.abspath('./Factored-Action-Spaces-for-OPE')\n",
        "sys.path.insert(1, main_folder)\n",
        "#Change our working directory\n",
        "if os.getcwd() == '/content':\n",
        "  os.chdir('./Factored-Action-Spaces-for-OPE')"
      ]
    },
    {
      "cell_type": "markdown",
      "source": [
        "# Setup Functions"
      ],
      "metadata": {
        "id": "rXwjHaPAxGVX"
      }
    },
    {
      "cell_type": "code",
      "source": [
        "def PD(pi_e, pi_b, state_action_map, state_numbers, action_numbers):\n",
        "  #Calculate policy divergence from Voloshin et al.\n",
        "  D = 0\n",
        "  for state in state_action_map.keys():\n",
        "      state_no = state_numbers[state]\n",
        "      for action in state_action_map[state]:\n",
        "          action_no = action_numbers[action]\n",
        "          difference = pi_e[state_no, action_no]/pi_b[state_no, action_no]\n",
        "          D = max(D, difference)\n",
        "  return D"
      ],
      "metadata": {
        "id": "MltuB5SBxIaF"
      },
      "execution_count": null,
      "outputs": []
    },
    {
      "cell_type": "code",
      "source": [
        "from scipy.special import rel_entr\n",
        "\n",
        "def MPD(pi_e, pi_b, state_action_map, state_numbers, action_numbers):\n",
        "  #Calculate policy divergence from Voloshin et al.\n",
        "  D = 0\n",
        "  for state in state_action_map.keys():\n",
        "      state_no = state_numbers[state]\n",
        "      difference = sum(rel_entr(pi_e[state_no, :], pi_b[state_no, :]))\n",
        "      D = max(D, difference)\n",
        "  return D"
      ],
      "metadata": {
        "id": "9gw8PxlY1q6P"
      },
      "execution_count": null,
      "outputs": []
    },
    {
      "cell_type": "markdown",
      "metadata": {
        "id": "hgcIx1s6GgLX"
      },
      "source": [
        "# 1-step-MDP"
      ]
    },
    {
      "cell_type": "markdown",
      "metadata": {
        "id": "IynOTPaL4gxy"
      },
      "source": [
        "## Main Policy Divergence 1.44"
      ]
    },
    {
      "cell_type": "code",
      "source": [
        "import sys\n",
        "sys.argv[1] = '1-step-MDP'\n",
        "import numpy as np\n",
        "import policy_estimators as pe\n",
        "from load_discrete_MDP import state_action_map, pi_b, pi_e\n",
        "from load_discrete_MDP import factored_behaviour_policies, factored_evaluation_policies, factored_state_action_maps\n",
        "from load_discrete_MDP import state_numbers, action_numbers, factored_state_numbers, factored_action_numbers\n",
        "import gc"
      ],
      "metadata": {
        "id": "VIwoASOlEUFG"
      },
      "execution_count": null,
      "outputs": []
    },
    {
      "cell_type": "code",
      "source": [
        "print('POLICY DIVERGENCE')\n",
        "print(f'Top Level: {PD(pi_e, pi_b, state_action_map, state_numbers, action_numbers)}')\n",
        "print(f'Space 1: {PD(factored_evaluation_policies[0], factored_behaviour_policies[0], factored_state_action_maps[0], factored_state_numbers[0], factored_action_numbers[0])}')\n",
        "print(f'Space 2: {PD(factored_evaluation_policies[1], factored_behaviour_policies[1], factored_state_action_maps[1], factored_state_numbers[1], factored_action_numbers[1])}')"
      ],
      "metadata": {
        "id": "AgEY10SyxuLC",
        "colab": {
          "base_uri": "https://localhost:8080/"
        },
        "outputId": "69d8e307-723d-4236-f4df-4f19655943e7"
      },
      "execution_count": null,
      "outputs": [
        {
          "output_type": "stream",
          "name": "stdout",
          "text": [
            "POLICY DIVERGENCE\n",
            "Top Level: 1.44\n",
            "Space 1: 1.2\n",
            "Space 2: 1.2\n"
          ]
        }
      ]
    },
    {
      "cell_type": "code",
      "source": [
        "print('MAXIMUM POLICY DISTANCE')\n",
        "print(f'Top Level: {MPD(pi_e, pi_b, state_action_map, state_numbers, action_numbers)}')\n",
        "print(f'Space 1: {MPD(factored_evaluation_policies[0], factored_behaviour_policies[0], factored_state_action_maps[0], factored_state_numbers[0], factored_action_numbers[0])}')\n",
        "print(f'Space 2: {MPD(factored_evaluation_policies[1], factored_behaviour_policies[1], factored_state_action_maps[1], factored_state_numbers[1], factored_action_numbers[1])}')"
      ],
      "metadata": {
        "colab": {
          "base_uri": "https://localhost:8080/"
        },
        "outputId": "f229b7a1-ee9b-40d9-b52f-34b8cad8207b",
        "id": "EmIYThoV2zta"
      },
      "execution_count": null,
      "outputs": [
        {
          "output_type": "stream",
          "name": "stdout",
          "text": [
            "MAXIMUM POLICY DISTANCE\n",
            "Top Level: 0.04027102710137771\n",
            "Space 1: 0.020135513550688863\n",
            "Space 2: 0.020135513550688863\n"
          ]
        }
      ]
    },
    {
      "cell_type": "markdown",
      "metadata": {
        "id": "r82C_kwiSRXZ"
      },
      "source": [
        "## Main Policy Divergence 2.56"
      ]
    },
    {
      "cell_type": "markdown",
      "source": [
        "Restart environment before running"
      ],
      "metadata": {
        "id": "m1BD2RbWzf5e"
      }
    },
    {
      "cell_type": "code",
      "source": [
        "import pandas as pd\n",
        "\n",
        "# Set up global information\n",
        "MAIN_REWARD_PATH = 'configs/1-step-MDP/evaluation-policy.csv'\n",
        "\n",
        "HORIZONTAL_REWARD_PATH = 'configs/1-step-MDP/factorisation/horizontal/evaluation-policy.csv'\n",
        "\n",
        "VERTICAL_REWARD_PATH = 'configs/1-step-MDP/factorisation/vertical/evaluation-policy.csv'\n",
        "\n",
        "# Modify and write everything\n",
        "main_data = [['state', 'up,right', 0.64],\n",
        "             ['state', 'up,left', 0.16],\n",
        "             ['state', 'down,right', 0.16],\n",
        "             ['state', 'down,left', 0.04]]\n",
        "\n",
        "main_reward_df = pd.DataFrame(main_data, columns=['state', 'action', 'probability'])\n",
        "main_reward_df.to_csv(MAIN_REWARD_PATH)\n",
        "\n",
        "horizontal_data = [['state', 'right', 0.8],\n",
        "                   ['state', 'left', 0.2]]\n",
        "horizontal_reward_df = pd.DataFrame(horizontal_data, columns=['state', 'action', 'probability'])\n",
        "horizontal_reward_df.to_csv(HORIZONTAL_REWARD_PATH)\n",
        "\n",
        "vertical_data = [['state', 'up', 0.8],\n",
        "                 ['state', 'down', 0.2]]\n",
        "vertical_reward_df = pd.DataFrame(vertical_data, columns=['state', 'action', 'probability'])\n",
        "vertical_reward_df.to_csv(VERTICAL_REWARD_PATH)"
      ],
      "metadata": {
        "id": "H-fOuZ35j3iG"
      },
      "execution_count": null,
      "outputs": []
    },
    {
      "cell_type": "code",
      "source": [
        "import sys\n",
        "sys.argv[1] = '1-step-MDP'\n",
        "import numpy as np\n",
        "import policy_estimators as pe\n",
        "from load_discrete_MDP import state_action_map, pi_b, pi_e\n",
        "from load_discrete_MDP import factored_behaviour_policies, factored_evaluation_policies, factored_state_action_maps\n",
        "from load_discrete_MDP import state_numbers, action_numbers, factored_state_numbers, factored_action_numbers\n",
        "import gc"
      ],
      "metadata": {
        "id": "XSd1nRhKSRXk"
      },
      "execution_count": null,
      "outputs": []
    },
    {
      "cell_type": "code",
      "source": [
        "print('POLICY DIVERGENCE')\n",
        "print(f'Top Level: {PD(pi_e, pi_b, state_action_map, state_numbers, action_numbers)}')\n",
        "print(f'Space 1: {PD(factored_evaluation_policies[0], factored_behaviour_policies[0], factored_state_action_maps[0], factored_state_numbers[0], factored_action_numbers[0])}')\n",
        "print(f'Space 2: {PD(factored_evaluation_policies[1], factored_behaviour_policies[1], factored_state_action_maps[1], factored_state_numbers[1], factored_action_numbers[1])}')"
      ],
      "metadata": {
        "colab": {
          "base_uri": "https://localhost:8080/"
        },
        "outputId": "857824bd-7375-49d3-cd96-44182ac77a0c",
        "id": "KExWVwQm3d-Q"
      },
      "execution_count": null,
      "outputs": [
        {
          "output_type": "stream",
          "name": "stdout",
          "text": [
            "POLICY DIVERGENCE\n",
            "Top Level: 2.56\n",
            "Space 1: 1.6\n",
            "Space 2: 1.6\n"
          ]
        }
      ]
    },
    {
      "cell_type": "code",
      "source": [
        "print('MAXIMUM POLICY DISTANCE')\n",
        "print(f'Top Level: {MPD(pi_e, pi_b, state_action_map, state_numbers, action_numbers)}')\n",
        "print(f'Space 1: {MPD(factored_evaluation_policies[0], factored_behaviour_policies[0], factored_state_action_maps[0], factored_state_numbers[0], factored_action_numbers[0])}')\n",
        "print(f'Space 2: {MPD(factored_evaluation_policies[1], factored_behaviour_policies[1], factored_state_action_maps[1], factored_state_numbers[1], factored_action_numbers[1])}')"
      ],
      "metadata": {
        "colab": {
          "base_uri": "https://localhost:8080/"
        },
        "outputId": "eaaedf77-aa29-4485-9e1f-16163ffa29e7",
        "id": "b-jLJMMi3d-S"
      },
      "execution_count": null,
      "outputs": [
        {
          "output_type": "stream",
          "name": "stdout",
          "text": [
            "MAXIMUM POLICY DISTANCE\n",
            "Top Level: 0.38548951404351484\n",
            "Space 1: 0.19274475702175753\n",
            "Space 2: 0.19274475702175753\n"
          ]
        }
      ]
    },
    {
      "cell_type": "markdown",
      "metadata": {
        "id": "C5sxSN6HSgYO"
      },
      "source": [
        "## Main Policy Divergence 3.61"
      ]
    },
    {
      "cell_type": "markdown",
      "source": [
        "Restart runtime before running"
      ],
      "metadata": {
        "id": "H3_GXpyrz_pU"
      }
    },
    {
      "cell_type": "code",
      "source": [
        "import pandas as pd\n",
        "\n",
        "# Set up global information\n",
        "MAIN_REWARD_PATH = 'configs/1-step-MDP/evaluation-policy.csv'\n",
        "\n",
        "HORIZONTAL_REWARD_PATH = 'configs/1-step-MDP/factorisation/horizontal/evaluation-policy.csv'\n",
        "\n",
        "VERTICAL_REWARD_PATH = 'configs/1-step-MDP/factorisation/vertical/evaluation-policy.csv'\n",
        "\n",
        "# Modify and write everything\n",
        "main_data = [['state', 'up,right', 0.9025],\n",
        "             ['state', 'up,left', 0.0475],\n",
        "             ['state', 'down,right', 0.0475],\n",
        "             ['state', 'down,left', 0.0025]]\n",
        "\n",
        "main_reward_df = pd.DataFrame(main_data, columns=['state', 'action', 'probability'])\n",
        "main_reward_df.to_csv(MAIN_REWARD_PATH)\n",
        "\n",
        "horizontal_data = [['state', 'right', 0.95],\n",
        "                   ['state', 'left', 0.05]]\n",
        "horizontal_reward_df = pd.DataFrame(horizontal_data, columns=['state', 'action', 'probability'])\n",
        "horizontal_reward_df.to_csv(HORIZONTAL_REWARD_PATH)\n",
        "\n",
        "vertical_data = [['state', 'up', 0.95],\n",
        "                 ['state', 'down', 0.05]]\n",
        "vertical_reward_df = pd.DataFrame(vertical_data, columns=['state', 'action', 'probability'])\n",
        "vertical_reward_df.to_csv(VERTICAL_REWARD_PATH)"
      ],
      "metadata": {
        "id": "QmHlxXgLt7Iu"
      },
      "execution_count": null,
      "outputs": []
    },
    {
      "cell_type": "code",
      "source": [
        "import sys\n",
        "sys.argv[1] = '1-step-MDP'\n",
        "import numpy as np\n",
        "import policy_estimators as pe\n",
        "from load_discrete_MDP import state_action_map, pi_b, pi_e\n",
        "from load_discrete_MDP import factored_behaviour_policies, factored_evaluation_policies, factored_state_action_maps\n",
        "from load_discrete_MDP import state_numbers, action_numbers, factored_state_numbers, factored_action_numbers\n",
        "import gc"
      ],
      "metadata": {
        "id": "bOVY8J6kSgYY"
      },
      "execution_count": null,
      "outputs": []
    },
    {
      "cell_type": "code",
      "source": [
        "print('POLICY DIVERGENCE')\n",
        "print(f'Top Level: {PD(pi_e, pi_b, state_action_map, state_numbers, action_numbers)}')\n",
        "print(f'Space 1: {PD(factored_evaluation_policies[0], factored_behaviour_policies[0], factored_state_action_maps[0], factored_state_numbers[0], factored_action_numbers[0])}')\n",
        "print(f'Space 2: {PD(factored_evaluation_policies[1], factored_behaviour_policies[1], factored_state_action_maps[1], factored_state_numbers[1], factored_action_numbers[1])}')"
      ],
      "metadata": {
        "colab": {
          "base_uri": "https://localhost:8080/"
        },
        "outputId": "aef08959-b158-46ac-902d-2a6da281a123",
        "id": "QD7Tpsxr3px5"
      },
      "execution_count": null,
      "outputs": [
        {
          "output_type": "stream",
          "name": "stdout",
          "text": [
            "POLICY DIVERGENCE\n",
            "Top Level: 3.61\n",
            "Space 1: 1.9\n",
            "Space 2: 1.9\n"
          ]
        }
      ]
    },
    {
      "cell_type": "code",
      "source": [
        "print('MAXIMUM POLICY DISTANCE')\n",
        "print(f'Top Level: {MPD(pi_e, pi_b, state_action_map, state_numbers, action_numbers)}')\n",
        "print(f'Space 1: {MPD(factored_evaluation_policies[0], factored_behaviour_policies[0], factored_state_action_maps[0], factored_state_numbers[0], factored_action_numbers[0])}')\n",
        "print(f'Space 2: {MPD(factored_evaluation_policies[1], factored_behaviour_policies[1], factored_state_action_maps[1], factored_state_numbers[1], factored_action_numbers[1])}')"
      ],
      "metadata": {
        "colab": {
          "base_uri": "https://localhost:8080/"
        },
        "outputId": "144651d2-8911-4655-f24b-dbc0439bfbb6",
        "id": "5FZVD2i-3pyS"
      },
      "execution_count": null,
      "outputs": [
        {
          "output_type": "stream",
          "name": "stdout",
          "text": [
            "MAXIMUM POLICY DISTANCE\n",
            "Top Level: 0.9892638744281455\n",
            "Space 1: 0.4946319372140727\n",
            "Space 2: 0.4946319372140727\n"
          ]
        }
      ]
    },
    {
      "cell_type": "markdown",
      "source": [
        "## Main Policy Divergence 4.46"
      ],
      "metadata": {
        "id": "Zz_eQrwNqO4Y"
      }
    },
    {
      "cell_type": "markdown",
      "source": [
        "Restart environment before running"
      ],
      "metadata": {
        "id": "rKFQmSE00hbM"
      }
    },
    {
      "cell_type": "code",
      "source": [
        "import pandas as pd\n",
        "\n",
        "# Set up global information\n",
        "MAIN_REWARD_PATH_B = 'configs/1-step-MDP/behaviour-policy.csv'\n",
        "HORIZONTAL_REWARD_PATH_B = 'configs/1-step-MDP/factorisation/horizontal/behaviour-policy.csv'\n",
        "VERTICAL_REWARD_PATH_B = 'configs/1-step-MDP/factorisation/vertical/behaviour-policy.csv'\n",
        "\n",
        "MAIN_REWARD_PATH_E = 'configs/1-step-MDP/evaluation-policy.csv'\n",
        "HORIZONTAL_REWARD_PATH_E = 'configs/1-step-MDP/factorisation/horizontal/evaluation-policy.csv'\n",
        "VERTICAL_REWARD_PATH_E = 'configs/1-step-MDP/factorisation/vertical/evaluation-policy.csv'\n",
        "\n",
        "# Modify and write evaluation policy\n",
        "main_data = [['state', 'up,right', 0.9025],\n",
        "             ['state', 'up,left', 0.0475],\n",
        "             ['state', 'down,right', 0.0475],\n",
        "             ['state', 'down,left', 0.0025]]\n",
        "\n",
        "main_reward_df = pd.DataFrame(main_data, columns=['state', 'action', 'probability'])\n",
        "main_reward_df.to_csv(MAIN_REWARD_PATH_E)\n",
        "\n",
        "horizontal_data = [['state', 'right', 0.95],\n",
        "                   ['state', 'left', 0.05]]\n",
        "horizontal_reward_df = pd.DataFrame(horizontal_data, columns=['state', 'action', 'probability'])\n",
        "horizontal_reward_df.to_csv(HORIZONTAL_REWARD_PATH_E)\n",
        "\n",
        "vertical_data = [['state', 'up', 0.95],\n",
        "                 ['state', 'down', 0.05]]\n",
        "vertical_reward_df = pd.DataFrame(vertical_data, columns=['state', 'action', 'probability'])\n",
        "vertical_reward_df.to_csv(VERTICAL_REWARD_PATH_E)\n",
        "\n",
        "# Modify and write behaviour policy\n",
        "main_data = [['state', 'up,right', 0.2025],\n",
        "             ['state', 'up,left', 0.2475],\n",
        "             ['state', 'down,right', 0.2475],\n",
        "             ['state', 'down,left', 0.3025]]\n",
        "\n",
        "main_reward_df = pd.DataFrame(main_data, columns=['state', 'action', 'probability'])\n",
        "main_reward_df.to_csv(MAIN_REWARD_PATH_B)\n",
        "\n",
        "horizontal_data = [['state', 'right', 0.45],\n",
        "                   ['state', 'left', 0.55]]\n",
        "horizontal_reward_df = pd.DataFrame(horizontal_data, columns=['state', 'action', 'probability'])\n",
        "horizontal_reward_df.to_csv(HORIZONTAL_REWARD_PATH_B)\n",
        "\n",
        "vertical_data = [['state', 'up', 0.45],\n",
        "                 ['state', 'down', 0.55]]\n",
        "vertical_reward_df = pd.DataFrame(vertical_data, columns=['state', 'action', 'probability'])\n",
        "vertical_reward_df.to_csv(VERTICAL_REWARD_PATH_B)"
      ],
      "metadata": {
        "id": "zwFCgHJ2qO4p"
      },
      "execution_count": null,
      "outputs": []
    },
    {
      "cell_type": "code",
      "source": [
        "import sys\n",
        "sys.argv[1] = '1-step-MDP'\n",
        "import numpy as np\n",
        "import policy_estimators as pe\n",
        "from load_discrete_MDP import state_action_map, pi_b, pi_e\n",
        "from load_discrete_MDP import factored_behaviour_policies, factored_evaluation_policies, factored_state_action_maps\n",
        "from load_discrete_MDP import state_numbers, action_numbers, factored_state_numbers, factored_action_numbers\n",
        "import gc"
      ],
      "metadata": {
        "id": "QLL6jUcDrbXw"
      },
      "execution_count": null,
      "outputs": []
    },
    {
      "cell_type": "code",
      "source": [
        "print('POLICY DIVERGENCE')\n",
        "print(f'Top Level: {PD(pi_e, pi_b, state_action_map, state_numbers, action_numbers)}')\n",
        "print(f'Space 1: {PD(factored_evaluation_policies[0], factored_behaviour_policies[0], factored_state_action_maps[0], factored_state_numbers[0], factored_action_numbers[0])}')\n",
        "print(f'Space 2: {PD(factored_evaluation_policies[1], factored_behaviour_policies[1], factored_state_action_maps[1], factored_state_numbers[1], factored_action_numbers[1])}')"
      ],
      "metadata": {
        "colab": {
          "base_uri": "https://localhost:8080/"
        },
        "outputId": "de2f61ca-5469-4a9e-ccc0-54eab37531c7",
        "id": "8KIy_Gwj3v-M"
      },
      "execution_count": null,
      "outputs": [
        {
          "output_type": "stream",
          "name": "stdout",
          "text": [
            "POLICY DIVERGENCE\n",
            "Top Level: 4.4567901234567895\n",
            "Space 1: 2.111111111111111\n",
            "Space 2: 2.111111111111111\n"
          ]
        }
      ]
    },
    {
      "cell_type": "code",
      "source": [
        "print('MAXIMUM POLICY DISTANCE')\n",
        "print(f'Top Level: {MPD(pi_e, pi_b, state_action_map, state_numbers, action_numbers)}')\n",
        "print(f'Space 1: {MPD(factored_evaluation_policies[0], factored_behaviour_policies[0], factored_state_action_maps[0], factored_state_numbers[0], factored_action_numbers[0])}')\n",
        "print(f'Space 2: {MPD(factored_evaluation_policies[1], factored_behaviour_policies[1], factored_state_action_maps[1], factored_state_numbers[1], factored_action_numbers[1])}')"
      ],
      "metadata": {
        "colab": {
          "base_uri": "https://localhost:8080/"
        },
        "outputId": "598e8f26-8e4e-411c-8c00-85397c1b540d",
        "id": "sWMldNPA3v-P"
      },
      "execution_count": null,
      "outputs": [
        {
          "output_type": "stream",
          "name": "stdout",
          "text": [
            "MAXIMUM POLICY DISTANCE\n",
            "Top Level: 1.1799178361975828\n",
            "Space 1: 0.5899589180987915\n",
            "Space 2: 0.5899589180987915\n"
          ]
        }
      ]
    },
    {
      "cell_type": "markdown",
      "source": [
        "## Main Policy Divergence 5.64"
      ],
      "metadata": {
        "id": "vsMS-J9IfNCK"
      }
    },
    {
      "cell_type": "markdown",
      "source": [
        "Restart environment before running"
      ],
      "metadata": {
        "id": "iyUNuC2Q0Hfg"
      }
    },
    {
      "cell_type": "code",
      "source": [
        "import pandas as pd\n",
        "\n",
        "# Set up global information\n",
        "MAIN_REWARD_PATH_B = 'configs/1-step-MDP/behaviour-policy.csv'\n",
        "HORIZONTAL_REWARD_PATH_B = 'configs/1-step-MDP/factorisation/horizontal/behaviour-policy.csv'\n",
        "VERTICAL_REWARD_PATH_B = 'configs/1-step-MDP/factorisation/vertical/behaviour-policy.csv'\n",
        "\n",
        "MAIN_REWARD_PATH_E = 'configs/1-step-MDP/evaluation-policy.csv'\n",
        "HORIZONTAL_REWARD_PATH_E = 'configs/1-step-MDP/factorisation/horizontal/evaluation-policy.csv'\n",
        "VERTICAL_REWARD_PATH_E = 'configs/1-step-MDP/factorisation/vertical/evaluation-policy.csv'\n",
        "\n",
        "# Modify and write evaluation policy\n",
        "main_data = [['state', 'up,right', 0.9025],\n",
        "             ['state', 'up,left', 0.0475],\n",
        "             ['state', 'down,right', 0.0475],\n",
        "             ['state', 'down,left', 0.0025]]\n",
        "\n",
        "main_reward_df = pd.DataFrame(main_data, columns=['state', 'action', 'probability'])\n",
        "main_reward_df.to_csv(MAIN_REWARD_PATH_E)\n",
        "\n",
        "horizontal_data = [['state', 'right', 0.95],\n",
        "                   ['state', 'left', 0.05]]\n",
        "horizontal_reward_df = pd.DataFrame(horizontal_data, columns=['state', 'action', 'probability'])\n",
        "horizontal_reward_df.to_csv(HORIZONTAL_REWARD_PATH_E)\n",
        "\n",
        "vertical_data = [['state', 'up', 0.95],\n",
        "                 ['state', 'down', 0.05]]\n",
        "vertical_reward_df = pd.DataFrame(vertical_data, columns=['state', 'action', 'probability'])\n",
        "vertical_reward_df.to_csv(VERTICAL_REWARD_PATH_E)\n",
        "\n",
        "# Modify and write behaviour policy\n",
        "main_data = [['state', 'up,right', 0.16],\n",
        "             ['state', 'up,left', 0.24],\n",
        "             ['state', 'down,right', 0.24],\n",
        "             ['state', 'down,left', 0.36]]\n",
        "\n",
        "main_reward_df = pd.DataFrame(main_data, columns=['state', 'action', 'probability'])\n",
        "main_reward_df.to_csv(MAIN_REWARD_PATH_B)\n",
        "\n",
        "horizontal_data = [['state', 'right', 0.4],\n",
        "                   ['state', 'left', 0.6]]\n",
        "horizontal_reward_df = pd.DataFrame(horizontal_data, columns=['state', 'action', 'probability'])\n",
        "horizontal_reward_df.to_csv(HORIZONTAL_REWARD_PATH_B)\n",
        "\n",
        "vertical_data = [['state', 'up', 0.4],\n",
        "                 ['state', 'down', 0.6]]\n",
        "vertical_reward_df = pd.DataFrame(vertical_data, columns=['state', 'action', 'probability'])\n",
        "vertical_reward_df.to_csv(VERTICAL_REWARD_PATH_B)"
      ],
      "metadata": {
        "id": "Y620bnMJfNCL"
      },
      "execution_count": null,
      "outputs": []
    },
    {
      "cell_type": "code",
      "source": [
        "import sys\n",
        "sys.argv[1] = '1-step-MDP'\n",
        "import numpy as np\n",
        "import policy_estimators as pe\n",
        "from load_discrete_MDP import state_action_map, pi_b, pi_e\n",
        "from load_discrete_MDP import factored_behaviour_policies, factored_evaluation_policies, factored_state_action_maps\n",
        "from load_discrete_MDP import state_numbers, action_numbers, factored_state_numbers, factored_action_numbers\n",
        "import gc"
      ],
      "metadata": {
        "id": "klehNC2jfNCO"
      },
      "execution_count": null,
      "outputs": []
    },
    {
      "cell_type": "code",
      "source": [
        "print('POLICY DIVERGENCE')\n",
        "print(f'Top Level: {PD(pi_e, pi_b, state_action_map, state_numbers, action_numbers)}')\n",
        "print(f'Space 1: {PD(factored_evaluation_policies[0], factored_behaviour_policies[0], factored_state_action_maps[0], factored_state_numbers[0], factored_action_numbers[0])}')\n",
        "print(f'Space 2: {PD(factored_evaluation_policies[1], factored_behaviour_policies[1], factored_state_action_maps[1], factored_state_numbers[1], factored_action_numbers[1])}')"
      ],
      "metadata": {
        "colab": {
          "base_uri": "https://localhost:8080/"
        },
        "outputId": "01f2c23a-6b32-4ebc-bbad-9fe5d54114b7",
        "id": "PtO9Mc2y3-Ob"
      },
      "execution_count": null,
      "outputs": [
        {
          "output_type": "stream",
          "name": "stdout",
          "text": [
            "POLICY DIVERGENCE\n",
            "Top Level: 5.640625\n",
            "Space 1: 2.3749999999999996\n",
            "Space 2: 2.3749999999999996\n"
          ]
        }
      ]
    },
    {
      "cell_type": "code",
      "source": [
        "print('MAXIMUM POLICY DISTANCE')\n",
        "print(f'Top Level: {MPD(pi_e, pi_b, state_action_map, state_numbers, action_numbers)}')\n",
        "print(f'Space 1: {MPD(factored_evaluation_policies[0], factored_behaviour_policies[0], factored_state_action_maps[0], factored_state_numbers[0], factored_action_numbers[0])}')\n",
        "print(f'Space 2: {MPD(factored_evaluation_policies[1], factored_behaviour_policies[1], factored_state_action_maps[1], factored_state_numbers[1], factored_action_numbers[1])}')"
      ],
      "metadata": {
        "colab": {
          "base_uri": "https://localhost:8080/"
        },
        "outputId": "ff704ef6-b5ef-4d5f-c7d5-9caba4747436",
        "id": "lhjM1V3Q3-Om"
      },
      "execution_count": null,
      "outputs": [
        {
          "output_type": "stream",
          "name": "stdout",
          "text": [
            "MAXIMUM POLICY DISTANCE\n",
            "Top Level: 1.3950044662457486\n",
            "Space 1: 0.697502233122874\n",
            "Space 2: 0.697502233122874\n"
          ]
        }
      ]
    },
    {
      "cell_type": "markdown",
      "source": [
        "## Main Policy Divergence 10.03"
      ],
      "metadata": {
        "id": "dUa5IbTYPwJ8"
      }
    },
    {
      "cell_type": "markdown",
      "source": [
        "Restart environment before running"
      ],
      "metadata": {
        "id": "qD6thrzz0VEo"
      }
    },
    {
      "cell_type": "code",
      "source": [
        "import pandas as pd\n",
        "\n",
        "# Set up global information\n",
        "MAIN_REWARD_PATH_B = 'configs/1-step-MDP/behaviour-policy.csv'\n",
        "HORIZONTAL_REWARD_PATH_B = 'configs/1-step-MDP/factorisation/horizontal/behaviour-policy.csv'\n",
        "VERTICAL_REWARD_PATH_B = 'configs/1-step-MDP/factorisation/vertical/behaviour-policy.csv'\n",
        "\n",
        "MAIN_REWARD_PATH_E = 'configs/1-step-MDP/evaluation-policy.csv'\n",
        "HORIZONTAL_REWARD_PATH_E = 'configs/1-step-MDP/factorisation/horizontal/evaluation-policy.csv'\n",
        "VERTICAL_REWARD_PATH_E = 'configs/1-step-MDP/factorisation/vertical/evaluation-policy.csv'\n",
        "\n",
        "# Modify and write evaluation policy\n",
        "main_data = [['state', 'up,right', 0.9025],\n",
        "             ['state', 'up,left', 0.0475],\n",
        "             ['state', 'down,right', 0.0475],\n",
        "             ['state', 'down,left', 0.0025]]\n",
        "\n",
        "main_reward_df = pd.DataFrame(main_data, columns=['state', 'action', 'probability'])\n",
        "main_reward_df.to_csv(MAIN_REWARD_PATH_E)\n",
        "\n",
        "horizontal_data = [['state', 'right', 0.95],\n",
        "                   ['state', 'left', 0.05]]\n",
        "horizontal_reward_df = pd.DataFrame(horizontal_data, columns=['state', 'action', 'probability'])\n",
        "horizontal_reward_df.to_csv(HORIZONTAL_REWARD_PATH_E)\n",
        "\n",
        "vertical_data = [['state', 'up', 0.95],\n",
        "                 ['state', 'down', 0.05]]\n",
        "vertical_reward_df = pd.DataFrame(vertical_data, columns=['state', 'action', 'probability'])\n",
        "vertical_reward_df.to_csv(VERTICAL_REWARD_PATH_E)\n",
        "\n",
        "# Modify and write behaviour policy\n",
        "main_data = [['state', 'up,right', 0.09],\n",
        "             ['state', 'up,left', 0.21],\n",
        "             ['state', 'down,right', 0.21],\n",
        "             ['state', 'down,left', 0.49]]\n",
        "\n",
        "main_reward_df = pd.DataFrame(main_data, columns=['state', 'action', 'probability'])\n",
        "main_reward_df.to_csv(MAIN_REWARD_PATH_B)\n",
        "\n",
        "horizontal_data = [['state', 'right', 0.3],\n",
        "                   ['state', 'left', 0.7]]\n",
        "horizontal_reward_df = pd.DataFrame(horizontal_data, columns=['state', 'action', 'probability'])\n",
        "horizontal_reward_df.to_csv(HORIZONTAL_REWARD_PATH_B)\n",
        "\n",
        "vertical_data = [['state', 'up', 0.3],\n",
        "                 ['state', 'down', 0.7]]\n",
        "vertical_reward_df = pd.DataFrame(vertical_data, columns=['state', 'action', 'probability'])\n",
        "vertical_reward_df.to_csv(VERTICAL_REWARD_PATH_B)"
      ],
      "metadata": {
        "id": "aEqBEaJJP0hn"
      },
      "execution_count": null,
      "outputs": []
    },
    {
      "cell_type": "code",
      "source": [
        "import sys\n",
        "sys.argv[1] = '1-step-MDP'\n",
        "import numpy as np\n",
        "import policy_estimators as pe\n",
        "from load_discrete_MDP import state_action_map, pi_b, pi_e\n",
        "from load_discrete_MDP import factored_behaviour_policies, factored_evaluation_policies, factored_state_action_maps\n",
        "from load_discrete_MDP import state_numbers, action_numbers, factored_state_numbers, factored_action_numbers\n",
        "import gc"
      ],
      "metadata": {
        "id": "LJbHLIFsRtpi"
      },
      "execution_count": null,
      "outputs": []
    },
    {
      "cell_type": "code",
      "source": [
        "print('POLICY DIVERGENCE')\n",
        "print(f'Top Level: {PD(pi_e, pi_b, state_action_map, state_numbers, action_numbers)}')\n",
        "print(f'Space 1: {PD(factored_evaluation_policies[0], factored_behaviour_policies[0], factored_state_action_maps[0], factored_state_numbers[0], factored_action_numbers[0])}')\n",
        "print(f'Space 2: {PD(factored_evaluation_policies[1], factored_behaviour_policies[1], factored_state_action_maps[1], factored_state_numbers[1], factored_action_numbers[1])}')"
      ],
      "metadata": {
        "colab": {
          "base_uri": "https://localhost:8080/"
        },
        "outputId": "ce0c7dde-45aa-4c1f-fc41-21f51398258d",
        "id": "IehrWTJT4H5E"
      },
      "execution_count": null,
      "outputs": [
        {
          "output_type": "stream",
          "name": "stdout",
          "text": [
            "POLICY DIVERGENCE\n",
            "Top Level: 10.027777777777779\n",
            "Space 1: 3.1666666666666665\n",
            "Space 2: 3.1666666666666665\n"
          ]
        }
      ]
    },
    {
      "cell_type": "code",
      "source": [
        "print('MAXIMUM POLICY DISTANCE')\n",
        "print(f'Top Level: {MPD(pi_e, pi_b, state_action_map, state_numbers, action_numbers)}')\n",
        "print(f'Space 1: {MPD(factored_evaluation_policies[0], factored_behaviour_policies[0], factored_state_action_maps[0], factored_state_numbers[0], factored_action_numbers[0])}')\n",
        "print(f'Space 2: {MPD(factored_evaluation_policies[1], factored_behaviour_policies[1], factored_state_action_maps[1], factored_state_numbers[1], factored_action_numbers[1])}')"
      ],
      "metadata": {
        "colab": {
          "base_uri": "https://localhost:8080/"
        },
        "outputId": "efa79f60-66b6-48c1-a1ae-a09cca215c67",
        "id": "lgLmOf3m4H5G"
      },
      "execution_count": null,
      "outputs": [
        {
          "output_type": "stream",
          "name": "stdout",
          "text": [
            "MAXIMUM POLICY DISTANCE\n",
            "Top Level: 1.9261853359214065\n",
            "Space 1: 0.963092667960703\n",
            "Space 2: 0.963092667960703\n"
          ]
        }
      ]
    },
    {
      "cell_type": "markdown",
      "source": [
        "## Main Policy Divergence 22.56"
      ],
      "metadata": {
        "id": "Qz-uddLHhhGa"
      }
    },
    {
      "cell_type": "markdown",
      "source": [
        "Restart environment before running"
      ],
      "metadata": {
        "id": "1_Igqp5x0v_L"
      }
    },
    {
      "cell_type": "code",
      "source": [
        "import pandas as pd\n",
        "\n",
        "# Set up global information\n",
        "MAIN_REWARD_PATH_B = 'configs/1-step-MDP/behaviour-policy.csv'\n",
        "HORIZONTAL_REWARD_PATH_B = 'configs/1-step-MDP/factorisation/horizontal/behaviour-policy.csv'\n",
        "VERTICAL_REWARD_PATH_B = 'configs/1-step-MDP/factorisation/vertical/behaviour-policy.csv'\n",
        "\n",
        "MAIN_REWARD_PATH_E = 'configs/1-step-MDP/evaluation-policy.csv'\n",
        "HORIZONTAL_REWARD_PATH_E = 'configs/1-step-MDP/factorisation/horizontal/evaluation-policy.csv'\n",
        "VERTICAL_REWARD_PATH_E = 'configs/1-step-MDP/factorisation/vertical/evaluation-policy.csv'\n",
        "\n",
        "# Modify and write evaluation policy\n",
        "main_data = [['state', 'up,right', 0.9025],\n",
        "             ['state', 'up,left', 0.0475],\n",
        "             ['state', 'down,right', 0.0475],\n",
        "             ['state', 'down,left', 0.0025]]\n",
        "\n",
        "main_reward_df = pd.DataFrame(main_data, columns=['state', 'action', 'probability'])\n",
        "main_reward_df.to_csv(MAIN_REWARD_PATH_E)\n",
        "\n",
        "horizontal_data = [['state', 'right', 0.95],\n",
        "                   ['state', 'left', 0.05]]\n",
        "horizontal_reward_df = pd.DataFrame(horizontal_data, columns=['state', 'action', 'probability'])\n",
        "horizontal_reward_df.to_csv(HORIZONTAL_REWARD_PATH_E)\n",
        "\n",
        "vertical_data = [['state', 'up', 0.95],\n",
        "                 ['state', 'down', 0.05]]\n",
        "vertical_reward_df = pd.DataFrame(vertical_data, columns=['state', 'action', 'probability'])\n",
        "vertical_reward_df.to_csv(VERTICAL_REWARD_PATH_E)\n",
        "\n",
        "# Modify and write behaviour policy\n",
        "main_data = [['state', 'up,right', 0.04],\n",
        "             ['state', 'up,left', 0.16],\n",
        "             ['state', 'down,right', 0.16],\n",
        "             ['state', 'down,left', 0.64]]\n",
        "\n",
        "main_reward_df = pd.DataFrame(main_data, columns=['state', 'action', 'probability'])\n",
        "main_reward_df.to_csv(MAIN_REWARD_PATH_B)\n",
        "\n",
        "horizontal_data = [['state', 'right', 0.2],\n",
        "                   ['state', 'left', 0.8]]\n",
        "horizontal_reward_df = pd.DataFrame(horizontal_data, columns=['state', 'action', 'probability'])\n",
        "horizontal_reward_df.to_csv(HORIZONTAL_REWARD_PATH_B)\n",
        "\n",
        "vertical_data = [['state', 'up', 0.2],\n",
        "                 ['state', 'down', 0.8]]\n",
        "vertical_reward_df = pd.DataFrame(vertical_data, columns=['state', 'action', 'probability'])\n",
        "vertical_reward_df.to_csv(VERTICAL_REWARD_PATH_B)"
      ],
      "metadata": {
        "id": "TkOvmGTzhhGu"
      },
      "execution_count": null,
      "outputs": []
    },
    {
      "cell_type": "code",
      "source": [
        "import sys\n",
        "sys.argv[1] = '1-step-MDP'\n",
        "import numpy as np\n",
        "import policy_estimators as pe\n",
        "from load_discrete_MDP import state_action_map, pi_b, pi_e\n",
        "from load_discrete_MDP import factored_behaviour_policies, factored_evaluation_policies, factored_state_action_maps\n",
        "from load_discrete_MDP import state_numbers, action_numbers, factored_state_numbers, factored_action_numbers\n",
        "import gc"
      ],
      "metadata": {
        "id": "DsRq9ffchhGw"
      },
      "execution_count": null,
      "outputs": []
    },
    {
      "cell_type": "code",
      "source": [
        "print('POLICY DIVERGENCE')\n",
        "print(f'Top Level: {PD(pi_e, pi_b, state_action_map, state_numbers, action_numbers)}')\n",
        "print(f'Space 1: {PD(factored_evaluation_policies[0], factored_behaviour_policies[0], factored_state_action_maps[0], factored_state_numbers[0], factored_action_numbers[0])}')\n",
        "print(f'Space 2: {PD(factored_evaluation_policies[1], factored_behaviour_policies[1], factored_state_action_maps[1], factored_state_numbers[1], factored_action_numbers[1])}')"
      ],
      "metadata": {
        "colab": {
          "base_uri": "https://localhost:8080/"
        },
        "outputId": "117b8307-f9b0-4c8f-e430-7c8f784efcf2",
        "id": "94R5Qvcr4S8O"
      },
      "execution_count": null,
      "outputs": [
        {
          "output_type": "stream",
          "name": "stdout",
          "text": [
            "POLICY DIVERGENCE\n",
            "Top Level: 22.5625\n",
            "Space 1: 4.749999999999999\n",
            "Space 2: 4.749999999999999\n"
          ]
        }
      ]
    },
    {
      "cell_type": "code",
      "source": [
        "print('MAXIMUM POLICY DISTANCE')\n",
        "print(f'Top Level: {MPD(pi_e, pi_b, state_action_map, state_numbers, action_numbers)}')\n",
        "print(f'Space 1: {MPD(factored_evaluation_policies[0], factored_behaviour_policies[0], factored_state_action_maps[0], factored_state_numbers[0], factored_action_numbers[0])}')\n",
        "print(f'Space 2: {MPD(factored_evaluation_policies[1], factored_behaviour_policies[1], factored_state_action_maps[1], factored_state_numbers[1], factored_action_numbers[1])}')"
      ],
      "metadata": {
        "colab": {
          "base_uri": "https://localhost:8080/"
        },
        "outputId": "f0589d31-b200-4d11-d933-f8b7844c9eb7",
        "id": "F4wNyniE4S8Z"
      },
      "execution_count": null,
      "outputs": [
        {
          "output_type": "stream",
          "name": "stdout",
          "text": [
            "MAXIMUM POLICY DISTANCE\n",
            "Top Level: 2.6832159020644664\n",
            "Space 1: 1.341607951032233\n",
            "Space 2: 1.341607951032233\n"
          ]
        }
      ]
    },
    {
      "cell_type": "markdown",
      "source": [
        "## Main Policy Divergence 90.25"
      ],
      "metadata": {
        "id": "AfgGyRqKlNbe"
      }
    },
    {
      "cell_type": "markdown",
      "source": [
        "Restart environment before running"
      ],
      "metadata": {
        "id": "wqFygYYv0wqw"
      }
    },
    {
      "cell_type": "code",
      "source": [
        "import pandas as pd\n",
        "\n",
        "# Set up global information\n",
        "MAIN_REWARD_PATH_B = 'configs/1-step-MDP/behaviour-policy.csv'\n",
        "HORIZONTAL_REWARD_PATH_B = 'configs/1-step-MDP/factorisation/horizontal/behaviour-policy.csv'\n",
        "VERTICAL_REWARD_PATH_B = 'configs/1-step-MDP/factorisation/vertical/behaviour-policy.csv'\n",
        "\n",
        "MAIN_REWARD_PATH_E = 'configs/1-step-MDP/evaluation-policy.csv'\n",
        "HORIZONTAL_REWARD_PATH_E = 'configs/1-step-MDP/factorisation/horizontal/evaluation-policy.csv'\n",
        "VERTICAL_REWARD_PATH_E = 'configs/1-step-MDP/factorisation/vertical/evaluation-policy.csv'\n",
        "\n",
        "# Modify and write evaluation policy\n",
        "main_data = [['state', 'up,right', 0.9025],\n",
        "             ['state', 'up,left', 0.0475],\n",
        "             ['state', 'down,right', 0.0475],\n",
        "             ['state', 'down,left', 0.0025]]\n",
        "\n",
        "main_reward_df = pd.DataFrame(main_data, columns=['state', 'action', 'probability'])\n",
        "main_reward_df.to_csv(MAIN_REWARD_PATH_E)\n",
        "\n",
        "horizontal_data = [['state', 'right', 0.95],\n",
        "                   ['state', 'left', 0.05]]\n",
        "horizontal_reward_df = pd.DataFrame(horizontal_data, columns=['state', 'action', 'probability'])\n",
        "horizontal_reward_df.to_csv(HORIZONTAL_REWARD_PATH_E)\n",
        "\n",
        "vertical_data = [['state', 'up', 0.95],\n",
        "                 ['state', 'down', 0.05]]\n",
        "vertical_reward_df = pd.DataFrame(vertical_data, columns=['state', 'action', 'probability'])\n",
        "vertical_reward_df.to_csv(VERTICAL_REWARD_PATH_E)\n",
        "\n",
        "# Modify and write behaviour policy\n",
        "main_data = [['state', 'up,right', 0.01],\n",
        "             ['state', 'up,left', 0.09],\n",
        "             ['state', 'down,right', 0.09],\n",
        "             ['state', 'down,left', 0.81]]\n",
        "\n",
        "main_reward_df = pd.DataFrame(main_data, columns=['state', 'action', 'probability'])\n",
        "main_reward_df.to_csv(MAIN_REWARD_PATH_B)\n",
        "\n",
        "horizontal_data = [['state', 'right', 0.1],\n",
        "                   ['state', 'left', 0.9]]\n",
        "horizontal_reward_df = pd.DataFrame(horizontal_data, columns=['state', 'action', 'probability'])\n",
        "horizontal_reward_df.to_csv(HORIZONTAL_REWARD_PATH_B)\n",
        "\n",
        "vertical_data = [['state', 'up', 0.1],\n",
        "                 ['state', 'down', 0.9]]\n",
        "vertical_reward_df = pd.DataFrame(vertical_data, columns=['state', 'action', 'probability'])\n",
        "vertical_reward_df.to_csv(VERTICAL_REWARD_PATH_B)"
      ],
      "metadata": {
        "id": "I-4VzoullNbn"
      },
      "execution_count": null,
      "outputs": []
    },
    {
      "cell_type": "code",
      "source": [
        "import sys\n",
        "sys.argv[1] = '1-step-MDP'\n",
        "import numpy as np\n",
        "import policy_estimators as pe\n",
        "from load_discrete_MDP import state_action_map, pi_b, pi_e\n",
        "from load_discrete_MDP import factored_behaviour_policies, factored_evaluation_policies, factored_state_action_maps\n",
        "from load_discrete_MDP import state_numbers, action_numbers, factored_state_numbers, factored_action_numbers\n",
        "import gc"
      ],
      "metadata": {
        "id": "YhsavfIKlNbo"
      },
      "execution_count": null,
      "outputs": []
    },
    {
      "cell_type": "code",
      "source": [
        "print('POLICY DIVERGENCE')\n",
        "print(f'Top Level: {PD(pi_e, pi_b, state_action_map, state_numbers, action_numbers)}')\n",
        "print(f'Space 1: {PD(factored_evaluation_policies[0], factored_behaviour_policies[0], factored_state_action_maps[0], factored_state_numbers[0], factored_action_numbers[0])}')\n",
        "print(f'Space 2: {PD(factored_evaluation_policies[1], factored_behaviour_policies[1], factored_state_action_maps[1], factored_state_numbers[1], factored_action_numbers[1])}')"
      ],
      "metadata": {
        "colab": {
          "base_uri": "https://localhost:8080/"
        },
        "outputId": "db0695c9-7bfe-45cd-b671-0f735aa887c2",
        "id": "tlSniNIo4lCB"
      },
      "execution_count": null,
      "outputs": [
        {
          "output_type": "stream",
          "name": "stdout",
          "text": [
            "POLICY DIVERGENCE\n",
            "Top Level: 90.25\n",
            "Space 1: 9.499999999999998\n",
            "Space 2: 9.499999999999998\n"
          ]
        }
      ]
    },
    {
      "cell_type": "code",
      "source": [
        "print('MAXIMUM POLICY DISTANCE')\n",
        "print(f'Top Level: {MPD(pi_e, pi_b, state_action_map, state_numbers, action_numbers)}')\n",
        "print(f'Space 1: {MPD(factored_evaluation_policies[0], factored_behaviour_policies[0], factored_state_action_maps[0], factored_state_numbers[0], factored_action_numbers[0])}')\n",
        "print(f'Space 2: {MPD(factored_evaluation_policies[1], factored_behaviour_policies[1], factored_state_action_maps[1], factored_state_numbers[1], factored_action_numbers[1])}')"
      ],
      "metadata": {
        "colab": {
          "base_uri": "https://localhost:8080/"
        },
        "outputId": "f0623949-8871-4c5e-c91f-8adf2741be9b",
        "id": "0pjh2Wy74lCL"
      },
      "execution_count": null,
      "outputs": [
        {
          "output_type": "stream",
          "name": "stdout",
          "text": [
            "MAXIMUM POLICY DISTANCE\n",
            "Top Level: 3.9884172415627255\n",
            "Space 1: 1.9942086207813616\n",
            "Space 2: 1.9942086207813616\n"
          ]
        }
      ]
    },
    {
      "cell_type": "markdown",
      "source": [
        "## Main Policy Divergence 361.0"
      ],
      "metadata": {
        "id": "eHpQ8EWqpSj6"
      }
    },
    {
      "cell_type": "markdown",
      "source": [
        "Restart environment before running"
      ],
      "metadata": {
        "id": "jampuBAr0xJW"
      }
    },
    {
      "cell_type": "code",
      "source": [
        "import pandas as pd\n",
        "\n",
        "# Set up global information\n",
        "MAIN_REWARD_PATH_B = 'configs/1-step-MDP/behaviour-policy.csv'\n",
        "HORIZONTAL_REWARD_PATH_B = 'configs/1-step-MDP/factorisation/horizontal/behaviour-policy.csv'\n",
        "VERTICAL_REWARD_PATH_B = 'configs/1-step-MDP/factorisation/vertical/behaviour-policy.csv'\n",
        "\n",
        "MAIN_REWARD_PATH_E = 'configs/1-step-MDP/evaluation-policy.csv'\n",
        "HORIZONTAL_REWARD_PATH_E = 'configs/1-step-MDP/factorisation/horizontal/evaluation-policy.csv'\n",
        "VERTICAL_REWARD_PATH_E = 'configs/1-step-MDP/factorisation/vertical/evaluation-policy.csv'\n",
        "\n",
        "# Modify and write evaluation policy\n",
        "main_data = [['state', 'up,right', 0.9025],\n",
        "             ['state', 'up,left', 0.0475],\n",
        "             ['state', 'down,right', 0.0475],\n",
        "             ['state', 'down,left', 0.0025]]\n",
        "\n",
        "main_reward_df = pd.DataFrame(main_data, columns=['state', 'action', 'probability'])\n",
        "main_reward_df.to_csv(MAIN_REWARD_PATH_E)\n",
        "\n",
        "horizontal_data = [['state', 'right', 0.95],\n",
        "                   ['state', 'left', 0.05]]\n",
        "horizontal_reward_df = pd.DataFrame(horizontal_data, columns=['state', 'action', 'probability'])\n",
        "horizontal_reward_df.to_csv(HORIZONTAL_REWARD_PATH_E)\n",
        "\n",
        "vertical_data = [['state', 'up', 0.95],\n",
        "                 ['state', 'down', 0.05]]\n",
        "vertical_reward_df = pd.DataFrame(vertical_data, columns=['state', 'action', 'probability'])\n",
        "vertical_reward_df.to_csv(VERTICAL_REWARD_PATH_E)\n",
        "\n",
        "# Modify and write behaviour policy\n",
        "main_data = [['state', 'up,right', 0.0025],\n",
        "             ['state', 'up,left', 0.0475],\n",
        "             ['state', 'down,right', 0.0475],\n",
        "             ['state', 'down,left', 0.9025]]\n",
        "\n",
        "main_reward_df = pd.DataFrame(main_data, columns=['state', 'action', 'probability'])\n",
        "main_reward_df.to_csv(MAIN_REWARD_PATH_B)\n",
        "\n",
        "horizontal_data = [['state', 'right', 0.05],\n",
        "                   ['state', 'left', 0.95]]\n",
        "horizontal_reward_df = pd.DataFrame(horizontal_data, columns=['state', 'action', 'probability'])\n",
        "horizontal_reward_df.to_csv(HORIZONTAL_REWARD_PATH_B)\n",
        "\n",
        "vertical_data = [['state', 'up', 0.05],\n",
        "                 ['state', 'down', 0.95]]\n",
        "vertical_reward_df = pd.DataFrame(vertical_data, columns=['state', 'action', 'probability'])\n",
        "vertical_reward_df.to_csv(VERTICAL_REWARD_PATH_B)"
      ],
      "metadata": {
        "id": "fqlqw2aQpSj6"
      },
      "execution_count": null,
      "outputs": []
    },
    {
      "cell_type": "code",
      "source": [
        "import sys\n",
        "sys.argv[1] = '1-step-MDP'\n",
        "import numpy as np\n",
        "import policy_estimators as pe\n",
        "from load_discrete_MDP import state_action_map, pi_b, pi_e\n",
        "from load_discrete_MDP import factored_behaviour_policies, factored_evaluation_policies, factored_state_action_maps\n",
        "from load_discrete_MDP import state_numbers, action_numbers, factored_state_numbers, factored_action_numbers\n",
        "import gc"
      ],
      "metadata": {
        "id": "zJhV45JcpSj7"
      },
      "execution_count": null,
      "outputs": []
    },
    {
      "cell_type": "code",
      "source": [
        "print('POLICY DIVERGENCE')\n",
        "print(f'Top Level: {PD(pi_e, pi_b, state_action_map, state_numbers, action_numbers)}')\n",
        "print(f'Space 1: {PD(factored_evaluation_policies[0], factored_behaviour_policies[0], factored_state_action_maps[0], factored_state_numbers[0], factored_action_numbers[0])}')\n",
        "print(f'Space 2: {PD(factored_evaluation_policies[1], factored_behaviour_policies[1], factored_state_action_maps[1], factored_state_numbers[1], factored_action_numbers[1])}')"
      ],
      "metadata": {
        "colab": {
          "base_uri": "https://localhost:8080/"
        },
        "outputId": "8539807f-46a8-445f-ac3d-cdbab27487ff",
        "id": "ZXKekaa84mnS"
      },
      "execution_count": null,
      "outputs": [
        {
          "output_type": "stream",
          "name": "stdout",
          "text": [
            "POLICY DIVERGENCE\n",
            "Top Level: 361.0\n",
            "Space 1: 18.999999999999996\n",
            "Space 2: 18.999999999999996\n"
          ]
        }
      ]
    },
    {
      "cell_type": "code",
      "source": [
        "print('MAXIMUM POLICY DISTANCE')\n",
        "print(f'Top Level: {MPD(pi_e, pi_b, state_action_map, state_numbers, action_numbers)}')\n",
        "print(f'Space 1: {MPD(factored_evaluation_policies[0], factored_behaviour_policies[0], factored_state_action_maps[0], factored_state_numbers[0], factored_action_numbers[0])}')\n",
        "print(f'Space 2: {MPD(factored_evaluation_policies[1], factored_behaviour_policies[1], factored_state_action_maps[1], factored_state_numbers[1], factored_action_numbers[1])}')"
      ],
      "metadata": {
        "colab": {
          "base_uri": "https://localhost:8080/"
        },
        "outputId": "4e0c7afd-f94e-4499-b7d6-7d2d0ab061c6",
        "id": "kJlvwueh4mnt"
      },
      "execution_count": null,
      "outputs": [
        {
          "output_type": "stream",
          "name": "stdout",
          "text": [
            "MAXIMUM POLICY DISTANCE\n",
            "Top Level: 5.299990162499593\n",
            "Space 1: 2.649995081249796\n",
            "Space 2: 2.649995081249796\n"
          ]
        }
      ]
    },
    {
      "cell_type": "markdown",
      "source": [
        "## Plot Graphs\n",
        "<a id='vs_pd_ep_1e3_1e5'></a>\n",
        "<a name=\"vs_pd_ep_1e3_1e5\"></a>"
      ],
      "metadata": {
        "id": "7Spw20Htrqr8"
      }
    },
    {
      "cell_type": "code",
      "source": [
        "import matplotlib.pyplot as plt\n",
        "\n",
        "def plot_graphs(label, extralabel, low_ylim, up_ylim):\n",
        "  PDS = [1.44, 2.56, 3.61, 4.4567901234567895, 5.640625, 10.027777777777779, 22.5265, 90.25, 361.0]\n",
        "  MPDS = [0.04027102710137771, 0.38548951404351484, 0.9892638744281455, 1.1799178361975828, 1.3950044662457486, 1.9261853359214065, 2.6832159020644664, 3.9884172415627255, 5.299990162499593]\n",
        "\n",
        "  PDS_1 = [1.2, 1.6, 1.9, 2.111111111111111, 2.3749999999999996, 3.1666666666666665, 4.749999999999999, 9.499999999999998, 18.999999999999996]\n",
        "  MPDS_1 = [0.020135513550688863, 0.19274475702175753, 0.4946319372140727, 0.5899589180987915, 0.697502233122874, 0.963092667960703, 1.341607951032233, 1.9942086207813616, 2.649995081249796]\n",
        "\n",
        "  ylabels = {\n",
        "      'PD': 'PD Between Policies',\n",
        "      'MPD': 'MPD Between Policies',\n",
        "  }\n",
        "\n",
        "  xlabels = {\n",
        "      'PD': 'PD Between Non-factored Policies',\n",
        "      'MPD': 'MPD Between Non-factored Policies',\n",
        "  }\n",
        "\n",
        "  legend_list = ['Non-factored space', 'Factored space 1 or 2']\n",
        "\n",
        "  x = PDS\n",
        "  y1 = PDS\n",
        "  y2 = PDS_1\n",
        "  if label == 'MPD':\n",
        "    x = MPDS\n",
        "    y1 = MPDS\n",
        "    y2 = MPDS_1\n",
        "\n",
        "  plt.figure()\n",
        "  plt.plot(x, y1)\n",
        "  plt.plot(x, y2)\n",
        "  plt.grid(visible=True, which='both', axis='both')\n",
        "  plt.legend(legend_list)\n",
        "  plt.xlabel(xlabels[label])\n",
        "  plt.ylabel(ylabels[label])\n",
        "  plt.xlim([0, up_ylim])\n",
        "  plt.ylim([low_ylim, up_ylim])\n",
        "  plt.savefig(f'{label}-{extralabel}.pdf', dpi=300)\n",
        "  plt.show()"
      ],
      "metadata": {
        "id": "yIer3AROrvV5"
      },
      "execution_count": null,
      "outputs": []
    },
    {
      "cell_type": "markdown",
      "metadata": {
        "id": "2a-2V8jjsvi3"
      },
      "source": [
        "#### PDS"
      ]
    },
    {
      "cell_type": "code",
      "execution_count": null,
      "metadata": {
        "colab": {
          "base_uri": "https://localhost:8080/",
          "height": 455
        },
        "outputId": "a45c4f32-b62f-421d-d014-b6c22dc1ea77",
        "id": "7h3ITZOosvjB"
      },
      "outputs": [
        {
          "output_type": "display_data",
          "data": {
            "text/plain": [
              "<Figure size 640x480 with 1 Axes>"
            ],
            "image/png": "[encoded data removed]"
          },
          "metadata": {}
        }
      ],
      "source": [
        "plot_graphs('PD', '1-step-MDP', 0, 400)"
      ]
    },
    {
      "cell_type": "markdown",
      "metadata": {
        "id": "H_g54ECpsvjB"
      },
      "source": [
        "#### MPD"
      ]
    },
    {
      "cell_type": "code",
      "execution_count": null,
      "metadata": {
        "colab": {
          "base_uri": "https://localhost:8080/",
          "height": 455
        },
        "outputId": "66a7092a-3e8d-44fa-ecab-063faca0f616",
        "id": "pyaBcFmdsvjB"
      },
      "outputs": [
        {
          "output_type": "display_data",
          "data": {
            "text/plain": [
              "<Figure size 640x480 with 1 Axes>"
            ],
            "image/png": "[encoded data removed]"
          },
          "metadata": {}
        }
      ],
      "source": [
        "plot_graphs('MPD', '1-step-MDP', 0, 6.0)"
      ]
    }
  ],
  "metadata": {
    "colab": {
      "provenance": [],
      "collapsed_sections": [
        "rXwjHaPAxGVX",
        "IynOTPaL4gxy",
        "r82C_kwiSRXZ",
        "C5sxSN6HSgYO",
        "Zz_eQrwNqO4Y",
        "vsMS-J9IfNCK",
        "dUa5IbTYPwJ8",
        "Qz-uddLHhhGa",
        "AfgGyRqKlNbe",
        "eHpQ8EWqpSj6"
      ]
    },
    "kernelspec": {
      "display_name": "Python 3",
      "name": "python3"
    },
    "language_info": {
      "name": "python"
    }
  },
  "nbformat": 4,
  "nbformat_minor": 0
}