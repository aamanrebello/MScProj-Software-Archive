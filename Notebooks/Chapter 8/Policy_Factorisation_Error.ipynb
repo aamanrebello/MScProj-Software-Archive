{
  "nbformat": 4,
  "nbformat_minor": 0,
  "metadata": {
    "colab": {
      "provenance": [],
      "collapsed_sections": [
        "ljqSoSVUI_7u",
        "5YPfagiF8ZUv",
        "sV9QF97Z8VD9",
        "IgkXZ6gW8xKO",
        "qWGPCsYk85QX",
        "EJKt0lhY9TVi",
        "wTri3hZ59Wll",
        "SA0Y5PG29hHX",
        "Yx-zR9Cg9mTv",
        "L2ybHJGI9qp_"
      ]
    },
    "kernelspec": {
      "name": "python3",
      "display_name": "Python 3"
    },
    "language_info": {
      "name": "python"
    }
  },
  "cells": [
    {
      "cell_type": "markdown",
      "metadata": {
        "id": "sgLOU8Za1GNq"
      },
      "source": [
        "# Import Repo of Sepsis Simulator"
      ]
    },
    {
      "cell_type": "code",
      "execution_count": null,
      "metadata": {
        "colab": {
          "base_uri": "https://localhost:8080/"
        },
        "id": "AGEp1ymaWUpv",
        "outputId": "ce8672af-bc0f-4bf9-fcde-46ecf319b33b"
      },
      "outputs": [
        {
          "output_type": "stream",
          "name": "stdout",
          "text": [
            "Cloning into 'gumbel-max-scm'...\n",
            "remote: Enumerating objects: 113, done.\u001b[K\n",
            "remote: Counting objects: 100% (3/3), done.\u001b[K\n",
            "remote: Compressing objects: 100% (3/3), done.\u001b[K\n",
            "remote: Total 113 (delta 0), reused 0 (delta 0), pack-reused 110\u001b[K\n",
            "Receiving objects: 100% (113/113), 1.48 MiB | 16.61 MiB/s, done.\n",
            "Resolving deltas: 100% (28/28), done.\n"
          ]
        }
      ],
      "source": [
        "!git clone https://github.com/clinicalml/gumbel-max-scm.git"
      ]
    },
    {
      "cell_type": "code",
      "execution_count": null,
      "metadata": {
        "id": "cv2brrpP2WlI"
      },
      "outputs": [],
      "source": [
        "#Enable importing code from parent directory\n",
        "import os, sys\n",
        "simulator_path = os.path.abspath('./gumbel-max-scm')\n",
        "sys.path.insert(1, simulator_path)"
      ]
    },
    {
      "cell_type": "code",
      "execution_count": null,
      "metadata": {
        "colab": {
          "base_uri": "https://localhost:8080/"
        },
        "id": "gpUoCCBH_Ta8",
        "outputId": "34454f13-0e86-4b50-add2-d377e52b88f6"
      },
      "outputs": [
        {
          "output_type": "stream",
          "name": "stdout",
          "text": [
            "Collecting pymdptoolbox\n",
            "  Downloading pymdptoolbox-4.0-b3.zip (29 kB)\n",
            "  Preparing metadata (setup.py) ... \u001b[?25l\u001b[?25hdone\n",
            "Requirement already satisfied: numpy in /usr/local/lib/python3.10/dist-packages (from pymdptoolbox) (1.23.5)\n",
            "Requirement already satisfied: scipy in /usr/local/lib/python3.10/dist-packages (from pymdptoolbox) (1.10.1)\n",
            "Building wheels for collected packages: pymdptoolbox\n",
            "  Building wheel for pymdptoolbox (setup.py) ... \u001b[?25l\u001b[?25hdone\n",
            "  Created wheel for pymdptoolbox: filename=pymdptoolbox-4.0b3-py3-none-any.whl size=25657 sha256=c1677c61c9601cbed1278eb0603e2784075d9be2becc6a6e3a6677c46dbed800\n",
            "  Stored in directory: /root/.cache/pip/wheels/2b/e7/c7/d7abf9e309f3573a934fed2750c70bd75d9e9d901f7f16e183\n",
            "Successfully built pymdptoolbox\n",
            "Installing collected packages: pymdptoolbox\n",
            "Successfully installed pymdptoolbox-4.0b3\n"
          ]
        }
      ],
      "source": [
        "!pip install pymdptoolbox"
      ]
    },
    {
      "cell_type": "code",
      "execution_count": null,
      "metadata": {
        "id": "orCP8G0C3DCb"
      },
      "outputs": [],
      "source": [
        "import numpy as np\n",
        "import cf.counterfactual as cf\n",
        "import cf.utils as utils\n",
        "import pandas as pd\n",
        "import pickle\n",
        "import itertools as it\n",
        "from tqdm import tqdm_notebook as tqdm\n",
        "from scipy.linalg import block_diag\n",
        "\n",
        "# Sepsis Simulator code\n",
        "from sepsisSimDiabetes.State import State\n",
        "from sepsisSimDiabetes.Action import Action\n",
        "from sepsisSimDiabetes.DataGenerator import DataGenerator\n",
        "import sepsisSimDiabetes.MDP as simulator\n",
        "\n",
        "import mdptoolboxSrc.mdp as mdptools\n",
        "\n",
        "import matplotlib.pyplot as plt\n",
        "import seaborn as sns\n",
        "import warnings\n",
        "warnings.simplefilter(action='ignore', category=FutureWarning)"
      ]
    },
    {
      "cell_type": "markdown",
      "metadata": {
        "id": "7Zt7QLKc3iQ7"
      },
      "source": [
        "# Set up Variables and Functions"
      ]
    },
    {
      "cell_type": "markdown",
      "metadata": {
        "id": "SH6SMENMD-SV"
      },
      "source": [
        "Code taken from [Oberst and Sontag](https://github.com/clinicalml/gumbel-max-scm/blob/master/plots-main-paper.ipynb)."
      ]
    },
    {
      "cell_type": "markdown",
      "metadata": {
        "id": "l9gSS-DPD50f"
      },
      "source": [
        "Set up important variables"
      ]
    },
    {
      "cell_type": "code",
      "execution_count": null,
      "metadata": {
        "id": "YTLB4gBp4Ww-"
      },
      "outputs": [],
      "source": [
        "SEED = 1\n",
        "np.random.seed(SEED)\n",
        "NSIMSAMPS = 100000  # Samples to draw from the simulator\n",
        "NSTEPS = 20  # Max length of each trajectory\n",
        "NCFSAMPS = 5  # Counterfactual Samples per observed sample\n",
        "DISCOUNT_Pol = 0.99 # Used for computing optimal policies\n",
        "DISCOUNT = 1 # Used for computing actual reward\n",
        "PHYS_EPSILON = 0.05 # Used for sampling using physician pol as eps greedy\n",
        "\n",
        "# Option 1: Use bootstrapping w/replacement on the original NSIMSAMPS to estimate errors\n",
        "USE_BOOSTRAP=True\n",
        "N_BOOTSTRAP = 100\n",
        "\n",
        "# Option 2: Use repeated sampling (i.e., NSIMSAMPS fresh simulations each time) to get error bars;\n",
        "# This is done in the appendix of the paper, but not in the main paper\n",
        "N_REPEAT_SAMPLING = 1\n",
        "\n",
        "# These are properties of the simulator, do not change\n",
        "n_actions = Action.NUM_ACTIONS_TOTAL\n",
        "n_components = 2\n",
        "\n",
        "# These are added as absorbing states\n",
        "n_states_abs = State.NUM_OBS_STATES + 2\n",
        "discStateIdx = n_states_abs - 1\n",
        "deadStateIdx = n_states_abs - 2"
      ]
    },
    {
      "cell_type": "code",
      "execution_count": null,
      "metadata": {
        "id": "zUORk1KEedLa"
      },
      "outputs": [],
      "source": [
        "hr_state_mapping = ['Low', 'Normal', 'High']\n",
        "sbp_state_mapping = ['Low', 'Normal', 'High']\n",
        "o2_state_mapping = ['Low', 'Normal']\n",
        "glu_state_mapping = ['Very Low', 'Low', 'Normal', 'High', 'Very High']\n",
        "abx_state_mapping = ['Off', 'On']\n",
        "vaso_state_mapping = ['Off', 'On']\n",
        "vent_state_mapping = ['Off', 'On']\n",
        "diab_state_mapping = ['No', 'Yes']"
      ]
    },
    {
      "cell_type": "markdown",
      "metadata": {
        "id": "c2A-p4iXLLVn"
      },
      "source": [
        "Set up base for behaviour and evaluation policies"
      ]
    },
    {
      "cell_type": "code",
      "execution_count": null,
      "metadata": {
        "id": "tmXqCQquBR-b"
      },
      "outputs": [],
      "source": [
        "import zipfile\n",
        "with zipfile.ZipFile(\"gumbel-max-scm/data/diab_txr_mats-replication.zip\", 'r') as zip_ref:\n",
        "    zip_ref.extractall(\"gumbel-max-scm/data\")"
      ]
    },
    {
      "cell_type": "code",
      "execution_count": null,
      "metadata": {
        "id": "XHSM6i7nAJwg"
      },
      "outputs": [],
      "source": [
        "# Get the transition and reward matrix from file\n",
        "with open(\"gumbel-max-scm/data/diab_txr_mats-replication.pkl\", \"rb\") as f:\n",
        "    mdict = pickle.load(f)\n",
        "\n",
        "tx_mat = mdict[\"tx_mat\"]\n",
        "r_mat = mdict[\"r_mat\"]"
      ]
    },
    {
      "cell_type": "code",
      "execution_count": null,
      "metadata": {
        "id": "zL5_-lEZBxh6"
      },
      "outputs": [],
      "source": [
        "from scipy.linalg import block_diag\n",
        "\n",
        "tx_mat_full = np.zeros((n_actions, State.NUM_FULL_STATES, State.NUM_FULL_STATES))\n",
        "r_mat_full = np.zeros((n_actions, State.NUM_FULL_STATES, State.NUM_FULL_STATES))\n",
        "\n",
        "for a in range(n_actions):\n",
        "    tx_mat_full[a, ...] = block_diag(tx_mat[0, a, ...], tx_mat[1, a,...])\n",
        "    r_mat_full[a, ...] = block_diag(r_mat[0, a, ...], r_mat[1, a, ...])"
      ]
    },
    {
      "cell_type": "code",
      "execution_count": null,
      "metadata": {
        "id": "Oc3sZU3pB-xp"
      },
      "outputs": [],
      "source": [
        "fullMDP = cf.MatrixMDP(tx_mat_full, r_mat_full)\n",
        "fullPol = fullMDP.policyIteration(discount=DISCOUNT_Pol, eval_type=1)\n",
        "\n",
        "fullPolmaxes = np.argmax(fullPol, axis=-1)"
      ]
    },
    {
      "cell_type": "markdown",
      "metadata": {
        "id": "l5Xomg63vcEI"
      },
      "source": [
        "Functions to convert data and policies into factored format"
      ]
    },
    {
      "cell_type": "code",
      "execution_count": null,
      "metadata": {
        "id": "AfGnhVsOvbm7"
      },
      "outputs": [],
      "source": [
        "def factorise_dataset(data):\n",
        "  #With two action spaces: (ABX, VASO) and (VENT), we can perfectly satisfy theorem 1\n",
        "  f_transitions_anva_ve = np.zeros((NSIMSAMPS, NSTEPS, 2, 5))\n",
        "  #We also investigate the factorisations that would not satisfy theorem 1:\n",
        "  # (ABX, VENT), (VASO)\n",
        "  f_transitions_anve_va = np.zeros((NSIMSAMPS, NSTEPS, 2, 5))\n",
        "  # (VENT, VASO), (ABX)\n",
        "  f_transitions_veva_an = np.zeros((NSIMSAMPS, NSTEPS, 2, 5))\n",
        "  #With three action spaces, we can reduce the variance but may increase bias\n",
        "  f_transitions_an_va_ve = np.zeros((NSIMSAMPS, NSTEPS, 3, 5))\n",
        "\n",
        "  #Transform unfactored data sample by sample\n",
        "  for step in range(NSTEPS):\n",
        "    for trajectory in range(NSIMSAMPS):\n",
        "      #Extract necessary features\n",
        "      seg = data[trajectory, step, :]\n",
        "      time = seg[0]\n",
        "      state = seg[1]\n",
        "      action = seg[2]\n",
        "      reward = seg[3]\n",
        "      next_state = seg[4]\n",
        "\n",
        "      #Set times\n",
        "      f_transitions_anva_ve[trajectory, step, :, 0] = [time]*2\n",
        "      f_transitions_anve_va[trajectory, step, :, 0] = [time]*2\n",
        "      f_transitions_veva_an[trajectory, step, :, 0] = [time]*2\n",
        "      f_transitions_an_va_ve[trajectory, step, :, 0] = [time]*3\n",
        "\n",
        "      #Set factored states (state abstractions)\n",
        "      f_transitions_anva_ve[trajectory, step, :, 1] = [state]*2\n",
        "      f_transitions_anve_va[trajectory, step, :, 1] = [state]*2\n",
        "      f_transitions_veva_an[trajectory, step, :, 1] = [state]*2\n",
        "      f_transitions_an_va_ve[trajectory, step, :, 1] = [state]*3\n",
        "\n",
        "      #Set factored actions\n",
        "      actionObj = Action(action_idx=action)\n",
        "      action_vec = actionObj.get_action_vec()\n",
        "\n",
        "      f_transitions_anva_ve[trajectory, step, 0, 2] = action_vec[1,0]\n",
        "      f_transitions_anva_ve[trajectory, step, 1, 2] = 2*action_vec[0,0] + action_vec[2,0]\n",
        "\n",
        "      f_transitions_anve_va[trajectory, step, 0, 2] = action_vec[2,0]\n",
        "      f_transitions_anve_va[trajectory, step, 1, 2] = 2*action_vec[0,0] + action_vec[1,0]\n",
        "\n",
        "      f_transitions_veva_an[trajectory, step, 0, 2] = action_vec[0,0]\n",
        "      f_transitions_veva_an[trajectory, step, 1, 2] = 2*action_vec[1,0] + action_vec[2,0]\n",
        "\n",
        "      f_transitions_an_va_ve[trajectory, step, 0, 2] = action_vec[0,0]\n",
        "      f_transitions_an_va_ve[trajectory, step, 1, 2] = action_vec[1,0]\n",
        "      f_transitions_an_va_ve[trajectory, step, 2, 2] = action_vec[2,0]\n",
        "\n",
        "      #Set factored rewards\n",
        "      f_transitions_anva_ve[trajectory, step, :, 3] = [reward/2.0]*2\n",
        "      f_transitions_anve_va[trajectory, step, :, 3] = [reward/2.0]*2\n",
        "      f_transitions_veva_an[trajectory, step, :, 3] = [reward/2.0]*2\n",
        "      f_transitions_an_va_ve[trajectory, step, :, 3] = [reward/3.0]*3\n",
        "\n",
        "      #Set factored next states (state abstractions)\n",
        "      f_transitions_anva_ve[trajectory, step, :, 4] = [next_state]*2\n",
        "      f_transitions_anve_va[trajectory, step, :, 4] = [next_state]*2\n",
        "      f_transitions_veva_an[trajectory, step, :, 4] = [next_state]*2\n",
        "      f_transitions_an_va_ve[trajectory, step, :, 4] = [next_state]*3\n",
        "\n",
        "  return f_transitions_anva_ve,  f_transitions_anve_va, f_transitions_veva_an, f_transitions_an_va_ve"
      ]
    },
    {
      "cell_type": "code",
      "execution_count": null,
      "metadata": {
        "id": "K_ZjURf3ozdB"
      },
      "outputs": [],
      "source": [
        "def bin_to_num(bitlist):\n",
        "  out = 0\n",
        "  for bit in bitlist:\n",
        "    out = (out << 1) | bit\n",
        "  return out\n",
        "\n",
        "#Number codes:\n",
        "#1 = (ABX, VAS), (VENT)\n",
        "#2 = (ABX, VENT), (VAS)\n",
        "#3 = (VENT, VAS), (ABX)\n",
        "#4 = (ABX), (VENT), (VAS)\n",
        "def factor_policy_1(policy):\n",
        "\n",
        "  factored_policy_1 = np.zeros((policy.shape[0], 2))\n",
        "  for ind in range(policy.shape[0]):\n",
        "    max_pair = None\n",
        "    max_sum = 0.0\n",
        "    for index_pair in [(0,0), (0,1), (1,0), (1,1)]:\n",
        "      new_sum = policy[ind, bin_to_num([index_pair[0], 0, index_pair[1]])] + policy[ind, bin_to_num([index_pair[0], 1, index_pair[1]])]\n",
        "      if new_sum > max_sum:\n",
        "        max_pair = index_pair\n",
        "        max_sum = new_sum\n",
        "    factored_policy_1[ind, 0] = policy[ind, bin_to_num([max_pair[0], 0, max_pair[1]])]/max_sum\n",
        "    factored_policy_1[ind, 1] = policy[ind, bin_to_num([max_pair[0], 1, max_pair[1]])]/max_sum\n",
        "\n",
        "  factored_policy_2 = np.zeros((policy.shape[0], 4))\n",
        "  for ind in range(policy.shape[0]):\n",
        "    max_id = None\n",
        "    max_sum = 0.0\n",
        "    for index in [0, 1]:\n",
        "      new_sum = policy[ind, bin_to_num([0, index, 0])] + policy[ind, bin_to_num([0, index, 1])] + policy[ind, bin_to_num([1, index, 0])] + + policy[ind, bin_to_num([1, index, 1])]\n",
        "      if new_sum > max_sum:\n",
        "        max_id = index\n",
        "        max_sum = new_sum\n",
        "    factored_policy_2[ind, 0] = policy[ind, bin_to_num([0, max_id, 0])]/max_sum\n",
        "    factored_policy_2[ind, 1] = policy[ind, bin_to_num([0, max_id, 1])]/max_sum\n",
        "    factored_policy_2[ind, 2] = policy[ind, bin_to_num([1, max_id, 0])]/max_sum\n",
        "    factored_policy_2[ind, 3] = policy[ind, bin_to_num([1, max_id, 1])]/max_sum\n",
        "\n",
        "  reconstruction_error = np.zeros(policy.shape)\n",
        "  for ind in range(policy.shape[0]):\n",
        "    for index in [[x,y,z] for x in [0,1] for y in [0,1] for z in [0,1]]:\n",
        "      action_id = bin_to_num(index)\n",
        "      true = policy[ind, action_id]\n",
        "      reconstruct = factored_policy_1[ind, index[0]]*factored_policy_2[ind, bin_to_num(index[1:])]\n",
        "      reconstruction_error[ind, action_id] = abs(true - reconstruct)\n",
        "\n",
        "  return [factored_policy_1, factored_policy_2], reconstruction_error"
      ]
    },
    {
      "cell_type": "code",
      "execution_count": null,
      "metadata": {
        "id": "IjQQBsdnfRFr"
      },
      "outputs": [],
      "source": [
        "#Number codes:\n",
        "#1 = (ABX, VAS), (VENT)\n",
        "#2 = (ABX, VENT), (VAS)\n",
        "#3 = (VENT, VAS), (ABX)\n",
        "#4 = (ABX), (VENT), (VAS)\n",
        "def factor_policy_2(policy):\n",
        "\n",
        "  factored_policy_1 = np.zeros((policy.shape[0], 2))\n",
        "  for ind in range(policy.shape[0]):\n",
        "    max_pair = None\n",
        "    max_sum = 0.0\n",
        "    for index_pair in [(0,0), (0,1), (1,0), (1,1)]:\n",
        "      new_sum = policy[ind, bin_to_num([index_pair[0], index_pair[1], 0])] + policy[ind, bin_to_num([index_pair[0], index_pair[1], 1])]\n",
        "      if new_sum > max_sum:\n",
        "        max_pair = index_pair\n",
        "        max_sum = new_sum\n",
        "    factored_policy_1[ind, 0] = policy[ind, bin_to_num([max_pair[0], max_pair[1], 0])]/max_sum\n",
        "    factored_policy_1[ind, 1] = policy[ind, bin_to_num([max_pair[0], max_pair[1], 1])]/max_sum\n",
        "\n",
        "  factored_policy_2 = np.zeros((policy.shape[0], 4))\n",
        "  for ind in range(policy.shape[0]):\n",
        "    max_id = None\n",
        "    max_sum = 0.0\n",
        "    for index in [0, 1]:\n",
        "      new_sum = policy[ind, bin_to_num([0, 0, index])] + policy[ind, bin_to_num([0, 1, index])] + policy[ind, bin_to_num([1, 0, index])] + + policy[ind, bin_to_num([1, 1, index])]\n",
        "      if new_sum > max_sum:\n",
        "        max_id = index\n",
        "        max_sum = new_sum\n",
        "    factored_policy_2[ind, 0] = policy[ind, bin_to_num([0, 0, max_id])]/max_sum\n",
        "    factored_policy_2[ind, 1] = policy[ind, bin_to_num([0, 1, max_id])]/max_sum\n",
        "    factored_policy_2[ind, 2] = policy[ind, bin_to_num([1, 0, max_id])]/max_sum\n",
        "    factored_policy_2[ind, 3] = policy[ind, bin_to_num([1, 1, max_id])]/max_sum\n",
        "\n",
        "  reconstruction_error = np.zeros(policy.shape)\n",
        "  for ind in range(policy.shape[0]):\n",
        "    for index in [[x,y,z] for x in [0,1] for y in [0,1] for z in [0,1]]:\n",
        "      action_id = bin_to_num(index)\n",
        "      true = policy[ind, action_id]\n",
        "      reconstruct = factored_policy_1[ind, index[0]]*factored_policy_2[ind, bin_to_num(index[1:])]\n",
        "      reconstruction_error[ind, action_id] = abs(true - reconstruct)\n",
        "\n",
        "  return [factored_policy_1, factored_policy_2], reconstruction_error"
      ]
    },
    {
      "cell_type": "code",
      "execution_count": null,
      "metadata": {
        "id": "LqbhCi3Behpd"
      },
      "outputs": [],
      "source": [
        "#Number codes:\n",
        "#1 = (ABX, VAS), (VENT)\n",
        "#2 = (ABX, VENT), (VAS)\n",
        "#3 = (VENT, VAS), (ABX)\n",
        "#4 = (ABX), (VENT), (VAS)\n",
        "def factor_policy_3(policy):\n",
        "\n",
        "  factored_policy_1 = np.zeros((policy.shape[0], 2))\n",
        "  for ind in range(policy.shape[0]):\n",
        "    max_pair = None\n",
        "    max_sum = 0.0\n",
        "    for index_pair in [(0,0), (0,1), (1,0), (1,1)]:\n",
        "      new_sum = policy[ind, bin_to_num([0, index_pair[0], index_pair[1]])] + policy[ind, bin_to_num([1, index_pair[0], index_pair[1]])]\n",
        "      if new_sum > max_sum:\n",
        "        max_pair = index_pair\n",
        "        max_sum = new_sum\n",
        "    factored_policy_1[ind, 0] = policy[ind, bin_to_num([0, max_pair[0], max_pair[1]])]/max_sum\n",
        "    factored_policy_1[ind, 1] = policy[ind, bin_to_num([1, max_pair[0], max_pair[1]])]/max_sum\n",
        "\n",
        "  factored_policy_2 = np.zeros((policy.shape[0], 4))\n",
        "  for ind in range(policy.shape[0]):\n",
        "    max_id = None\n",
        "    max_sum = 0.0\n",
        "    for index in [0, 1]:\n",
        "      new_sum = policy[ind, bin_to_num([index, 0, 0])] + policy[ind, bin_to_num([index, 0, 1])] + policy[ind, bin_to_num([index, 1, 0])] + + policy[ind, bin_to_num([index, 1, 1])]\n",
        "      if new_sum > max_sum:\n",
        "        max_id = index\n",
        "        max_sum = new_sum\n",
        "    factored_policy_2[ind, 0] = policy[ind, bin_to_num([max_id, 0, 0])]/max_sum\n",
        "    factored_policy_2[ind, 1] = policy[ind, bin_to_num([max_id, 0, 1])]/max_sum\n",
        "    factored_policy_2[ind, 2] = policy[ind, bin_to_num([max_id, 1, 0])]/max_sum\n",
        "    factored_policy_2[ind, 3] = policy[ind, bin_to_num([max_id, 1, 1])]/max_sum\n",
        "\n",
        "  reconstruction_error = np.zeros(policy.shape)\n",
        "  for ind in range(policy.shape[0]):\n",
        "    for index in [[x,y,z] for x in [0,1] for y in [0,1] for z in [0,1]]:\n",
        "      action_id = bin_to_num(index)\n",
        "      true = policy[ind, action_id]\n",
        "      reconstruct = factored_policy_1[ind, index[0]]*factored_policy_2[ind, bin_to_num(index[1:])]\n",
        "      reconstruction_error[ind, action_id] = abs(true - reconstruct)\n",
        "\n",
        "  return [factored_policy_1, factored_policy_2], reconstruction_error"
      ]
    },
    {
      "cell_type": "code",
      "execution_count": null,
      "metadata": {
        "id": "dUDwvvOezTFi"
      },
      "outputs": [],
      "source": [
        "#Number codes:\n",
        "#1 = (ABX, VAS), (VENT)\n",
        "#2 = (ABX, VENT), (VAS)\n",
        "#3 = (VENT, VAS), (ABX)\n",
        "#4 = (ABX), (VENT), (VAS)\n",
        "def factor_policy_4(policy):\n",
        "\n",
        "  factored_policy_1 = np.zeros((policy.shape[0], 2))\n",
        "  for ind in range(policy.shape[0]):\n",
        "    max_pair = None\n",
        "    max_sum = 0.0\n",
        "    for index_pair in [(0,0), (0,1), (1,0), (1,1)]:\n",
        "      new_sum = policy[ind, bin_to_num([0, index_pair[0], index_pair[1]])] + policy[ind, bin_to_num([1, index_pair[0], index_pair[1]])]\n",
        "      if new_sum > max_sum:\n",
        "        max_pair = index_pair\n",
        "        max_sum = new_sum\n",
        "    factored_policy_1[ind, 0] = policy[ind, bin_to_num([0, max_pair[0], max_pair[1]])]/max_sum\n",
        "    factored_policy_1[ind, 1] = policy[ind, bin_to_num([1, max_pair[0], max_pair[1]])]/max_sum\n",
        "\n",
        "  factored_policy_2 = np.zeros((policy.shape[0], 2))\n",
        "  for ind in range(policy.shape[0]):\n",
        "    max_pair = None\n",
        "    max_sum = 0.0\n",
        "    for index_pair in [(0,0), (0,1), (1,0), (1,1)]:\n",
        "      new_sum = policy[ind, bin_to_num([index_pair[0], 0, index_pair[1]])] + policy[ind, bin_to_num([index_pair[0], 1, index_pair[1]])]\n",
        "      if new_sum > max_sum:\n",
        "        max_pair = index_pair\n",
        "        max_sum = new_sum\n",
        "    factored_policy_2[ind, 0] = policy[ind, bin_to_num([max_pair[0], 0, max_pair[1]])]/max_sum\n",
        "    factored_policy_2[ind, 1] = policy[ind, bin_to_num([max_pair[0], 1, max_pair[1]])]/max_sum\n",
        "\n",
        "  factored_policy_3 = np.zeros((policy.shape[0], 2))\n",
        "  for ind in range(policy.shape[0]):\n",
        "    max_pair = None\n",
        "    max_sum = 0.0\n",
        "    for index_pair in [(0,0), (0,1), (1,0), (1,1)]:\n",
        "      new_sum = policy[ind, bin_to_num([index_pair[0], index_pair[1], 0])] + policy[ind, bin_to_num([index_pair[0], index_pair[1], 1])]\n",
        "      if new_sum > max_sum:\n",
        "        max_pair = index_pair\n",
        "        max_sum = new_sum\n",
        "    factored_policy_3[ind, 0] = policy[ind, bin_to_num([max_pair[0], max_pair[1], 0])]/max_sum\n",
        "    factored_policy_3[ind, 1] = policy[ind, bin_to_num([max_pair[0], max_pair[1], 1])]/max_sum\n",
        "\n",
        "  reconstruction_error = np.zeros(policy.shape)\n",
        "  for ind in range(policy.shape[0]):\n",
        "    for index in [[x,y,z] for x in [0,1] for y in [0,1] for z in [0,1]]:\n",
        "      action_id = bin_to_num(index)\n",
        "      true = policy[ind, action_id]\n",
        "      reconstruct = factored_policy_1[ind, index[0]]*factored_policy_2[ind, index[1]]*factored_policy_3[ind, index[2]]\n",
        "      reconstruction_error[ind, action_id] = abs(true - reconstruct)\n",
        "\n",
        "  return [factored_policy_1, factored_policy_2, factored_policy_3], reconstruction_error"
      ]
    },
    {
      "cell_type": "markdown",
      "metadata": {
        "id": "EG_8SBIi8gPp"
      },
      "source": [
        "# $\\epsilon_{e} = 0.1$"
      ]
    },
    {
      "cell_type": "markdown",
      "metadata": {
        "id": "ABRVYFi88gPq"
      },
      "source": [
        "Set up evaluation policy convert into factored format"
      ]
    },
    {
      "cell_type": "code",
      "execution_count": null,
      "metadata": {
        "id": "i85ELhcK8gPr"
      },
      "outputs": [],
      "source": [
        "EVAL_EPSILON = 0.1\n",
        "\n",
        "evalPolSoft = np.copy(fullPol)\n",
        "evalPolSoft[evalPolSoft == 1] = 1 - EVAL_EPSILON\n",
        "evalPolSoft[evalPolSoft == 0] = EVAL_EPSILON / (n_actions - 1)"
      ]
    },
    {
      "cell_type": "code",
      "execution_count": null,
      "metadata": {
        "id": "dq7-tYGe8gPs"
      },
      "outputs": [],
      "source": [
        "factored_evalPolSoft1, error1 = factor_policy_1(evalPolSoft)\n",
        "factored_evalPolSoft2, error2 = factor_policy_2(evalPolSoft)\n",
        "factored_evalPolSoft3, error3 = factor_policy_3(evalPolSoft)\n",
        "factored_evalPolSoft4, error4 = factor_policy_4(evalPolSoft)"
      ]
    },
    {
      "cell_type": "code",
      "source": [
        "error1"
      ],
      "metadata": {
        "colab": {
          "base_uri": "https://localhost:8080/"
        },
        "outputId": "0ae04b5c-3870-47bd-ea8c-aafbda55eba0",
        "id": "fTEWeay88gPt"
      },
      "execution_count": null,
      "outputs": [
        {
          "output_type": "execute_result",
          "data": {
            "text/plain": [
              "array([[1.40489719e-02, 6.29058442e-04, 1.40489719e-02, ...,\n",
              "        9.25344968e-01, 6.29058442e-04, 6.29058442e-04],\n",
              "       [1.40489719e-02, 6.29058442e-04, 1.40489719e-02, ...,\n",
              "        9.25344968e-01, 6.29058442e-04, 6.29058442e-04],\n",
              "       [1.40489719e-02, 6.29058442e-04, 1.40489719e-02, ...,\n",
              "        9.25344968e-01, 6.29058442e-04, 6.29058442e-04],\n",
              "       ...,\n",
              "       [1.40489719e-02, 1.40489719e-02, 6.29058442e-04, ...,\n",
              "        6.29058442e-04, 3.96306818e-02, 6.29058442e-04],\n",
              "       [1.40489719e-02, 1.40489719e-02, 6.29058442e-04, ...,\n",
              "        6.29058442e-04, 3.96306818e-02, 6.29058442e-04],\n",
              "       [1.40489719e-02, 1.40489719e-02, 6.29058442e-04, ...,\n",
              "        6.29058442e-04, 3.96306818e-02, 6.29058442e-04]])"
            ]
          },
          "metadata": {},
          "execution_count": 18
        }
      ]
    },
    {
      "cell_type": "code",
      "source": [
        "error2"
      ],
      "metadata": {
        "colab": {
          "base_uri": "https://localhost:8080/"
        },
        "id": "U6yJaYTG8gPu",
        "outputId": "dc42f1e1-564f-4799-d30d-747a93bf4785"
      },
      "execution_count": null,
      "outputs": [
        {
          "output_type": "execute_result",
          "data": {
            "text/plain": [
              "array([[1.40489719e-02, 6.29058442e-04, 1.40489719e-02, ...,\n",
              "        9.25344968e-01, 6.29058442e-04, 6.29058442e-04],\n",
              "       [1.40489719e-02, 6.29058442e-04, 1.40489719e-02, ...,\n",
              "        9.25344968e-01, 6.29058442e-04, 6.29058442e-04],\n",
              "       [1.40489719e-02, 6.29058442e-04, 1.40489719e-02, ...,\n",
              "        9.25344968e-01, 6.29058442e-04, 6.29058442e-04],\n",
              "       ...,\n",
              "       [6.29058442e-04, 6.29058442e-04, 6.29058442e-04, ...,\n",
              "        1.40489719e-02, 8.99763258e-01, 6.29058442e-04],\n",
              "       [6.29058442e-04, 6.29058442e-04, 6.29058442e-04, ...,\n",
              "        1.40489719e-02, 8.99763258e-01, 6.29058442e-04],\n",
              "       [6.29058442e-04, 6.29058442e-04, 6.29058442e-04, ...,\n",
              "        1.40489719e-02, 8.99763258e-01, 6.29058442e-04]])"
            ]
          },
          "metadata": {},
          "execution_count": 19
        }
      ]
    },
    {
      "cell_type": "code",
      "source": [
        "error3"
      ],
      "metadata": {
        "colab": {
          "base_uri": "https://localhost:8080/"
        },
        "outputId": "8be611d8-f49e-483a-b7ca-ba4943fd1753",
        "id": "jlUlYGb58gPu"
      },
      "execution_count": null,
      "outputs": [
        {
          "output_type": "execute_result",
          "data": {
            "text/plain": [
              "array([[0.00062906, 0.00062906, 0.00062906, ..., 0.01404897, 0.01404897,\n",
              "        0.00062906],\n",
              "       [0.00062906, 0.00062906, 0.00062906, ..., 0.01404897, 0.01404897,\n",
              "        0.00062906],\n",
              "       [0.00062906, 0.00062906, 0.00062906, ..., 0.01404897, 0.01404897,\n",
              "        0.00062906],\n",
              "       ...,\n",
              "       [0.01404897, 0.01404897, 0.00062906, ..., 0.00062906, 0.03963068,\n",
              "        0.00062906],\n",
              "       [0.01404897, 0.01404897, 0.00062906, ..., 0.00062906, 0.03963068,\n",
              "        0.00062906],\n",
              "       [0.01404897, 0.01404897, 0.00062906, ..., 0.00062906, 0.03963068,\n",
              "        0.00062906]])"
            ]
          },
          "metadata": {},
          "execution_count": 20
        }
      ]
    },
    {
      "cell_type": "code",
      "source": [
        "error4"
      ],
      "metadata": {
        "colab": {
          "base_uri": "https://localhost:8080/"
        },
        "outputId": "3bcd891e-3bde-4adb-9ece-e79d9bfd8d83",
        "id": "B5FMlZgh8gPv"
      },
      "execution_count": null,
      "outputs": [
        {
          "output_type": "execute_result",
          "data": {
            "text/plain": [
              "array([[0.01404539, 0.00085482, 0.00085482, ..., 0.01404539, 0.01404539,\n",
              "        0.00085482],\n",
              "       [0.01404539, 0.00085482, 0.00085482, ..., 0.01404539, 0.01404539,\n",
              "        0.00085482],\n",
              "       [0.01404539, 0.00085482, 0.00085482, ..., 0.01404539, 0.01404539,\n",
              "        0.00085482],\n",
              "       ...,\n",
              "       [0.01404539, 0.0142819 , 0.00085482, ..., 0.01404539, 0.05385361,\n",
              "        0.00085482],\n",
              "       [0.01404539, 0.0142819 , 0.00085482, ..., 0.01404539, 0.05385361,\n",
              "        0.00085482],\n",
              "       [0.01404539, 0.0142819 , 0.00085482, ..., 0.01404539, 0.05385361,\n",
              "        0.00085482]])"
            ]
          },
          "metadata": {},
          "execution_count": 21
        }
      ]
    },
    {
      "cell_type": "code",
      "source": [
        "error1maxes = np.argmax(error1, axis=-1)\n",
        "error2maxes = np.argmax(error2, axis=-1)\n",
        "error3maxes = np.argmax(error3, axis=-1)\n",
        "error4maxes = np.argmax(error4, axis=-1)\n",
        "\n",
        "L = len(error1maxes)\n",
        "\n",
        "print(np.count_nonzero(error1maxes - fullPolmaxes)/L)\n",
        "print(np.count_nonzero(error2maxes - fullPolmaxes)/L)\n",
        "print(np.count_nonzero(error3maxes - fullPolmaxes)/L)\n",
        "print(np.count_nonzero(error4maxes - fullPolmaxes)/L)"
      ],
      "metadata": {
        "colab": {
          "base_uri": "https://localhost:8080/"
        },
        "outputId": "1b9cc8e6-4e19-4a4e-da8c-a2357d864f64",
        "id": "jwWc9mCT8gPw"
      },
      "execution_count": null,
      "outputs": [
        {
          "output_type": "stream",
          "name": "stdout",
          "text": [
            "0.2125\n",
            "0.7319444444444444\n",
            "0.0\n",
            "0.0\n"
          ]
        }
      ]
    },
    {
      "cell_type": "code",
      "source": [
        "error1mins = np.argmin(error1, axis=-1)\n",
        "error2mins = np.argmin(error2, axis=-1)\n",
        "error3mins = np.argmin(error3, axis=-1)\n",
        "error4mins = np.argmin(error4, axis=-1)\n",
        "\n",
        "L = len(error1maxes)\n",
        "softPolmins = np.argmin(evalPolSoft, axis=-1)\n",
        "\n",
        "print(np.count_nonzero(error1mins - softPolmins)/L)\n",
        "print(np.count_nonzero(error2mins - softPolmins)/L)\n",
        "print(np.count_nonzero(error3mins - softPolmins)/L)\n",
        "print(np.count_nonzero(error4mins - softPolmins)/L)"
      ],
      "metadata": {
        "colab": {
          "base_uri": "https://localhost:8080/"
        },
        "outputId": "492c153d-5686-4b99-9fbc-ecc07735f106",
        "id": "X5VRalJQ8gPw"
      },
      "execution_count": null,
      "outputs": [
        {
          "output_type": "stream",
          "name": "stdout",
          "text": [
            "0.96875\n",
            "0.3854166666666667\n",
            "0.7895833333333333\n",
            "0.9048611111111111\n"
          ]
        }
      ]
    },
    {
      "cell_type": "code",
      "source": [
        "print(f'{np.mean(error1)}---{np.mean(error2)}---{np.mean(error3)}---{np.mean(error4)}')"
      ],
      "metadata": {
        "colab": {
          "base_uri": "https://localhost:8080/"
        },
        "outputId": "9d571fd5-b738-4b80-e39b-aad98f163fab",
        "id": "5rkTNGAJ8gPx"
      },
      "execution_count": null,
      "outputs": [
        {
          "output_type": "stream",
          "name": "stdout",
          "text": [
            "0.057590300324675346---0.1726000941332973---0.010536728896103902---0.014104516165597096\n"
          ]
        }
      ]
    },
    {
      "cell_type": "code",
      "source": [
        "print(f'{np.max(error1)}---{np.max(error2)}---{np.max(error3)}---{np.max(error4)}')"
      ],
      "metadata": {
        "colab": {
          "base_uri": "https://localhost:8080/"
        },
        "outputId": "f56116bc-032c-46bc-909b-0e67c9ecd584",
        "id": "Z4crJ61e8gPy"
      },
      "execution_count": null,
      "outputs": [
        {
          "output_type": "stream",
          "name": "stdout",
          "text": [
            "0.9253449675324678---0.9253449675324678---0.03963068181818197---0.05385360717773435\n"
          ]
        }
      ]
    },
    {
      "cell_type": "code",
      "source": [
        "print(f'{np.min(error1[0])}---{np.min(error2[0])}---{np.min(error3[0])}---{np.min(error4[0])}')"
      ],
      "metadata": {
        "colab": {
          "base_uri": "https://localhost:8080/"
        },
        "outputId": "4bdba434-ddf4-43e0-f497-844489cd89b8",
        "id": "4OSL35Xn8gPz"
      },
      "execution_count": null,
      "outputs": [
        {
          "output_type": "stream",
          "name": "stdout",
          "text": [
            "0.0006290584415584444---0.0006290584415584444---0.0006290584415584426---0.0008548191615513415\n"
          ]
        }
      ]
    },
    {
      "cell_type": "markdown",
      "metadata": {
        "id": "ljqSoSVUI_7u"
      },
      "source": [
        "# $\\epsilon_{e} = 0.2$"
      ]
    },
    {
      "cell_type": "markdown",
      "metadata": {
        "id": "9WGmgmigI_7v"
      },
      "source": [
        "Set up evaluation policy convert into factored format"
      ]
    },
    {
      "cell_type": "code",
      "execution_count": null,
      "metadata": {
        "id": "a3Kvf7JwI_7v"
      },
      "outputs": [],
      "source": [
        "EVAL_EPSILON = 0.2\n",
        "\n",
        "evalPolSoft = np.copy(fullPol)\n",
        "evalPolSoft[evalPolSoft == 1] = 1 - EVAL_EPSILON\n",
        "evalPolSoft[evalPolSoft == 0] = EVAL_EPSILON / (n_actions - 1)"
      ]
    },
    {
      "cell_type": "code",
      "execution_count": null,
      "metadata": {
        "id": "sVXBzEaFI_7w"
      },
      "outputs": [],
      "source": [
        "factored_evalPolSoft1, error1 = factor_policy_1(evalPolSoft)\n",
        "factored_evalPolSoft2, error2 = factor_policy_2(evalPolSoft)\n",
        "factored_evalPolSoft3, error3 = factor_policy_3(evalPolSoft)\n",
        "factored_evalPolSoft4, error4 = factor_policy_4(evalPolSoft)"
      ]
    },
    {
      "cell_type": "code",
      "source": [
        "error1"
      ],
      "metadata": {
        "colab": {
          "base_uri": "https://localhost:8080/"
        },
        "id": "EhsCzTv0rLd0",
        "outputId": "38ea0bcf-2a49-48b3-8bb1-5358dd54a3d9"
      },
      "execution_count": null,
      "outputs": [
        {
          "output_type": "execute_result",
          "data": {
            "text/plain": [
              "array([[0.02745908, 0.00257429, 0.02745908, ..., 0.84350866, 0.00257429,\n",
              "        0.00257429],\n",
              "       [0.02745908, 0.00257429, 0.02745908, ..., 0.84350866, 0.00257429,\n",
              "        0.00257429],\n",
              "       [0.02745908, 0.00257429, 0.02745908, ..., 0.84350866, 0.00257429,\n",
              "        0.00257429],\n",
              "       ...,\n",
              "       [0.02745908, 0.02745908, 0.00257429, ..., 0.00257429, 0.07208009,\n",
              "        0.00257429],\n",
              "       [0.02745908, 0.02745908, 0.00257429, ..., 0.00257429, 0.07208009,\n",
              "        0.00257429],\n",
              "       [0.02745908, 0.02745908, 0.00257429, ..., 0.00257429, 0.07208009,\n",
              "        0.00257429]])"
            ]
          },
          "metadata": {},
          "execution_count": 29
        }
      ]
    },
    {
      "cell_type": "code",
      "source": [
        "error2"
      ],
      "metadata": {
        "colab": {
          "base_uri": "https://localhost:8080/"
        },
        "id": "jumIRa7k7teJ",
        "outputId": "9a265c70-50c0-456b-b3a8-8d9164a7e4d1"
      },
      "execution_count": null,
      "outputs": [
        {
          "output_type": "execute_result",
          "data": {
            "text/plain": [
              "array([[0.02745908, 0.00257429, 0.02745908, ..., 0.84350866, 0.00257429,\n",
              "        0.00257429],\n",
              "       [0.02745908, 0.00257429, 0.02745908, ..., 0.84350866, 0.00257429,\n",
              "        0.00257429],\n",
              "       [0.02745908, 0.00257429, 0.02745908, ..., 0.84350866, 0.00257429,\n",
              "        0.00257429],\n",
              "       ...,\n",
              "       [0.00257429, 0.00257429, 0.00257429, ..., 0.02745908, 0.79888765,\n",
              "        0.00257429],\n",
              "       [0.00257429, 0.00257429, 0.00257429, ..., 0.02745908, 0.79888765,\n",
              "        0.00257429],\n",
              "       [0.00257429, 0.00257429, 0.00257429, ..., 0.02745908, 0.79888765,\n",
              "        0.00257429]])"
            ]
          },
          "metadata": {},
          "execution_count": 30
        }
      ]
    },
    {
      "cell_type": "code",
      "source": [
        "error3"
      ],
      "metadata": {
        "colab": {
          "base_uri": "https://localhost:8080/"
        },
        "id": "tz0yP-66rqlO",
        "outputId": "27ae07fe-d2c1-44c2-924a-fffb6c5176ae"
      },
      "execution_count": null,
      "outputs": [
        {
          "output_type": "execute_result",
          "data": {
            "text/plain": [
              "array([[0.00257429, 0.00257429, 0.00257429, ..., 0.02745908, 0.02745908,\n",
              "        0.00257429],\n",
              "       [0.00257429, 0.00257429, 0.00257429, ..., 0.02745908, 0.02745908,\n",
              "        0.00257429],\n",
              "       [0.00257429, 0.00257429, 0.00257429, ..., 0.02745908, 0.02745908,\n",
              "        0.00257429],\n",
              "       ...,\n",
              "       [0.02745908, 0.02745908, 0.00257429, ..., 0.00257429, 0.07208009,\n",
              "        0.00257429],\n",
              "       [0.02745908, 0.02745908, 0.00257429, ..., 0.00257429, 0.07208009,\n",
              "        0.00257429],\n",
              "       [0.02745908, 0.02745908, 0.00257429, ..., 0.00257429, 0.07208009,\n",
              "        0.00257429]])"
            ]
          },
          "metadata": {},
          "execution_count": 31
        }
      ]
    },
    {
      "cell_type": "code",
      "source": [
        "error4"
      ],
      "metadata": {
        "colab": {
          "base_uri": "https://localhost:8080/"
        },
        "id": "BBu8bwzJr6g1",
        "outputId": "ec82d1c7-4444-4426-d7ba-67908c2aca20"
      },
      "execution_count": null,
      "outputs": [
        {
          "output_type": "execute_result",
          "data": {
            "text/plain": [
              "array([[0.02742337, 0.00357421, 0.00357421, ..., 0.02742337, 0.02742337,\n",
              "        0.00357421],\n",
              "       [0.02742337, 0.00357421, 0.00357421, ..., 0.02742337, 0.02742337,\n",
              "        0.00357421],\n",
              "       [0.02742337, 0.00357421, 0.00357421, ..., 0.02742337, 0.02742337,\n",
              "        0.00357421],\n",
              "       ...,\n",
              "       [0.02742337, 0.02853043, 0.00357421, ..., 0.02742337, 0.1000779 ,\n",
              "        0.00357421],\n",
              "       [0.02742337, 0.02853043, 0.00357421, ..., 0.02742337, 0.1000779 ,\n",
              "        0.00357421],\n",
              "       [0.02742337, 0.02853043, 0.00357421, ..., 0.02742337, 0.1000779 ,\n",
              "        0.00357421]])"
            ]
          },
          "metadata": {},
          "execution_count": 32
        }
      ]
    },
    {
      "cell_type": "code",
      "source": [
        "error1maxes = np.argmax(error1, axis=-1)\n",
        "error2maxes = np.argmax(error2, axis=-1)\n",
        "error3maxes = np.argmax(error3, axis=-1)\n",
        "error4maxes = np.argmax(error4, axis=-1)\n",
        "\n",
        "L = len(error1maxes)\n",
        "\n",
        "print(np.count_nonzero(error1maxes - fullPolmaxes)/L)\n",
        "print(np.count_nonzero(error2maxes - fullPolmaxes)/L)\n",
        "print(np.count_nonzero(error3maxes - fullPolmaxes)/L)\n",
        "print(np.count_nonzero(error4maxes - fullPolmaxes)/L)"
      ],
      "metadata": {
        "id": "9jp6Jn4U1RhJ",
        "colab": {
          "base_uri": "https://localhost:8080/"
        },
        "outputId": "b702635a-eaa1-4359-ff21-7fbea2f45dfd"
      },
      "execution_count": null,
      "outputs": [
        {
          "output_type": "stream",
          "name": "stdout",
          "text": [
            "0.2125\n",
            "0.7319444444444444\n",
            "0.0\n",
            "0.0\n"
          ]
        }
      ]
    },
    {
      "cell_type": "code",
      "source": [
        "error1mins = np.argmin(error1, axis=-1)\n",
        "error2mins = np.argmin(error2, axis=-1)\n",
        "error3mins = np.argmin(error3, axis=-1)\n",
        "error4mins = np.argmin(error4, axis=-1)\n",
        "\n",
        "L = len(error1maxes)\n",
        "softPolmins = np.argmin(evalPolSoft, axis=-1)\n",
        "\n",
        "print(np.count_nonzero(error1mins - softPolmins)/L)\n",
        "print(np.count_nonzero(error2mins - softPolmins)/L)\n",
        "print(np.count_nonzero(error3mins - softPolmins)/L)\n",
        "print(np.count_nonzero(error4mins - softPolmins)/L)"
      ],
      "metadata": {
        "colab": {
          "base_uri": "https://localhost:8080/"
        },
        "outputId": "f5e22cf7-6e6f-4dd0-fa08-e1729c0e4793",
        "id": "y08qxP2q4UoQ"
      },
      "execution_count": null,
      "outputs": [
        {
          "output_type": "stream",
          "name": "stdout",
          "text": [
            "0.9048611111111111\n",
            "0.3854166666666667\n",
            "0.7729166666666667\n",
            "0.9048611111111111\n"
          ]
        }
      ]
    },
    {
      "cell_type": "code",
      "source": [
        "print(f'{np.mean(error1)}---{np.mean(error2)}---{np.mean(error3)}---{np.mean(error4)}')"
      ],
      "metadata": {
        "colab": {
          "base_uri": "https://localhost:8080/"
        },
        "id": "LBMR99w2rN_z",
        "outputId": "4d45439d-f4cd-4978-c387-327d460f0fa0"
      },
      "execution_count": null,
      "outputs": [
        {
          "output_type": "stream",
          "name": "stdout",
          "text": [
            "0.06157645399650404---0.16171390831082152---0.0205943111393612---0.027700134135412356\n"
          ]
        }
      ]
    },
    {
      "cell_type": "code",
      "source": [
        "print(f'{np.max(error1)}---{np.max(error2)}---{np.max(error3)}---{np.max(error4)}')"
      ],
      "metadata": {
        "colab": {
          "base_uri": "https://localhost:8080/"
        },
        "outputId": "10eb116f-8cc0-4540-fee8-37bc19b3b7c2",
        "id": "FR3ZOber74--"
      },
      "execution_count": null,
      "outputs": [
        {
          "output_type": "stream",
          "name": "stdout",
          "text": [
            "0.8435086604163357---0.8435086604163357---0.07208008898776419---0.10007790397310279\n"
          ]
        }
      ]
    },
    {
      "cell_type": "code",
      "source": [
        "print(f'{np.min(error1[0])}---{np.min(error2[0])}---{np.min(error3[0])}---{np.min(error4[0])}')"
      ],
      "metadata": {
        "colab": {
          "base_uri": "https://localhost:8080/"
        },
        "outputId": "95f116d1-c321-40b8-e277-e0212a1e96db",
        "id": "N4LW-ZTy8ENs"
      },
      "execution_count": null,
      "outputs": [
        {
          "output_type": "stream",
          "name": "stdout",
          "text": [
            "0.0025742888924201457---0.0025742888924201457---0.0025742888924201457---0.0035742108561822375\n"
          ]
        }
      ]
    },
    {
      "cell_type": "markdown",
      "metadata": {
        "id": "5YPfagiF8ZUv"
      },
      "source": [
        "# $\\epsilon_{e} = 0.3$"
      ]
    },
    {
      "cell_type": "markdown",
      "metadata": {
        "id": "gBAGsqwu8ZUv"
      },
      "source": [
        "Set up evaluation policy convert into factored format"
      ]
    },
    {
      "cell_type": "code",
      "execution_count": null,
      "metadata": {
        "id": "TCV7J-Vq8ZUw"
      },
      "outputs": [],
      "source": [
        "EVAL_EPSILON = 0.3\n",
        "\n",
        "evalPolSoft = np.copy(fullPol)\n",
        "evalPolSoft[evalPolSoft == 1] = 1 - EVAL_EPSILON\n",
        "evalPolSoft[evalPolSoft == 0] = EVAL_EPSILON / (n_actions - 1)"
      ]
    },
    {
      "cell_type": "code",
      "execution_count": null,
      "metadata": {
        "id": "BfaUVXtx8ZUx"
      },
      "outputs": [],
      "source": [
        "factored_evalPolSoft1, error1 = factor_policy_1(evalPolSoft)\n",
        "factored_evalPolSoft2, error2 = factor_policy_2(evalPolSoft)\n",
        "factored_evalPolSoft3, error3 = factor_policy_3(evalPolSoft)\n",
        "factored_evalPolSoft4, error4 = factor_policy_4(evalPolSoft)"
      ]
    },
    {
      "cell_type": "code",
      "source": [
        "error1"
      ],
      "metadata": {
        "colab": {
          "base_uri": "https://localhost:8080/"
        },
        "outputId": "38358871-f361-4a29-b50f-d349e0d36a0b",
        "id": "SAS_UuhG8ZUx"
      },
      "execution_count": null,
      "outputs": [
        {
          "output_type": "execute_result",
          "data": {
            "text/plain": [
              "array([[0.03987306, 0.00588291, 0.03987306, ..., 0.75323039, 0.00588291,\n",
              "        0.00588291],\n",
              "       [0.03987306, 0.00588291, 0.03987306, ..., 0.75323039, 0.00588291,\n",
              "        0.00588291],\n",
              "       [0.03987306, 0.00588291, 0.03987306, ..., 0.75323039, 0.00588291,\n",
              "        0.00588291],\n",
              "       ...,\n",
              "       [0.03987306, 0.03987306, 0.00588291, ..., 0.00588291, 0.09608753,\n",
              "        0.00588291],\n",
              "       [0.03987306, 0.03987306, 0.00588291, ..., 0.00588291, 0.09608753,\n",
              "        0.00588291],\n",
              "       [0.03987306, 0.03987306, 0.00588291, ..., 0.00588291, 0.09608753,\n",
              "        0.00588291]])"
            ]
          },
          "metadata": {},
          "execution_count": 40
        }
      ]
    },
    {
      "cell_type": "code",
      "source": [
        "error2"
      ],
      "metadata": {
        "colab": {
          "base_uri": "https://localhost:8080/"
        },
        "id": "fsgC78su8ZUy",
        "outputId": "dee83d96-e772-4687-cb50-1ce71de58e8f"
      },
      "execution_count": null,
      "outputs": [
        {
          "output_type": "execute_result",
          "data": {
            "text/plain": [
              "array([[0.03987306, 0.00588291, 0.03987306, ..., 0.75323039, 0.00588291,\n",
              "        0.00588291],\n",
              "       [0.03987306, 0.00588291, 0.03987306, ..., 0.75323039, 0.00588291,\n",
              "        0.00588291],\n",
              "       [0.03987306, 0.00588291, 0.03987306, ..., 0.75323039, 0.00588291,\n",
              "        0.00588291],\n",
              "       ...,\n",
              "       [0.00588291, 0.00588291, 0.00588291, ..., 0.03987306, 0.69701592,\n",
              "        0.00588291],\n",
              "       [0.00588291, 0.00588291, 0.00588291, ..., 0.03987306, 0.69701592,\n",
              "        0.00588291],\n",
              "       [0.00588291, 0.00588291, 0.00588291, ..., 0.03987306, 0.69701592,\n",
              "        0.00588291]])"
            ]
          },
          "metadata": {},
          "execution_count": 41
        }
      ]
    },
    {
      "cell_type": "code",
      "source": [
        "error3"
      ],
      "metadata": {
        "colab": {
          "base_uri": "https://localhost:8080/"
        },
        "outputId": "da452127-89d0-4b5d-e824-5b1696fe7517",
        "id": "xxfsS3c18ZUz"
      },
      "execution_count": null,
      "outputs": [
        {
          "output_type": "execute_result",
          "data": {
            "text/plain": [
              "array([[0.00588291, 0.00588291, 0.00588291, ..., 0.03987306, 0.03987306,\n",
              "        0.00588291],\n",
              "       [0.00588291, 0.00588291, 0.00588291, ..., 0.03987306, 0.03987306,\n",
              "        0.00588291],\n",
              "       [0.00588291, 0.00588291, 0.00588291, ..., 0.03987306, 0.03987306,\n",
              "        0.00588291],\n",
              "       ...,\n",
              "       [0.03987306, 0.03987306, 0.00588291, ..., 0.00588291, 0.09608753,\n",
              "        0.00588291],\n",
              "       [0.03987306, 0.03987306, 0.00588291, ..., 0.00588291, 0.09608753,\n",
              "        0.00588291],\n",
              "       [0.03987306, 0.03987306, 0.00588291, ..., 0.00588291, 0.09608753,\n",
              "        0.00588291]])"
            ]
          },
          "metadata": {},
          "execution_count": 42
        }
      ]
    },
    {
      "cell_type": "code",
      "source": [
        "error4"
      ],
      "metadata": {
        "colab": {
          "base_uri": "https://localhost:8080/"
        },
        "outputId": "bdbdf924-b1e6-4864-db95-6b3c242d9573",
        "id": "6uKi0jPb8ZUz"
      },
      "execution_count": null,
      "outputs": [
        {
          "output_type": "execute_result",
          "data": {
            "text/plain": [
              "array([[0.03972076, 0.00837038, 0.00837038, ..., 0.03972076, 0.03972076,\n",
              "        0.00837038],\n",
              "       [0.03972076, 0.00837038, 0.00837038, ..., 0.03972076, 0.03972076,\n",
              "        0.00837038],\n",
              "       [0.03972076, 0.00837038, 0.00837038, ..., 0.03972076, 0.03972076,\n",
              "        0.00837038],\n",
              "       ...,\n",
              "       [0.03972076, 0.04266512, 0.00837038, ..., 0.03972076, 0.13671626,\n",
              "        0.00837038],\n",
              "       [0.03972076, 0.04266512, 0.00837038, ..., 0.03972076, 0.13671626,\n",
              "        0.00837038],\n",
              "       [0.03972076, 0.04266512, 0.00837038, ..., 0.03972076, 0.13671626,\n",
              "        0.00837038]])"
            ]
          },
          "metadata": {},
          "execution_count": 43
        }
      ]
    },
    {
      "cell_type": "code",
      "source": [
        "error1maxes = np.argmax(error1, axis=-1)\n",
        "error2maxes = np.argmax(error2, axis=-1)\n",
        "error3maxes = np.argmax(error3, axis=-1)\n",
        "error4maxes = np.argmax(error4, axis=-1)\n",
        "\n",
        "L = len(error1maxes)\n",
        "\n",
        "print(np.count_nonzero(error1maxes - fullPolmaxes)/L)\n",
        "print(np.count_nonzero(error2maxes - fullPolmaxes)/L)\n",
        "print(np.count_nonzero(error3maxes - fullPolmaxes)/L)\n",
        "print(np.count_nonzero(error4maxes - fullPolmaxes)/L)"
      ],
      "metadata": {
        "colab": {
          "base_uri": "https://localhost:8080/"
        },
        "outputId": "6f000863-526f-4e74-f324-051210dfb0f2",
        "id": "yCxxkFmV8ZU0"
      },
      "execution_count": null,
      "outputs": [
        {
          "output_type": "stream",
          "name": "stdout",
          "text": [
            "0.2125\n",
            "0.7319444444444444\n",
            "0.0\n",
            "0.0\n"
          ]
        }
      ]
    },
    {
      "cell_type": "code",
      "source": [
        "error1mins = np.argmin(error1, axis=-1)\n",
        "error2mins = np.argmin(error2, axis=-1)\n",
        "error3mins = np.argmin(error3, axis=-1)\n",
        "error4mins = np.argmin(error4, axis=-1)\n",
        "\n",
        "L = len(error1maxes)\n",
        "softPolmins = np.argmin(evalPolSoft, axis=-1)\n",
        "\n",
        "print(np.count_nonzero(error1mins - softPolmins)/L)\n",
        "print(np.count_nonzero(error2mins - softPolmins)/L)\n",
        "print(np.count_nonzero(error3mins - softPolmins)/L)\n",
        "print(np.count_nonzero(error4mins - softPolmins)/L)"
      ],
      "metadata": {
        "colab": {
          "base_uri": "https://localhost:8080/"
        },
        "outputId": "08714afc-a67d-491b-8636-429da67641a7",
        "id": "RDJ5wnQR8ZU1"
      },
      "execution_count": null,
      "outputs": [
        {
          "output_type": "stream",
          "name": "stdout",
          "text": [
            "0.9048611111111111\n",
            "0.3854166666666667\n",
            "0.7729166666666667\n",
            "0.9048611111111111\n"
          ]
        }
      ]
    },
    {
      "cell_type": "code",
      "source": [
        "print(f'{np.mean(error1)}---{np.mean(error2)}---{np.mean(error3)}---{np.mean(error4)}')"
      ],
      "metadata": {
        "colab": {
          "base_uri": "https://localhost:8080/"
        },
        "outputId": "5fbbf032-42a4-4fbf-f84f-39feb0c99b6d",
        "id": "_eAvNw-Q8ZU2"
      },
      "execution_count": null,
      "outputs": [
        {
          "output_type": "stream",
          "name": "stdout",
          "text": [
            "0.06481550776809401---0.15005884620647553---0.02990479348237972---0.040456852688731434\n"
          ]
        }
      ]
    },
    {
      "cell_type": "code",
      "source": [
        "print(f'{np.max(error1)}---{np.max(error2)}---{np.max(error3)}---{np.max(error4)}')"
      ],
      "metadata": {
        "colab": {
          "base_uri": "https://localhost:8080/"
        },
        "outputId": "7e4ad524-c3a2-4653-a575-1acaeeddffe1",
        "id": "Mj3pRCiO8ZU2"
      },
      "execution_count": null,
      "outputs": [
        {
          "output_type": "stream",
          "name": "stdout",
          "text": [
            "0.753230390299356---0.753230390299356---0.09608753315649887---0.13671626081019606\n"
          ]
        }
      ]
    },
    {
      "cell_type": "code",
      "source": [
        "print(f'{np.min(error1[0])}---{np.min(error2[0])}---{np.min(error3[0])}---{np.min(error4[0])}')"
      ],
      "metadata": {
        "colab": {
          "base_uri": "https://localhost:8080/"
        },
        "outputId": "69d67417-d1ac-4e60-f3ee-565b4936ed23",
        "id": "r4SlSrZZ8ZU3"
      },
      "execution_count": null,
      "outputs": [
        {
          "output_type": "stream",
          "name": "stdout",
          "text": [
            "0.005882910193255035---0.005882910193255035---0.005882910193255028---0.008370383314909961\n"
          ]
        }
      ]
    },
    {
      "cell_type": "markdown",
      "metadata": {
        "id": "sV9QF97Z8VD9"
      },
      "source": [
        "# $\\epsilon_{e} = 0.4$"
      ]
    },
    {
      "cell_type": "markdown",
      "metadata": {
        "id": "lbpmovAY8VEa"
      },
      "source": [
        "Set up evaluation policy convert into factored format"
      ]
    },
    {
      "cell_type": "code",
      "execution_count": null,
      "metadata": {
        "id": "4DMZ0dCW8VEa"
      },
      "outputs": [],
      "source": [
        "EVAL_EPSILON = 0.4\n",
        "\n",
        "evalPolSoft = np.copy(fullPol)\n",
        "evalPolSoft[evalPolSoft == 1] = 1 - EVAL_EPSILON\n",
        "evalPolSoft[evalPolSoft == 0] = EVAL_EPSILON / (n_actions - 1)"
      ]
    },
    {
      "cell_type": "code",
      "execution_count": null,
      "metadata": {
        "id": "RyGE4cbt8VEb"
      },
      "outputs": [],
      "source": [
        "factored_evalPolSoft1, error1 = factor_policy_1(evalPolSoft)\n",
        "factored_evalPolSoft2, error2 = factor_policy_2(evalPolSoft)\n",
        "factored_evalPolSoft3, error3 = factor_policy_3(evalPolSoft)\n",
        "factored_evalPolSoft4, error4 = factor_policy_4(evalPolSoft)"
      ]
    },
    {
      "cell_type": "code",
      "source": [
        "error1"
      ],
      "metadata": {
        "colab": {
          "base_uri": "https://localhost:8080/"
        },
        "outputId": "c841c556-e451-429e-b007-11effb53b16c",
        "id": "ZEcx2Tvb8VEc"
      },
      "execution_count": null,
      "outputs": [
        {
          "output_type": "execute_result",
          "data": {
            "text/plain": [
              "array([[0.05070163, 0.01048999, 0.05070163, ..., 0.65300207, 0.01048999,\n",
              "        0.01048999],\n",
              "       [0.05070163, 0.01048999, 0.05070163, ..., 0.65300207, 0.01048999,\n",
              "        0.01048999],\n",
              "       [0.05070163, 0.01048999, 0.05070163, ..., 0.65300207, 0.01048999,\n",
              "        0.01048999],\n",
              "       ...,\n",
              "       [0.05070163, 0.05070163, 0.01048999, ..., 0.01048999, 0.11014493,\n",
              "        0.01048999],\n",
              "       [0.05070163, 0.05070163, 0.01048999, ..., 0.01048999, 0.11014493,\n",
              "        0.01048999],\n",
              "       [0.05070163, 0.05070163, 0.01048999, ..., 0.01048999, 0.11014493,\n",
              "        0.01048999]])"
            ]
          },
          "metadata": {},
          "execution_count": 51
        }
      ]
    },
    {
      "cell_type": "code",
      "source": [
        "error2"
      ],
      "metadata": {
        "colab": {
          "base_uri": "https://localhost:8080/"
        },
        "id": "7WCoPdI68VEc",
        "outputId": "00c7674a-8d6f-49e9-dadc-36bf3ca00b52"
      },
      "execution_count": null,
      "outputs": [
        {
          "output_type": "execute_result",
          "data": {
            "text/plain": [
              "array([[0.05070163, 0.01048999, 0.05070163, ..., 0.65300207, 0.01048999,\n",
              "        0.01048999],\n",
              "       [0.05070163, 0.01048999, 0.05070163, ..., 0.65300207, 0.01048999,\n",
              "        0.01048999],\n",
              "       [0.05070163, 0.01048999, 0.05070163, ..., 0.65300207, 0.01048999,\n",
              "        0.01048999],\n",
              "       ...,\n",
              "       [0.01048999, 0.01048999, 0.01048999, ..., 0.05070163, 0.59355878,\n",
              "        0.01048999],\n",
              "       [0.01048999, 0.01048999, 0.01048999, ..., 0.05070163, 0.59355878,\n",
              "        0.01048999],\n",
              "       [0.01048999, 0.01048999, 0.01048999, ..., 0.05070163, 0.59355878,\n",
              "        0.01048999]])"
            ]
          },
          "metadata": {},
          "execution_count": 52
        }
      ]
    },
    {
      "cell_type": "code",
      "source": [
        "error3"
      ],
      "metadata": {
        "colab": {
          "base_uri": "https://localhost:8080/"
        },
        "outputId": "ebe3e12e-4e92-4fa7-aa09-af85ac835b14",
        "id": "wjeJbLdm8VEd"
      },
      "execution_count": null,
      "outputs": [
        {
          "output_type": "execute_result",
          "data": {
            "text/plain": [
              "array([[0.01048999, 0.01048999, 0.01048999, ..., 0.05070163, 0.05070163,\n",
              "        0.01048999],\n",
              "       [0.01048999, 0.01048999, 0.01048999, ..., 0.05070163, 0.05070163,\n",
              "        0.01048999],\n",
              "       [0.01048999, 0.01048999, 0.01048999, ..., 0.05070163, 0.05070163,\n",
              "        0.01048999],\n",
              "       ...,\n",
              "       [0.05070163, 0.05070163, 0.01048999, ..., 0.01048999, 0.11014493,\n",
              "        0.01048999],\n",
              "       [0.05070163, 0.05070163, 0.01048999, ..., 0.01048999, 0.11014493,\n",
              "        0.01048999],\n",
              "       [0.05070163, 0.05070163, 0.01048999, ..., 0.01048999, 0.11014493,\n",
              "        0.01048999]])"
            ]
          },
          "metadata": {},
          "execution_count": 53
        }
      ]
    },
    {
      "cell_type": "code",
      "source": [
        "error4"
      ],
      "metadata": {
        "colab": {
          "base_uri": "https://localhost:8080/"
        },
        "outputId": "94a57387-02aa-4bb7-a399-320eae6236d7",
        "id": "yM3dH3I58VEe"
      },
      "execution_count": null,
      "outputs": [
        {
          "output_type": "execute_result",
          "data": {
            "text/plain": [
              "array([[0.05023894, 0.01534831, 0.01534831, ..., 0.05023894, 0.05023894,\n",
              "        0.01534831],\n",
              "       [0.05023894, 0.01534831, 0.01534831, ..., 0.05023894, 0.05023894,\n",
              "        0.01534831],\n",
              "       [0.05023894, 0.01534831, 0.01534831, ..., 0.05023894, 0.05023894,\n",
              "        0.01534831],\n",
              "       ...,\n",
              "       [0.05023894, 0.05648534, 0.01534831, ..., 0.05023894, 0.16115723,\n",
              "        0.01534831],\n",
              "       [0.05023894, 0.05648534, 0.01534831, ..., 0.05023894, 0.16115723,\n",
              "        0.01534831],\n",
              "       [0.05023894, 0.05648534, 0.01534831, ..., 0.05023894, 0.16115723,\n",
              "        0.01534831]])"
            ]
          },
          "metadata": {},
          "execution_count": 54
        }
      ]
    },
    {
      "cell_type": "code",
      "source": [
        "error1maxes = np.argmax(error1, axis=-1)\n",
        "error2maxes = np.argmax(error2, axis=-1)\n",
        "error3maxes = np.argmax(error3, axis=-1)\n",
        "error4maxes = np.argmax(error4, axis=-1)\n",
        "\n",
        "L = len(error1maxes)\n",
        "\n",
        "print(np.count_nonzero(error1maxes - fullPolmaxes)/L)\n",
        "print(np.count_nonzero(error2maxes - fullPolmaxes)/L)\n",
        "print(np.count_nonzero(error3maxes - fullPolmaxes)/L)\n",
        "print(np.count_nonzero(error4maxes - fullPolmaxes)/L)"
      ],
      "metadata": {
        "colab": {
          "base_uri": "https://localhost:8080/"
        },
        "outputId": "eabec72a-2715-464a-b619-4c02148a330d",
        "id": "PH6nEysI8VEf"
      },
      "execution_count": null,
      "outputs": [
        {
          "output_type": "stream",
          "name": "stdout",
          "text": [
            "0.2125\n",
            "0.7319444444444444\n",
            "0.0\n",
            "0.0\n"
          ]
        }
      ]
    },
    {
      "cell_type": "code",
      "source": [
        "error1mins = np.argmin(error1, axis=-1)\n",
        "error2mins = np.argmin(error2, axis=-1)\n",
        "error3mins = np.argmin(error3, axis=-1)\n",
        "error4mins = np.argmin(error4, axis=-1)\n",
        "\n",
        "L = len(error1maxes)\n",
        "softPolmins = np.argmin(evalPolSoft, axis=-1)\n",
        "\n",
        "print(np.count_nonzero(error1mins - softPolmins)/L)\n",
        "print(np.count_nonzero(error2mins - softPolmins)/L)\n",
        "print(np.count_nonzero(error3mins - softPolmins)/L)\n",
        "print(np.count_nonzero(error4mins - softPolmins)/L)"
      ],
      "metadata": {
        "colab": {
          "base_uri": "https://localhost:8080/"
        },
        "outputId": "e4205636-dd9a-49ba-af37-efd6d8c754f8",
        "id": "yec6wYFr8VEf"
      },
      "execution_count": null,
      "outputs": [
        {
          "output_type": "stream",
          "name": "stdout",
          "text": [
            "0.9361111111111111\n",
            "0.48055555555555557\n",
            "0.8513888888888889\n",
            "0.9854166666666667\n"
          ]
        }
      ]
    },
    {
      "cell_type": "code",
      "source": [
        "print(f'{np.mean(error1)}---{np.mean(error2)}---{np.mean(error3)}---{np.mean(error4)}')"
      ],
      "metadata": {
        "colab": {
          "base_uri": "https://localhost:8080/"
        },
        "outputId": "74fc6d55-216b-4f2d-9068-577fffd6feac",
        "id": "mN_L9WXP8VEg"
      },
      "execution_count": null,
      "outputs": [
        {
          "output_type": "stream",
          "name": "stdout",
          "text": [
            "0.06686551069703242---0.13719399394218232---0.03802622498274671---0.05180053775434722\n"
          ]
        }
      ]
    },
    {
      "cell_type": "code",
      "source": [
        "print(f'{np.max(error1)}---{np.max(error2)}---{np.max(error3)}---{np.max(error4)}')"
      ],
      "metadata": {
        "colab": {
          "base_uri": "https://localhost:8080/"
        },
        "outputId": "46562777-ad35-4ceb-cc32-64eea00a4891",
        "id": "C5-AYG9m8VEh"
      },
      "execution_count": null,
      "outputs": [
        {
          "output_type": "stream",
          "name": "stdout",
          "text": [
            "0.6530020703933745---0.6530020703933747---0.11014492753623184---0.1611572285690801\n"
          ]
        }
      ]
    },
    {
      "cell_type": "code",
      "source": [
        "print(f'{np.min(error1[0])}---{np.min(error2[0])}---{np.min(error3[0])}---{np.min(error4[0])}')"
      ],
      "metadata": {
        "colab": {
          "base_uri": "https://localhost:8080/"
        },
        "outputId": "d1e1f79e-1c28-4bd5-e62a-21d3cab2acde",
        "id": "P97SuVtp8VEh"
      },
      "execution_count": null,
      "outputs": [
        {
          "output_type": "stream",
          "name": "stdout",
          "text": [
            "0.01048999309868874---0.01048999309868874---0.010489993098688755---0.015348307482769538\n"
          ]
        }
      ]
    },
    {
      "cell_type": "markdown",
      "metadata": {
        "id": "IgkXZ6gW8xKO"
      },
      "source": [
        "# $\\epsilon_{e} = 0.5$"
      ]
    },
    {
      "cell_type": "markdown",
      "metadata": {
        "id": "BBgsqQuC8xKP"
      },
      "source": [
        "Set up evaluation policy convert into factored format"
      ]
    },
    {
      "cell_type": "code",
      "execution_count": null,
      "metadata": {
        "id": "O7ae8JgH8xKP"
      },
      "outputs": [],
      "source": [
        "EVAL_EPSILON = 0.5\n",
        "\n",
        "evalPolSoft = np.copy(fullPol)\n",
        "evalPolSoft[evalPolSoft == 1] = 1 - EVAL_EPSILON\n",
        "evalPolSoft[evalPolSoft == 0] = EVAL_EPSILON / (n_actions - 1)"
      ]
    },
    {
      "cell_type": "code",
      "execution_count": null,
      "metadata": {
        "id": "gkf2pQLb8xKQ"
      },
      "outputs": [],
      "source": [
        "factored_evalPolSoft1, error1 = factor_policy_1(evalPolSoft)\n",
        "factored_evalPolSoft2, error2 = factor_policy_2(evalPolSoft)\n",
        "factored_evalPolSoft3, error3 = factor_policy_3(evalPolSoft)\n",
        "factored_evalPolSoft4, error4 = factor_policy_4(evalPolSoft)"
      ]
    },
    {
      "cell_type": "code",
      "source": [
        "error1"
      ],
      "metadata": {
        "colab": {
          "base_uri": "https://localhost:8080/"
        },
        "outputId": "11f0b22f-400e-4e83-d88b-fb9c95290675",
        "id": "PzyFJbF28xKR"
      },
      "execution_count": null,
      "outputs": [
        {
          "output_type": "execute_result",
          "data": {
            "text/plain": [
              "array([[0.05892857, 0.01607143, 0.05892857, ..., 0.54107143, 0.01607143,\n",
              "        0.01607143],\n",
              "       [0.05892857, 0.01607143, 0.05892857, ..., 0.54107143, 0.01607143,\n",
              "        0.01607143],\n",
              "       [0.05892857, 0.01607143, 0.05892857, ..., 0.54107143, 0.01607143,\n",
              "        0.01607143],\n",
              "       ...,\n",
              "       [0.05892857, 0.05892857, 0.01607143, ..., 0.01607143, 0.1125    ,\n",
              "        0.01607143],\n",
              "       [0.05892857, 0.05892857, 0.01607143, ..., 0.01607143, 0.1125    ,\n",
              "        0.01607143],\n",
              "       [0.05892857, 0.05892857, 0.01607143, ..., 0.01607143, 0.1125    ,\n",
              "        0.01607143]])"
            ]
          },
          "metadata": {},
          "execution_count": 62
        }
      ]
    },
    {
      "cell_type": "code",
      "source": [
        "error2"
      ],
      "metadata": {
        "colab": {
          "base_uri": "https://localhost:8080/"
        },
        "id": "M8vDeMPT8xKS",
        "outputId": "3bc797f2-4c1f-4d44-9eaa-030e518ab3aa"
      },
      "execution_count": null,
      "outputs": [
        {
          "output_type": "execute_result",
          "data": {
            "text/plain": [
              "array([[0.05892857, 0.01607143, 0.05892857, ..., 0.54107143, 0.01607143,\n",
              "        0.01607143],\n",
              "       [0.05892857, 0.01607143, 0.05892857, ..., 0.54107143, 0.01607143,\n",
              "        0.01607143],\n",
              "       [0.05892857, 0.01607143, 0.05892857, ..., 0.54107143, 0.01607143,\n",
              "        0.01607143],\n",
              "       ...,\n",
              "       [0.01607143, 0.01607143, 0.01607143, ..., 0.05892857, 0.4875    ,\n",
              "        0.01607143],\n",
              "       [0.01607143, 0.01607143, 0.01607143, ..., 0.05892857, 0.4875    ,\n",
              "        0.01607143],\n",
              "       [0.01607143, 0.01607143, 0.01607143, ..., 0.05892857, 0.4875    ,\n",
              "        0.01607143]])"
            ]
          },
          "metadata": {},
          "execution_count": 63
        }
      ]
    },
    {
      "cell_type": "code",
      "source": [
        "error3"
      ],
      "metadata": {
        "colab": {
          "base_uri": "https://localhost:8080/"
        },
        "outputId": "fabe6b10-6a54-4b1c-bf70-d9c675a360c9",
        "id": "MWX6t7TR8xKT"
      },
      "execution_count": null,
      "outputs": [
        {
          "output_type": "execute_result",
          "data": {
            "text/plain": [
              "array([[0.01607143, 0.01607143, 0.01607143, ..., 0.05892857, 0.05892857,\n",
              "        0.01607143],\n",
              "       [0.01607143, 0.01607143, 0.01607143, ..., 0.05892857, 0.05892857,\n",
              "        0.01607143],\n",
              "       [0.01607143, 0.01607143, 0.01607143, ..., 0.05892857, 0.05892857,\n",
              "        0.01607143],\n",
              "       ...,\n",
              "       [0.05892857, 0.05892857, 0.01607143, ..., 0.01607143, 0.1125    ,\n",
              "        0.01607143],\n",
              "       [0.05892857, 0.05892857, 0.01607143, ..., 0.01607143, 0.1125    ,\n",
              "        0.01607143],\n",
              "       [0.05892857, 0.05892857, 0.01607143, ..., 0.01607143, 0.1125    ,\n",
              "        0.01607143]])"
            ]
          },
          "metadata": {},
          "execution_count": 64
        }
      ]
    },
    {
      "cell_type": "code",
      "source": [
        "error4"
      ],
      "metadata": {
        "colab": {
          "base_uri": "https://localhost:8080/"
        },
        "outputId": "d77cbaa4-e284-4c26-c754-2d8ef88b585e",
        "id": "J7qjt2xC8xKU"
      },
      "execution_count": null,
      "outputs": [
        {
          "output_type": "execute_result",
          "data": {
            "text/plain": [
              "array([[0.0577567 , 0.02427455, 0.02427455, ..., 0.0577567 , 0.0577567 ,\n",
              "        0.02427455],\n",
              "       [0.0577567 , 0.02427455, 0.02427455, ..., 0.0577567 , 0.0577567 ,\n",
              "        0.02427455],\n",
              "       [0.0577567 , 0.02427455, 0.02427455, ..., 0.0577567 , 0.0577567 ,\n",
              "        0.02427455],\n",
              "       ...,\n",
              "       [0.0577567 , 0.06947545, 0.02427455, ..., 0.0577567 , 0.16992188,\n",
              "        0.02427455],\n",
              "       [0.0577567 , 0.06947545, 0.02427455, ..., 0.0577567 , 0.16992188,\n",
              "        0.02427455],\n",
              "       [0.0577567 , 0.06947545, 0.02427455, ..., 0.0577567 , 0.16992188,\n",
              "        0.02427455]])"
            ]
          },
          "metadata": {},
          "execution_count": 65
        }
      ]
    },
    {
      "cell_type": "code",
      "source": [
        "error1maxes = np.argmax(error1, axis=-1)\n",
        "error2maxes = np.argmax(error2, axis=-1)\n",
        "error3maxes = np.argmax(error3, axis=-1)\n",
        "error4maxes = np.argmax(error4, axis=-1)\n",
        "\n",
        "L = len(error1maxes)\n",
        "\n",
        "print(np.count_nonzero(error1maxes - fullPolmaxes)/L)\n",
        "print(np.count_nonzero(error2maxes - fullPolmaxes)/L)\n",
        "print(np.count_nonzero(error3maxes - fullPolmaxes)/L)\n",
        "print(np.count_nonzero(error4maxes - fullPolmaxes)/L)"
      ],
      "metadata": {
        "colab": {
          "base_uri": "https://localhost:8080/"
        },
        "outputId": "7dd43a17-3b8d-4485-dd99-45e6cc3cf859",
        "id": "tybnfHu88xKU"
      },
      "execution_count": null,
      "outputs": [
        {
          "output_type": "stream",
          "name": "stdout",
          "text": [
            "0.2125\n",
            "0.7319444444444444\n",
            "0.0\n",
            "0.0\n"
          ]
        }
      ]
    },
    {
      "cell_type": "code",
      "source": [
        "error1mins = np.argmin(error1, axis=-1)\n",
        "error2mins = np.argmin(error2, axis=-1)\n",
        "error3mins = np.argmin(error3, axis=-1)\n",
        "error4mins = np.argmin(error4, axis=-1)\n",
        "\n",
        "L = len(error1maxes)\n",
        "softPolmins = np.argmin(evalPolSoft, axis=-1)\n",
        "\n",
        "print(np.count_nonzero(error1mins - softPolmins)/L)\n",
        "print(np.count_nonzero(error2mins - softPolmins)/L)\n",
        "print(np.count_nonzero(error3mins - softPolmins)/L)\n",
        "print(np.count_nonzero(error4mins - softPolmins)/L)"
      ],
      "metadata": {
        "colab": {
          "base_uri": "https://localhost:8080/"
        },
        "outputId": "ab53096f-5277-4344-c182-33d28197f29d",
        "id": "u4Jf9Bbe8xKV"
      },
      "execution_count": null,
      "outputs": [
        {
          "output_type": "stream",
          "name": "stdout",
          "text": [
            "0.9048611111111111\n",
            "0.3854166666666667\n",
            "0.7729166666666667\n",
            "0.9048611111111111\n"
          ]
        }
      ]
    },
    {
      "cell_type": "code",
      "source": [
        "print(f'{np.mean(error1)}---{np.mean(error2)}---{np.mean(error3)}---{np.mean(error4)}')"
      ],
      "metadata": {
        "colab": {
          "base_uri": "https://localhost:8080/"
        },
        "outputId": "fd272025-18c2-4df5-c291-2fa790cdc3d2",
        "id": "-VudSmwF8xKW"
      },
      "execution_count": null,
      "outputs": [
        {
          "output_type": "stream",
          "name": "stdout",
          "text": [
            "0.06696428571428571---0.12236235119047618---0.04419642857142857---0.060686383928571425\n"
          ]
        }
      ]
    },
    {
      "cell_type": "code",
      "source": [
        "print(f'{np.max(error1)}---{np.max(error2)}---{np.max(error3)}---{np.max(error4)}')"
      ],
      "metadata": {
        "colab": {
          "base_uri": "https://localhost:8080/"
        },
        "outputId": "55d8a4b3-b164-4bc1-9cfa-974528b99b1d",
        "id": "ny3anfgz8xKX"
      },
      "execution_count": null,
      "outputs": [
        {
          "output_type": "stream",
          "name": "stdout",
          "text": [
            "0.5410714285714286---0.5410714285714286---0.11250000000000004---0.169921875\n"
          ]
        }
      ]
    },
    {
      "cell_type": "code",
      "source": [
        "print(f'{np.min(error1[0])}---{np.min(error2[0])}---{np.min(error3[0])}---{np.min(error4[0])}')"
      ],
      "metadata": {
        "colab": {
          "base_uri": "https://localhost:8080/"
        },
        "outputId": "60aac931-2096-4a2d-efdd-c0bf70eb6ca7",
        "id": "mY_qQzNF8xKX"
      },
      "execution_count": null,
      "outputs": [
        {
          "output_type": "stream",
          "name": "stdout",
          "text": [
            "0.016071428571428584---0.016071428571428584---0.01607142857142857---0.024274553571428575\n"
          ]
        }
      ]
    },
    {
      "cell_type": "markdown",
      "metadata": {
        "id": "qWGPCsYk85QX"
      },
      "source": [
        "# $\\epsilon_{e} = 0.6$"
      ]
    },
    {
      "cell_type": "markdown",
      "metadata": {
        "id": "IWeyqMSe85QY"
      },
      "source": [
        "Set up evaluation policy convert into factored format"
      ]
    },
    {
      "cell_type": "code",
      "execution_count": null,
      "metadata": {
        "id": "3ApMQA2p85QZ"
      },
      "outputs": [],
      "source": [
        "EVAL_EPSILON = 0.6\n",
        "\n",
        "evalPolSoft = np.copy(fullPol)\n",
        "evalPolSoft[evalPolSoft == 1] = 1 - EVAL_EPSILON\n",
        "evalPolSoft[evalPolSoft == 0] = EVAL_EPSILON / (n_actions - 1)"
      ]
    },
    {
      "cell_type": "code",
      "execution_count": null,
      "metadata": {
        "id": "MhYe2iEA85Qa"
      },
      "outputs": [],
      "source": [
        "factored_evalPolSoft1, error1 = factor_policy_1(evalPolSoft)\n",
        "factored_evalPolSoft2, error2 = factor_policy_2(evalPolSoft)\n",
        "factored_evalPolSoft3, error3 = factor_policy_3(evalPolSoft)\n",
        "factored_evalPolSoft4, error4 = factor_policy_4(evalPolSoft)"
      ]
    },
    {
      "cell_type": "code",
      "source": [
        "error1"
      ],
      "metadata": {
        "colab": {
          "base_uri": "https://localhost:8080/"
        },
        "outputId": "9a160dc1-61ba-4645-8526-8063744db314",
        "id": "Ty6m6cMs85Qb"
      },
      "execution_count": null,
      "outputs": [
        {
          "output_type": "execute_result",
          "data": {
            "text/plain": [
              "array([[0.06269638, 0.02170259, 0.06269638, ..., 0.41556449, 0.02170259,\n",
              "        0.02170259],\n",
              "       [0.06269638, 0.02170259, 0.06269638, ..., 0.41556449, 0.02170259,\n",
              "        0.02170259],\n",
              "       [0.06269638, 0.02170259, 0.06269638, ..., 0.41556449, 0.02170259,\n",
              "        0.02170259],\n",
              "       ...,\n",
              "       [0.06269638, 0.06269638, 0.02170259, ..., 0.02170259, 0.10127877,\n",
              "        0.02170259],\n",
              "       [0.06269638, 0.06269638, 0.02170259, ..., 0.02170259, 0.10127877,\n",
              "        0.02170259],\n",
              "       [0.06269638, 0.06269638, 0.02170259, ..., 0.02170259, 0.10127877,\n",
              "        0.02170259]])"
            ]
          },
          "metadata": {},
          "execution_count": 73
        }
      ]
    },
    {
      "cell_type": "code",
      "source": [
        "error2"
      ],
      "metadata": {
        "colab": {
          "base_uri": "https://localhost:8080/"
        },
        "id": "vbv4Mt2J85Qd",
        "outputId": "6ec2eb79-46e8-4df7-d1ed-7cecbfd1832b"
      },
      "execution_count": null,
      "outputs": [
        {
          "output_type": "execute_result",
          "data": {
            "text/plain": [
              "array([[0.06269638, 0.02170259, 0.06269638, ..., 0.41556449, 0.02170259,\n",
              "        0.02170259],\n",
              "       [0.06269638, 0.02170259, 0.06269638, ..., 0.41556449, 0.02170259,\n",
              "        0.02170259],\n",
              "       [0.06269638, 0.02170259, 0.06269638, ..., 0.41556449, 0.02170259,\n",
              "        0.02170259],\n",
              "       ...,\n",
              "       [0.02170259, 0.02170259, 0.02170259, ..., 0.06269638, 0.3769821 ,\n",
              "        0.02170259],\n",
              "       [0.02170259, 0.02170259, 0.02170259, ..., 0.06269638, 0.3769821 ,\n",
              "        0.02170259],\n",
              "       [0.02170259, 0.02170259, 0.02170259, ..., 0.06269638, 0.3769821 ,\n",
              "        0.02170259]])"
            ]
          },
          "metadata": {},
          "execution_count": 74
        }
      ]
    },
    {
      "cell_type": "code",
      "source": [
        "error3"
      ],
      "metadata": {
        "colab": {
          "base_uri": "https://localhost:8080/"
        },
        "outputId": "81494d74-323f-45a0-f818-1b010c1c748e",
        "id": "4jgkGE8V85Qe"
      },
      "execution_count": null,
      "outputs": [
        {
          "output_type": "execute_result",
          "data": {
            "text/plain": [
              "array([[0.02170259, 0.02170259, 0.02170259, ..., 0.06269638, 0.06269638,\n",
              "        0.02170259],\n",
              "       [0.02170259, 0.02170259, 0.02170259, ..., 0.06269638, 0.06269638,\n",
              "        0.02170259],\n",
              "       [0.02170259, 0.02170259, 0.02170259, ..., 0.06269638, 0.06269638,\n",
              "        0.02170259],\n",
              "       ...,\n",
              "       [0.06269638, 0.06269638, 0.02170259, ..., 0.02170259, 0.10127877,\n",
              "        0.02170259],\n",
              "       [0.06269638, 0.06269638, 0.02170259, ..., 0.02170259, 0.10127877,\n",
              "        0.02170259],\n",
              "       [0.06269638, 0.06269638, 0.02170259, ..., 0.02170259, 0.10127877,\n",
              "        0.02170259]])"
            ]
          },
          "metadata": {},
          "execution_count": 75
        }
      ]
    },
    {
      "cell_type": "code",
      "source": [
        "error4"
      ],
      "metadata": {
        "colab": {
          "base_uri": "https://localhost:8080/"
        },
        "outputId": "d5779a20-37d1-4d47-a625-584d1a83070f",
        "id": "ssSjBE9n85Qf"
      },
      "execution_count": null,
      "outputs": [
        {
          "output_type": "execute_result",
          "data": {
            "text/plain": [
              "array([[0.06006804, 0.03396819, 0.03396819, ..., 0.06006804, 0.06006804,\n",
              "        0.03396819],\n",
              "       [0.06006804, 0.03396819, 0.03396819, ..., 0.06006804, 0.06006804,\n",
              "        0.03396819],\n",
              "       [0.06006804, 0.03396819, 0.03396819, ..., 0.06006804, 0.06006804,\n",
              "        0.03396819],\n",
              "       ...,\n",
              "       [0.06006804, 0.08021866, 0.03396819, ..., 0.06006804, 0.15851822,\n",
              "        0.03396819],\n",
              "       [0.06006804, 0.08021866, 0.03396819, ..., 0.06006804, 0.15851822,\n",
              "        0.03396819],\n",
              "       [0.06006804, 0.08021866, 0.03396819, ..., 0.06006804, 0.15851822,\n",
              "        0.03396819]])"
            ]
          },
          "metadata": {},
          "execution_count": 76
        }
      ]
    },
    {
      "cell_type": "code",
      "source": [
        "error1maxes = np.argmax(error1, axis=-1)\n",
        "error2maxes = np.argmax(error2, axis=-1)\n",
        "error3maxes = np.argmax(error3, axis=-1)\n",
        "error4maxes = np.argmax(error4, axis=-1)\n",
        "\n",
        "L = len(error1maxes)\n",
        "\n",
        "print(np.count_nonzero(error1maxes - fullPolmaxes)/L)\n",
        "print(np.count_nonzero(error2maxes - fullPolmaxes)/L)\n",
        "print(np.count_nonzero(error3maxes - fullPolmaxes)/L)\n",
        "print(np.count_nonzero(error4maxes - fullPolmaxes)/L)"
      ],
      "metadata": {
        "colab": {
          "base_uri": "https://localhost:8080/"
        },
        "outputId": "8d06fed8-8f58-4d58-847f-85e5b0e8f685",
        "id": "dhxHgV3e85Qg"
      },
      "execution_count": null,
      "outputs": [
        {
          "output_type": "stream",
          "name": "stdout",
          "text": [
            "0.2125\n",
            "0.7319444444444444\n",
            "0.0\n",
            "0.0\n"
          ]
        }
      ]
    },
    {
      "cell_type": "code",
      "source": [
        "error1mins = np.argmin(error1, axis=-1)\n",
        "error2mins = np.argmin(error2, axis=-1)\n",
        "error3mins = np.argmin(error3, axis=-1)\n",
        "error4mins = np.argmin(error4, axis=-1)\n",
        "\n",
        "L = len(error1maxes)\n",
        "softPolmins = np.argmin(evalPolSoft, axis=-1)\n",
        "\n",
        "print(np.count_nonzero(error1mins - softPolmins)/L)\n",
        "print(np.count_nonzero(error2mins - softPolmins)/L)\n",
        "print(np.count_nonzero(error3mins - softPolmins)/L)\n",
        "print(np.count_nonzero(error4mins - softPolmins)/L)"
      ],
      "metadata": {
        "colab": {
          "base_uri": "https://localhost:8080/"
        },
        "outputId": "13353c97-6f5f-439c-c729-cf87b44e151b",
        "id": "hKZqKXYk85Qh"
      },
      "execution_count": null,
      "outputs": [
        {
          "output_type": "stream",
          "name": "stdout",
          "text": [
            "0.9048611111111111\n",
            "0.3854166666666667\n",
            "0.7729166666666667\n",
            "0.9194444444444444\n"
          ]
        }
      ]
    },
    {
      "cell_type": "code",
      "source": [
        "print(f'{np.mean(error1)}---{np.mean(error2)}---{np.mean(error3)}---{np.mean(error4)}')"
      ],
      "metadata": {
        "colab": {
          "base_uri": "https://localhost:8080/"
        },
        "outputId": "98647df0-c1b1-4a6b-efb7-d0d4d57e4208",
        "id": "s7FNqoel85Qi"
      },
      "execution_count": null,
      "outputs": [
        {
          "output_type": "stream",
          "name": "stdout",
          "text": [
            "0.06371871574716842---0.10418556915519829---0.04702228717573985---0.06510569625774185\n"
          ]
        }
      ]
    },
    {
      "cell_type": "code",
      "source": [
        "print(f'{np.max(error1)}---{np.max(error2)}---{np.max(error3)}---{np.max(error4)}')"
      ],
      "metadata": {
        "colab": {
          "base_uri": "https://localhost:8080/"
        },
        "outputId": "66dc9e4b-2462-4546-b6e7-4b925f33ce5d",
        "id": "36Ge0Ahw85Qj"
      },
      "execution_count": null,
      "outputs": [
        {
          "output_type": "stream",
          "name": "stdout",
          "text": [
            "0.41556448666423085---0.41556448666423085---0.10127877237851657---0.15851821697537138\n"
          ]
        }
      ]
    },
    {
      "cell_type": "code",
      "source": [
        "print(f'{np.min(error1[0])}---{np.min(error2[0])}---{np.min(error3[0])}---{np.min(error4[0])}')"
      ],
      "metadata": {
        "colab": {
          "base_uri": "https://localhost:8080/"
        },
        "outputId": "4a143149-1634-498c-9782-0bd87c361004",
        "id": "VNjzHKOS85Qk"
      },
      "execution_count": null,
      "outputs": [
        {
          "output_type": "stream",
          "name": "stdout",
          "text": [
            "0.02170259408111068---0.02170259408111068---0.021702594081110693---0.03396818935186528\n"
          ]
        }
      ]
    },
    {
      "cell_type": "markdown",
      "metadata": {
        "id": "EJKt0lhY9TVi"
      },
      "source": [
        "# $\\epsilon_{e} = 0.7$"
      ]
    },
    {
      "cell_type": "markdown",
      "metadata": {
        "id": "e8XccsmB9TVj"
      },
      "source": [
        "Set up evaluation policy convert into factored format"
      ]
    },
    {
      "cell_type": "code",
      "execution_count": null,
      "metadata": {
        "id": "tb-Gvyei9TVk"
      },
      "outputs": [],
      "source": [
        "EVAL_EPSILON = 0.7\n",
        "\n",
        "evalPolSoft = np.copy(fullPol)\n",
        "evalPolSoft[evalPolSoft == 1] = 1 - EVAL_EPSILON\n",
        "evalPolSoft[evalPolSoft == 0] = EVAL_EPSILON / (n_actions - 1)"
      ]
    },
    {
      "cell_type": "code",
      "execution_count": null,
      "metadata": {
        "id": "KoIAMd_C9TVl"
      },
      "outputs": [],
      "source": [
        "factored_evalPolSoft1, error1 = factor_policy_1(evalPolSoft)\n",
        "factored_evalPolSoft2, error2 = factor_policy_2(evalPolSoft)\n",
        "factored_evalPolSoft3, error3 = factor_policy_3(evalPolSoft)\n",
        "factored_evalPolSoft4, error4 = factor_policy_4(evalPolSoft)"
      ]
    },
    {
      "cell_type": "code",
      "source": [
        "error1"
      ],
      "metadata": {
        "colab": {
          "base_uri": "https://localhost:8080/"
        },
        "outputId": "60dd9ae2-a9e4-4dc5-d187-9927b7d523f3",
        "id": "6q3XE2ch9TVl"
      },
      "execution_count": null,
      "outputs": [
        {
          "output_type": "execute_result",
          "data": {
            "text/plain": [
              "array([[0.05833333, 0.025     , 0.05833333, ..., 0.275     , 0.025     ,\n",
              "        0.025     ],\n",
              "       [0.05833333, 0.025     , 0.05833333, ..., 0.275     , 0.025     ,\n",
              "        0.025     ],\n",
              "       [0.05833333, 0.025     , 0.05833333, ..., 0.275     , 0.025     ,\n",
              "        0.025     ],\n",
              "       ...,\n",
              "       [0.05833333, 0.05833333, 0.025     , ..., 0.025     , 0.075     ,\n",
              "        0.025     ],\n",
              "       [0.05833333, 0.05833333, 0.025     , ..., 0.025     , 0.075     ,\n",
              "        0.025     ],\n",
              "       [0.05833333, 0.05833333, 0.025     , ..., 0.025     , 0.075     ,\n",
              "        0.025     ]])"
            ]
          },
          "metadata": {},
          "execution_count": 84
        }
      ]
    },
    {
      "cell_type": "code",
      "source": [
        "error2"
      ],
      "metadata": {
        "colab": {
          "base_uri": "https://localhost:8080/"
        },
        "id": "GLoF6PCB9TVm",
        "outputId": "23f156f6-5c4b-436a-8d56-b03df03a1ec7"
      },
      "execution_count": null,
      "outputs": [
        {
          "output_type": "execute_result",
          "data": {
            "text/plain": [
              "array([[0.05833333, 0.025     , 0.05833333, ..., 0.275     , 0.025     ,\n",
              "        0.025     ],\n",
              "       [0.05833333, 0.025     , 0.05833333, ..., 0.275     , 0.025     ,\n",
              "        0.025     ],\n",
              "       [0.05833333, 0.025     , 0.05833333, ..., 0.275     , 0.025     ,\n",
              "        0.025     ],\n",
              "       ...,\n",
              "       [0.025     , 0.025     , 0.025     , ..., 0.05833333, 0.25833333,\n",
              "        0.025     ],\n",
              "       [0.025     , 0.025     , 0.025     , ..., 0.05833333, 0.25833333,\n",
              "        0.025     ],\n",
              "       [0.025     , 0.025     , 0.025     , ..., 0.05833333, 0.25833333,\n",
              "        0.025     ]])"
            ]
          },
          "metadata": {},
          "execution_count": 85
        }
      ]
    },
    {
      "cell_type": "code",
      "source": [
        "error3"
      ],
      "metadata": {
        "colab": {
          "base_uri": "https://localhost:8080/"
        },
        "outputId": "939e648a-92ce-42cd-cd7e-f26cfaebb0a5",
        "id": "M3I6SiiC9TVo"
      },
      "execution_count": null,
      "outputs": [
        {
          "output_type": "execute_result",
          "data": {
            "text/plain": [
              "array([[0.025     , 0.025     , 0.025     , ..., 0.05833333, 0.05833333,\n",
              "        0.025     ],\n",
              "       [0.025     , 0.025     , 0.025     , ..., 0.05833333, 0.05833333,\n",
              "        0.025     ],\n",
              "       [0.025     , 0.025     , 0.025     , ..., 0.05833333, 0.05833333,\n",
              "        0.025     ],\n",
              "       ...,\n",
              "       [0.05833333, 0.05833333, 0.025     , ..., 0.025     , 0.075     ,\n",
              "        0.025     ],\n",
              "       [0.05833333, 0.05833333, 0.025     , ..., 0.025     , 0.075     ,\n",
              "        0.025     ],\n",
              "       [0.05833333, 0.05833333, 0.025     , ..., 0.025     , 0.075     ,\n",
              "        0.025     ]])"
            ]
          },
          "metadata": {},
          "execution_count": 86
        }
      ]
    },
    {
      "cell_type": "code",
      "source": [
        "error4"
      ],
      "metadata": {
        "colab": {
          "base_uri": "https://localhost:8080/"
        },
        "outputId": "2de767e6-6e8d-43e7-8a14-827f5e81edb2",
        "id": "I9BUyB5Y9TVp"
      },
      "execution_count": null,
      "outputs": [
        {
          "output_type": "execute_result",
          "data": {
            "text/plain": [
              "array([[0.053125, 0.040625, 0.040625, ..., 0.053125, 0.053125, 0.040625],\n",
              "       [0.053125, 0.040625, 0.040625, ..., 0.053125, 0.053125, 0.040625],\n",
              "       [0.053125, 0.040625, 0.040625, ..., 0.053125, 0.053125, 0.040625],\n",
              "       ...,\n",
              "       [0.053125, 0.084375, 0.040625, ..., 0.053125, 0.121875, 0.040625],\n",
              "       [0.053125, 0.084375, 0.040625, ..., 0.053125, 0.121875, 0.040625],\n",
              "       [0.053125, 0.084375, 0.040625, ..., 0.053125, 0.121875, 0.040625]])"
            ]
          },
          "metadata": {},
          "execution_count": 87
        }
      ]
    },
    {
      "cell_type": "code",
      "source": [
        "error1maxes = np.argmax(error1, axis=-1)\n",
        "error2maxes = np.argmax(error2, axis=-1)\n",
        "error3maxes = np.argmax(error3, axis=-1)\n",
        "error4maxes = np.argmax(error4, axis=-1)\n",
        "\n",
        "L = len(error1maxes)\n",
        "\n",
        "print(np.count_nonzero(error1maxes - fullPolmaxes)/L)\n",
        "print(np.count_nonzero(error2maxes - fullPolmaxes)/L)\n",
        "print(np.count_nonzero(error3maxes - fullPolmaxes)/L)\n",
        "print(np.count_nonzero(error4maxes - fullPolmaxes)/L)"
      ],
      "metadata": {
        "colab": {
          "base_uri": "https://localhost:8080/"
        },
        "outputId": "5755523b-975e-4b8b-c161-700cc8ff130a",
        "id": "u1SgfiyB9TVq"
      },
      "execution_count": null,
      "outputs": [
        {
          "output_type": "stream",
          "name": "stdout",
          "text": [
            "0.2125\n",
            "0.7319444444444444\n",
            "0.0\n",
            "0.0\n"
          ]
        }
      ]
    },
    {
      "cell_type": "code",
      "source": [
        "error1mins = np.argmin(error1, axis=-1)\n",
        "error2mins = np.argmin(error2, axis=-1)\n",
        "error3mins = np.argmin(error3, axis=-1)\n",
        "error4mins = np.argmin(error4, axis=-1)\n",
        "\n",
        "L = len(error1maxes)\n",
        "softPolmins = np.argmin(evalPolSoft, axis=-1)\n",
        "\n",
        "print(np.count_nonzero(error1mins - softPolmins)/L)\n",
        "print(np.count_nonzero(error2mins - softPolmins)/L)\n",
        "print(np.count_nonzero(error3mins - softPolmins)/L)\n",
        "print(np.count_nonzero(error4mins - softPolmins)/L)"
      ],
      "metadata": {
        "colab": {
          "base_uri": "https://localhost:8080/"
        },
        "outputId": "e9852332-a9a4-4f4d-cf09-f446d482c2b7",
        "id": "tiGvvZp69TVr"
      },
      "execution_count": null,
      "outputs": [
        {
          "output_type": "stream",
          "name": "stdout",
          "text": [
            "0.9048611111111111\n",
            "0.3854166666666667\n",
            "0.7729166666666667\n",
            "0.9048611111111111\n"
          ]
        }
      ]
    },
    {
      "cell_type": "code",
      "source": [
        "print(f'{np.mean(error1)}---{np.mean(error2)}---{np.mean(error3)}---{np.mean(error4)}')"
      ],
      "metadata": {
        "colab": {
          "base_uri": "https://localhost:8080/"
        },
        "outputId": "9a75bdea-2db6-4ffb-b5a5-ac272efc5642",
        "id": "-Zc5Pkih9TVs"
      },
      "execution_count": null,
      "outputs": [
        {
          "output_type": "stream",
          "name": "stdout",
          "text": [
            "0.05437500000000003---0.07994791666666669---0.04375000000000002---0.060937500000000026\n"
          ]
        }
      ]
    },
    {
      "cell_type": "code",
      "source": [
        "print(f'{np.max(error1)}---{np.max(error2)}---{np.max(error3)}---{np.max(error4)}')"
      ],
      "metadata": {
        "colab": {
          "base_uri": "https://localhost:8080/"
        },
        "outputId": "d22df941-daa2-43e9-c2d6-4a3ed548ef7e",
        "id": "0EpylSna9TVs"
      },
      "execution_count": null,
      "outputs": [
        {
          "output_type": "stream",
          "name": "stdout",
          "text": [
            "0.2750000000000002---0.2750000000000002---0.07500000000000012---0.12187500000000018\n"
          ]
        }
      ]
    },
    {
      "cell_type": "code",
      "source": [
        "print(f'{np.min(error1[0])}---{np.min(error2[0])}---{np.min(error3[0])}---{np.min(error4[0])}')"
      ],
      "metadata": {
        "colab": {
          "base_uri": "https://localhost:8080/"
        },
        "outputId": "d669ed12-80e3-407c-dcb3-52511d30aba0",
        "id": "dTTyPBB99TVt"
      },
      "execution_count": null,
      "outputs": [
        {
          "output_type": "stream",
          "name": "stdout",
          "text": [
            "0.02500000000000001---0.02500000000000001---0.024999999999999994---0.040625000000000036\n"
          ]
        }
      ]
    },
    {
      "cell_type": "markdown",
      "metadata": {
        "id": "wTri3hZ59Wll"
      },
      "source": [
        "# $\\epsilon_{e} = 0.8$"
      ]
    },
    {
      "cell_type": "markdown",
      "metadata": {
        "id": "IHF6MuUP9WmC"
      },
      "source": [
        "Set up evaluation policy convert into factored format"
      ]
    },
    {
      "cell_type": "code",
      "execution_count": null,
      "metadata": {
        "id": "6Su2_hYl9WmD"
      },
      "outputs": [],
      "source": [
        "EVAL_EPSILON = 0.8\n",
        "\n",
        "evalPolSoft = np.copy(fullPol)\n",
        "evalPolSoft[evalPolSoft == 1] = 1 - EVAL_EPSILON\n",
        "evalPolSoft[evalPolSoft == 0] = EVAL_EPSILON / (n_actions - 1)"
      ]
    },
    {
      "cell_type": "code",
      "execution_count": null,
      "metadata": {
        "id": "8K61-we89WmE"
      },
      "outputs": [],
      "source": [
        "factored_evalPolSoft1, error1 = factor_policy_1(evalPolSoft)\n",
        "factored_evalPolSoft2, error2 = factor_policy_2(evalPolSoft)\n",
        "factored_evalPolSoft3, error3 = factor_policy_3(evalPolSoft)\n",
        "factored_evalPolSoft4, error4 = factor_policy_4(evalPolSoft)"
      ]
    },
    {
      "cell_type": "code",
      "source": [
        "error1"
      ],
      "metadata": {
        "colab": {
          "base_uri": "https://localhost:8080/"
        },
        "outputId": "ab9ffc62-022c-4580-a9b5-ff17722e76cb",
        "id": "8k_F8z6q9WmE"
      },
      "execution_count": null,
      "outputs": [
        {
          "output_type": "execute_result",
          "data": {
            "text/plain": [
              "array([[0.03773069, 0.01968558, 0.03773069, ..., 0.12016405, 0.01968558,\n",
              "        0.01968558],\n",
              "       [0.03773069, 0.01968558, 0.03773069, ..., 0.12016405, 0.01968558,\n",
              "        0.01968558],\n",
              "       [0.03773069, 0.01968558, 0.03773069, ..., 0.12016405, 0.01968558,\n",
              "        0.01968558],\n",
              "       ...,\n",
              "       [0.03773069, 0.03773069, 0.01968558, ..., 0.01968558, 0.03444976,\n",
              "        0.01968558],\n",
              "       [0.03773069, 0.03773069, 0.01968558, ..., 0.01968558, 0.03444976,\n",
              "        0.01968558],\n",
              "       [0.03773069, 0.03773069, 0.01968558, ..., 0.01968558, 0.03444976,\n",
              "        0.01968558]])"
            ]
          },
          "metadata": {},
          "execution_count": 95
        }
      ]
    },
    {
      "cell_type": "code",
      "source": [
        "error2"
      ],
      "metadata": {
        "colab": {
          "base_uri": "https://localhost:8080/"
        },
        "id": "ovaRLQSD9WmF",
        "outputId": "83fcc31a-a3d2-4c8c-8428-ab248704e5b1"
      },
      "execution_count": null,
      "outputs": [
        {
          "output_type": "execute_result",
          "data": {
            "text/plain": [
              "array([[0.03773069, 0.01968558, 0.03773069, ..., 0.12016405, 0.01968558,\n",
              "        0.01968558],\n",
              "       [0.03773069, 0.01968558, 0.03773069, ..., 0.12016405, 0.01968558,\n",
              "        0.01968558],\n",
              "       [0.03773069, 0.01968558, 0.03773069, ..., 0.12016405, 0.01968558,\n",
              "        0.01968558],\n",
              "       ...,\n",
              "       [0.01968558, 0.01968558, 0.01968558, ..., 0.03773069, 0.12344498,\n",
              "        0.01968558],\n",
              "       [0.01968558, 0.01968558, 0.01968558, ..., 0.03773069, 0.12344498,\n",
              "        0.01968558],\n",
              "       [0.01968558, 0.01968558, 0.01968558, ..., 0.03773069, 0.12344498,\n",
              "        0.01968558]])"
            ]
          },
          "metadata": {},
          "execution_count": 96
        }
      ]
    },
    {
      "cell_type": "code",
      "source": [
        "error3"
      ],
      "metadata": {
        "colab": {
          "base_uri": "https://localhost:8080/"
        },
        "outputId": "74a7977a-78e9-4a9b-f90b-55190570ef9f",
        "id": "0WRPCYW99WmG"
      },
      "execution_count": null,
      "outputs": [
        {
          "output_type": "execute_result",
          "data": {
            "text/plain": [
              "array([[0.01968558, 0.01968558, 0.01968558, ..., 0.03773069, 0.03773069,\n",
              "        0.01968558],\n",
              "       [0.01968558, 0.01968558, 0.01968558, ..., 0.03773069, 0.03773069,\n",
              "        0.01968558],\n",
              "       [0.01968558, 0.01968558, 0.01968558, ..., 0.03773069, 0.03773069,\n",
              "        0.01968558],\n",
              "       ...,\n",
              "       [0.03773069, 0.03773069, 0.01968558, ..., 0.01968558, 0.03444976,\n",
              "        0.01968558],\n",
              "       [0.03773069, 0.03773069, 0.01968558, ..., 0.01968558, 0.03444976,\n",
              "        0.01968558],\n",
              "       [0.03773069, 0.03773069, 0.01968558, ..., 0.01968558, 0.03444976,\n",
              "        0.01968558]])"
            ]
          },
          "metadata": {},
          "execution_count": 97
        }
      ]
    },
    {
      "cell_type": "code",
      "source": [
        "error4"
      ],
      "metadata": {
        "colab": {
          "base_uri": "https://localhost:8080/"
        },
        "outputId": "a6aa3054-3ab8-4c86-b3e5-c3978471cd53",
        "id": "urSgyof39WmH"
      },
      "execution_count": null,
      "outputs": [
        {
          "output_type": "execute_result",
          "data": {
            "text/plain": [
              "array([[0.03013846, 0.03297199, 0.03297199, ..., 0.03013846, 0.03013846,\n",
              "        0.03297199],\n",
              "       [0.03013846, 0.03297199, 0.03297199, ..., 0.03013846, 0.03013846,\n",
              "        0.03297199],\n",
              "       [0.03013846, 0.03297199, 0.03297199, ..., 0.03013846, 0.03013846,\n",
              "        0.03297199],\n",
              "       ...,\n",
              "       [0.03013846, 0.06620157, 0.03297199, ..., 0.03013846, 0.05770098,\n",
              "        0.03297199],\n",
              "       [0.03013846, 0.06620157, 0.03297199, ..., 0.03013846, 0.05770098,\n",
              "        0.03297199],\n",
              "       [0.03013846, 0.06620157, 0.03297199, ..., 0.03013846, 0.05770098,\n",
              "        0.03297199]])"
            ]
          },
          "metadata": {},
          "execution_count": 98
        }
      ]
    },
    {
      "cell_type": "code",
      "source": [
        "error1maxes = np.argmax(error1, axis=-1)\n",
        "error2maxes = np.argmax(error2, axis=-1)\n",
        "error3maxes = np.argmax(error3, axis=-1)\n",
        "error4maxes = np.argmax(error4, axis=-1)\n",
        "\n",
        "L = len(error1maxes)\n",
        "\n",
        "print(np.count_nonzero(error1maxes - fullPolmaxes)/L)\n",
        "print(np.count_nonzero(error2maxes - fullPolmaxes)/L)\n",
        "print(np.count_nonzero(error3maxes - fullPolmaxes)/L)\n",
        "print(np.count_nonzero(error4maxes - fullPolmaxes)/L)"
      ],
      "metadata": {
        "colab": {
          "base_uri": "https://localhost:8080/"
        },
        "outputId": "8b59f4f1-1145-44b7-ae4c-ea54a5430b21",
        "id": "MYN7FJ0g9WmH"
      },
      "execution_count": null,
      "outputs": [
        {
          "output_type": "stream",
          "name": "stdout",
          "text": [
            "0.7875\n",
            "0.33194444444444443\n",
            "1.0\n",
            "1.0\n"
          ]
        }
      ]
    },
    {
      "cell_type": "code",
      "source": [
        "error1mins = np.argmin(error1, axis=-1)\n",
        "error2mins = np.argmin(error2, axis=-1)\n",
        "error3mins = np.argmin(error3, axis=-1)\n",
        "error4mins = np.argmin(error4, axis=-1)\n",
        "\n",
        "L = len(error1maxes)\n",
        "softPolmins = np.argmin(evalPolSoft, axis=-1)\n",
        "\n",
        "print(np.count_nonzero(error1mins - softPolmins)/L)\n",
        "print(np.count_nonzero(error2mins - softPolmins)/L)\n",
        "print(np.count_nonzero(error3mins - softPolmins)/L)\n",
        "print(np.count_nonzero(error4mins - softPolmins)/L)"
      ],
      "metadata": {
        "colab": {
          "base_uri": "https://localhost:8080/"
        },
        "outputId": "f166b802-d802-4f9d-96e5-b80aabcdd5f8",
        "id": "f7P7-bFn9WmI"
      },
      "execution_count": null,
      "outputs": [
        {
          "output_type": "stream",
          "name": "stdout",
          "text": [
            "0.9048611111111111\n",
            "0.3854166666666667\n",
            "0.7729166666666667\n",
            "0.3486111111111111\n"
          ]
        }
      ]
    },
    {
      "cell_type": "code",
      "source": [
        "print(f'{np.mean(error1)}---{np.mean(error2)}---{np.mean(error3)}---{np.mean(error4)}')"
      ],
      "metadata": {
        "colab": {
          "base_uri": "https://localhost:8080/"
        },
        "outputId": "96b9fe53-20e9-4758-ce37-7f0bb287f645",
        "id": "2ugqC0Jk9WmJ"
      },
      "execution_count": null,
      "outputs": [
        {
          "output_type": "stream",
          "name": "stdout",
          "text": [
            "0.032851589200273396---0.04366811916154019---0.02829801777170197---0.039154234195556484\n"
          ]
        }
      ]
    },
    {
      "cell_type": "code",
      "source": [
        "print(f'{np.max(error1)}---{np.max(error2)}---{np.max(error3)}---{np.max(error4)}')"
      ],
      "metadata": {
        "colab": {
          "base_uri": "https://localhost:8080/"
        },
        "outputId": "c7a8c2da-2823-459d-d8e7-e47b6cad093b",
        "id": "ezvyJHnE9WmK"
      },
      "execution_count": null,
      "outputs": [
        {
          "output_type": "stream",
          "name": "stdout",
          "text": [
            "0.12344497607655497---0.12344497607655497---0.03773069036226931---0.06620156702801329\n"
          ]
        }
      ]
    },
    {
      "cell_type": "code",
      "source": [
        "print(f'{np.min(error1[0])}---{np.min(error2[0])}---{np.min(error3[0])}---{np.min(error4[0])}')"
      ],
      "metadata": {
        "colab": {
          "base_uri": "https://localhost:8080/"
        },
        "outputId": "af8b6600-8531-4d72-c4a7-9125dc77b47b",
        "id": "BeGVB2KX9WmL"
      },
      "execution_count": null,
      "outputs": [
        {
          "output_type": "stream",
          "name": "stdout",
          "text": [
            "0.01968557758031439---0.01968557758031439---0.019685577580314417---0.030138456584737572\n"
          ]
        }
      ]
    },
    {
      "cell_type": "markdown",
      "metadata": {
        "id": "SA0Y5PG29hHX"
      },
      "source": [
        "# $\\epsilon_{e} = 0.875$"
      ]
    },
    {
      "cell_type": "markdown",
      "metadata": {
        "id": "P1KPOwaR9hH0"
      },
      "source": [
        "Set up evaluation policy convert into factored format"
      ]
    },
    {
      "cell_type": "code",
      "execution_count": null,
      "metadata": {
        "id": "dOoVKWYd9hH1"
      },
      "outputs": [],
      "source": [
        "EVAL_EPSILON = 0.875\n",
        "\n",
        "evalPolSoft = np.copy(fullPol)\n",
        "evalPolSoft[evalPolSoft == 1] = 1 - EVAL_EPSILON\n",
        "evalPolSoft[evalPolSoft == 0] = EVAL_EPSILON / (n_actions - 1)"
      ]
    },
    {
      "cell_type": "code",
      "execution_count": null,
      "metadata": {
        "id": "1DGbamZo9hH1"
      },
      "outputs": [],
      "source": [
        "factored_evalPolSoft1, error1 = factor_policy_1(evalPolSoft)\n",
        "factored_evalPolSoft2, error2 = factor_policy_2(evalPolSoft)\n",
        "factored_evalPolSoft3, error3 = factor_policy_3(evalPolSoft)\n",
        "factored_evalPolSoft4, error4 = factor_policy_4(evalPolSoft)"
      ]
    },
    {
      "cell_type": "code",
      "source": [
        "error1"
      ],
      "metadata": {
        "colab": {
          "base_uri": "https://localhost:8080/"
        },
        "outputId": "a30847ad-3bdd-41e2-feda-b336a9dc7cbf",
        "id": "PZF5avuY9hH2"
      },
      "execution_count": null,
      "outputs": [
        {
          "output_type": "execute_result",
          "data": {
            "text/plain": [
              "array([[0., 0., 0., ..., 0., 0., 0.],\n",
              "       [0., 0., 0., ..., 0., 0., 0.],\n",
              "       [0., 0., 0., ..., 0., 0., 0.],\n",
              "       ...,\n",
              "       [0., 0., 0., ..., 0., 0., 0.],\n",
              "       [0., 0., 0., ..., 0., 0., 0.],\n",
              "       [0., 0., 0., ..., 0., 0., 0.]])"
            ]
          },
          "metadata": {},
          "execution_count": 106
        }
      ]
    },
    {
      "cell_type": "code",
      "source": [
        "error2"
      ],
      "metadata": {
        "colab": {
          "base_uri": "https://localhost:8080/"
        },
        "id": "_9feQmPz9hH3",
        "outputId": "6a1d3235-991c-43fb-8baf-7fef106b0a4c"
      },
      "execution_count": null,
      "outputs": [
        {
          "output_type": "execute_result",
          "data": {
            "text/plain": [
              "array([[0., 0., 0., ..., 0., 0., 0.],\n",
              "       [0., 0., 0., ..., 0., 0., 0.],\n",
              "       [0., 0., 0., ..., 0., 0., 0.],\n",
              "       ...,\n",
              "       [0., 0., 0., ..., 0., 0., 0.],\n",
              "       [0., 0., 0., ..., 0., 0., 0.],\n",
              "       [0., 0., 0., ..., 0., 0., 0.]])"
            ]
          },
          "metadata": {},
          "execution_count": 107
        }
      ]
    },
    {
      "cell_type": "code",
      "source": [
        "error3"
      ],
      "metadata": {
        "colab": {
          "base_uri": "https://localhost:8080/"
        },
        "outputId": "3f48a93f-7923-4598-855d-8642d841937e",
        "id": "Wydk2oOt9hH3"
      },
      "execution_count": null,
      "outputs": [
        {
          "output_type": "execute_result",
          "data": {
            "text/plain": [
              "array([[0., 0., 0., ..., 0., 0., 0.],\n",
              "       [0., 0., 0., ..., 0., 0., 0.],\n",
              "       [0., 0., 0., ..., 0., 0., 0.],\n",
              "       ...,\n",
              "       [0., 0., 0., ..., 0., 0., 0.],\n",
              "       [0., 0., 0., ..., 0., 0., 0.],\n",
              "       [0., 0., 0., ..., 0., 0., 0.]])"
            ]
          },
          "metadata": {},
          "execution_count": 108
        }
      ]
    },
    {
      "cell_type": "code",
      "source": [
        "error4"
      ],
      "metadata": {
        "colab": {
          "base_uri": "https://localhost:8080/"
        },
        "outputId": "4af98693-cff7-461d-debd-0f430d23be94",
        "id": "gyKTLzZA9hH4"
      },
      "execution_count": null,
      "outputs": [
        {
          "output_type": "execute_result",
          "data": {
            "text/plain": [
              "array([[0., 0., 0., ..., 0., 0., 0.],\n",
              "       [0., 0., 0., ..., 0., 0., 0.],\n",
              "       [0., 0., 0., ..., 0., 0., 0.],\n",
              "       ...,\n",
              "       [0., 0., 0., ..., 0., 0., 0.],\n",
              "       [0., 0., 0., ..., 0., 0., 0.],\n",
              "       [0., 0., 0., ..., 0., 0., 0.]])"
            ]
          },
          "metadata": {},
          "execution_count": 109
        }
      ]
    },
    {
      "cell_type": "code",
      "source": [
        "error1maxes = np.argmax(error1, axis=-1)\n",
        "error2maxes = np.argmax(error2, axis=-1)\n",
        "error3maxes = np.argmax(error3, axis=-1)\n",
        "error4maxes = np.argmax(error4, axis=-1)\n",
        "\n",
        "L = len(error1maxes)\n",
        "\n",
        "print(np.count_nonzero(error1maxes - fullPolmaxes)/L)\n",
        "print(np.count_nonzero(error2maxes - fullPolmaxes)/L)\n",
        "print(np.count_nonzero(error3maxes - fullPolmaxes)/L)\n",
        "print(np.count_nonzero(error4maxes - fullPolmaxes)/L)"
      ],
      "metadata": {
        "colab": {
          "base_uri": "https://localhost:8080/"
        },
        "outputId": "4b015d11-7164-4b19-8125-8859b3247542",
        "id": "N5ijTjjq9hH4"
      },
      "execution_count": null,
      "outputs": [
        {
          "output_type": "stream",
          "name": "stdout",
          "text": [
            "0.9854166666666667\n",
            "0.9854166666666667\n",
            "0.9854166666666667\n",
            "0.9854166666666667\n"
          ]
        }
      ]
    },
    {
      "cell_type": "code",
      "source": [
        "error1mins = np.argmin(error1, axis=-1)\n",
        "error2mins = np.argmin(error2, axis=-1)\n",
        "error3mins = np.argmin(error3, axis=-1)\n",
        "error4mins = np.argmin(error4, axis=-1)\n",
        "\n",
        "L = len(error1maxes)\n",
        "softPolmins = np.argmin(evalPolSoft, axis=-1)\n",
        "\n",
        "print(np.count_nonzero(error1mins - softPolmins)/L)\n",
        "print(np.count_nonzero(error2mins - softPolmins)/L)\n",
        "print(np.count_nonzero(error3mins - softPolmins)/L)\n",
        "print(np.count_nonzero(error4mins - softPolmins)/L)"
      ],
      "metadata": {
        "colab": {
          "base_uri": "https://localhost:8080/"
        },
        "outputId": "71df0d39-feba-4b72-c8ab-2e214de4cf13",
        "id": "0fSUPqEN9hH5"
      },
      "execution_count": null,
      "outputs": [
        {
          "output_type": "stream",
          "name": "stdout",
          "text": [
            "0.0\n",
            "0.0\n",
            "0.0\n",
            "0.0\n"
          ]
        }
      ]
    },
    {
      "cell_type": "code",
      "source": [
        "print(f'{np.mean(error1)}---{np.mean(error2)}---{np.mean(error3)}---{np.mean(error4)}')"
      ],
      "metadata": {
        "colab": {
          "base_uri": "https://localhost:8080/"
        },
        "outputId": "8ff6e868-9368-4771-83b8-8d2f38d5db9c",
        "id": "JSwgZ1J49hH6"
      },
      "execution_count": null,
      "outputs": [
        {
          "output_type": "stream",
          "name": "stdout",
          "text": [
            "0.0---0.0---0.0---0.0\n"
          ]
        }
      ]
    },
    {
      "cell_type": "code",
      "source": [
        "print(f'{np.max(error1)}---{np.max(error2)}---{np.max(error3)}---{np.max(error4)}')"
      ],
      "metadata": {
        "colab": {
          "base_uri": "https://localhost:8080/"
        },
        "outputId": "983feeb1-531c-4adc-97c3-1da63e5381db",
        "id": "yan7EYCf9hH6"
      },
      "execution_count": null,
      "outputs": [
        {
          "output_type": "stream",
          "name": "stdout",
          "text": [
            "0.0---0.0---0.0---0.0\n"
          ]
        }
      ]
    },
    {
      "cell_type": "code",
      "source": [
        "print(f'{np.min(error1[0])}---{np.min(error2[0])}---{np.min(error3[0])}---{np.min(error4[0])}')"
      ],
      "metadata": {
        "colab": {
          "base_uri": "https://localhost:8080/"
        },
        "outputId": "8e5ba2aa-34e5-4e71-b926-00101003062b",
        "id": "f_cJll6c9hH7"
      },
      "execution_count": null,
      "outputs": [
        {
          "output_type": "stream",
          "name": "stdout",
          "text": [
            "0.0---0.0---0.0---0.0\n"
          ]
        }
      ]
    },
    {
      "cell_type": "markdown",
      "metadata": {
        "id": "Yx-zR9Cg9mTv"
      },
      "source": [
        "# $\\epsilon_{e} = 0.9$"
      ]
    },
    {
      "cell_type": "markdown",
      "metadata": {
        "id": "vfV1IGja9mTw"
      },
      "source": [
        "Set up evaluation policy convert into factored format"
      ]
    },
    {
      "cell_type": "code",
      "execution_count": null,
      "metadata": {
        "id": "AZd-nWoZ9mTx"
      },
      "outputs": [],
      "source": [
        "EVAL_EPSILON = 0.9\n",
        "\n",
        "evalPolSoft = np.copy(fullPol)\n",
        "evalPolSoft[evalPolSoft == 1] = 1 - EVAL_EPSILON\n",
        "evalPolSoft[evalPolSoft == 0] = EVAL_EPSILON / (n_actions - 1)"
      ]
    },
    {
      "cell_type": "code",
      "execution_count": null,
      "metadata": {
        "id": "2RZeVcbF9mTy"
      },
      "outputs": [],
      "source": [
        "factored_evalPolSoft1, error1 = factor_policy_1(evalPolSoft)\n",
        "factored_evalPolSoft2, error2 = factor_policy_2(evalPolSoft)\n",
        "factored_evalPolSoft3, error3 = factor_policy_3(evalPolSoft)\n",
        "factored_evalPolSoft4, error4 = factor_policy_4(evalPolSoft)"
      ]
    },
    {
      "cell_type": "code",
      "source": [
        "error1"
      ],
      "metadata": {
        "colab": {
          "base_uri": "https://localhost:8080/"
        },
        "outputId": "fbef8e66-25f6-41e1-eac8-41233fa1f6a0",
        "id": "JCYJ37pW9mTy"
      },
      "execution_count": null,
      "outputs": [
        {
          "output_type": "execute_result",
          "data": {
            "text/plain": [
              "array([[0.00357143, 0.00357143, 0.00357143, ..., 0.00357143, 0.00357143,\n",
              "        0.00357143],\n",
              "       [0.00357143, 0.00357143, 0.00357143, ..., 0.00357143, 0.00357143,\n",
              "        0.00357143],\n",
              "       [0.00357143, 0.00357143, 0.00357143, ..., 0.00357143, 0.00357143,\n",
              "        0.00357143],\n",
              "       ...,\n",
              "       [0.00357143, 0.00357143, 0.00357143, ..., 0.00357143, 0.025     ,\n",
              "        0.00357143],\n",
              "       [0.00357143, 0.00357143, 0.00357143, ..., 0.00357143, 0.025     ,\n",
              "        0.00357143],\n",
              "       [0.00357143, 0.00357143, 0.00357143, ..., 0.00357143, 0.025     ,\n",
              "        0.00357143]])"
            ]
          },
          "metadata": {},
          "execution_count": 117
        }
      ]
    },
    {
      "cell_type": "code",
      "source": [
        "error2"
      ],
      "metadata": {
        "colab": {
          "base_uri": "https://localhost:8080/"
        },
        "id": "jXLKemVn9mTz",
        "outputId": "5d17c9bd-bf30-42b0-f7a0-8f6fabc3b6fa"
      },
      "execution_count": null,
      "outputs": [
        {
          "output_type": "execute_result",
          "data": {
            "text/plain": [
              "array([[0.00357143, 0.00357143, 0.00357143, ..., 0.00357143, 0.00357143,\n",
              "        0.00357143],\n",
              "       [0.00357143, 0.00357143, 0.00357143, ..., 0.00357143, 0.00357143,\n",
              "        0.00357143],\n",
              "       [0.00357143, 0.00357143, 0.00357143, ..., 0.00357143, 0.00357143,\n",
              "        0.00357143],\n",
              "       ...,\n",
              "       [0.00357143, 0.00357143, 0.00357143, ..., 0.00357143, 0.025     ,\n",
              "        0.00357143],\n",
              "       [0.00357143, 0.00357143, 0.00357143, ..., 0.00357143, 0.025     ,\n",
              "        0.00357143],\n",
              "       [0.00357143, 0.00357143, 0.00357143, ..., 0.00357143, 0.025     ,\n",
              "        0.00357143]])"
            ]
          },
          "metadata": {},
          "execution_count": 118
        }
      ]
    },
    {
      "cell_type": "code",
      "source": [
        "error3"
      ],
      "metadata": {
        "colab": {
          "base_uri": "https://localhost:8080/"
        },
        "outputId": "2fb8afbe-da57-413b-c152-f70cd60a4ccb",
        "id": "roOkkXrE9mT0"
      },
      "execution_count": null,
      "outputs": [
        {
          "output_type": "execute_result",
          "data": {
            "text/plain": [
              "array([[0.00357143, 0.00357143, 0.00357143, ..., 0.00357143, 0.00357143,\n",
              "        0.00357143],\n",
              "       [0.00357143, 0.00357143, 0.00357143, ..., 0.00357143, 0.00357143,\n",
              "        0.00357143],\n",
              "       [0.00357143, 0.00357143, 0.00357143, ..., 0.00357143, 0.00357143,\n",
              "        0.00357143],\n",
              "       ...,\n",
              "       [0.00357143, 0.00357143, 0.00357143, ..., 0.00357143, 0.025     ,\n",
              "        0.00357143],\n",
              "       [0.00357143, 0.00357143, 0.00357143, ..., 0.00357143, 0.025     ,\n",
              "        0.00357143],\n",
              "       [0.00357143, 0.00357143, 0.00357143, ..., 0.00357143, 0.025     ,\n",
              "        0.00357143]])"
            ]
          },
          "metadata": {},
          "execution_count": 119
        }
      ]
    },
    {
      "cell_type": "code",
      "source": [
        "error4"
      ],
      "metadata": {
        "colab": {
          "base_uri": "https://localhost:8080/"
        },
        "outputId": "5d47f904-b3d7-4a67-a565-c7fe2758a6dd",
        "id": "-zWBIPx79mT0"
      },
      "execution_count": null,
      "outputs": [
        {
          "output_type": "execute_result",
          "data": {
            "text/plain": [
              "array([[0.00357143, 0.00357143, 0.00357143, ..., 0.00357143, 0.00357143,\n",
              "        0.00357143],\n",
              "       [0.00357143, 0.00357143, 0.00357143, ..., 0.00357143, 0.00357143,\n",
              "        0.00357143],\n",
              "       [0.00357143, 0.00357143, 0.00357143, ..., 0.00357143, 0.00357143,\n",
              "        0.00357143],\n",
              "       ...,\n",
              "       [0.00357143, 0.00357143, 0.00357143, ..., 0.00357143, 0.025     ,\n",
              "        0.00357143],\n",
              "       [0.00357143, 0.00357143, 0.00357143, ..., 0.00357143, 0.025     ,\n",
              "        0.00357143],\n",
              "       [0.00357143, 0.00357143, 0.00357143, ..., 0.00357143, 0.025     ,\n",
              "        0.00357143]])"
            ]
          },
          "metadata": {},
          "execution_count": 120
        }
      ]
    },
    {
      "cell_type": "code",
      "source": [
        "error1maxes = np.argmax(error1, axis=-1)\n",
        "error2maxes = np.argmax(error2, axis=-1)\n",
        "error3maxes = np.argmax(error3, axis=-1)\n",
        "error4maxes = np.argmax(error4, axis=-1)\n",
        "\n",
        "L = len(error1maxes)\n",
        "\n",
        "print(np.count_nonzero(error1maxes - fullPolmaxes)/L)\n",
        "print(np.count_nonzero(error2maxes - fullPolmaxes)/L)\n",
        "print(np.count_nonzero(error3maxes - fullPolmaxes)/L)\n",
        "print(np.count_nonzero(error4maxes - fullPolmaxes)/L)"
      ],
      "metadata": {
        "colab": {
          "base_uri": "https://localhost:8080/"
        },
        "outputId": "74cae276-171b-46df-bdd0-58b86ef5566d",
        "id": "RI9GjEDO9mT1"
      },
      "execution_count": null,
      "outputs": [
        {
          "output_type": "stream",
          "name": "stdout",
          "text": [
            "0.0\n",
            "0.0\n",
            "0.0\n",
            "0.0\n"
          ]
        }
      ]
    },
    {
      "cell_type": "code",
      "source": [
        "error1mins = np.argmin(error1, axis=-1)\n",
        "error2mins = np.argmin(error2, axis=-1)\n",
        "error3mins = np.argmin(error3, axis=-1)\n",
        "error4mins = np.argmin(error4, axis=-1)\n",
        "\n",
        "L = len(error1maxes)\n",
        "softPolmins = np.argmin(evalPolSoft, axis=-1)\n",
        "\n",
        "print(np.count_nonzero(error1mins - softPolmins)/L)\n",
        "print(np.count_nonzero(error2mins - softPolmins)/L)\n",
        "print(np.count_nonzero(error3mins - softPolmins)/L)\n",
        "print(np.count_nonzero(error4mins - softPolmins)/L)"
      ],
      "metadata": {
        "colab": {
          "base_uri": "https://localhost:8080/"
        },
        "outputId": "4d6bdcbb-15f9-4885-f402-af2f8c6b0c7a",
        "id": "veE7zZV-9mT2"
      },
      "execution_count": null,
      "outputs": [
        {
          "output_type": "stream",
          "name": "stdout",
          "text": [
            "1.0\n",
            "1.0\n",
            "1.0\n",
            "1.0\n"
          ]
        }
      ]
    },
    {
      "cell_type": "code",
      "source": [
        "print(f'{np.mean(error1)}---{np.mean(error2)}---{np.mean(error3)}---{np.mean(error4)}')"
      ],
      "metadata": {
        "colab": {
          "base_uri": "https://localhost:8080/"
        },
        "outputId": "11c13e3e-2487-473a-fa26-1572b1fe8460",
        "id": "3PDGCN9m9mT2"
      },
      "execution_count": null,
      "outputs": [
        {
          "output_type": "stream",
          "name": "stdout",
          "text": [
            "0.006250000000000016---0.006250000000000016---0.006250000000000016---0.006250000000000016\n"
          ]
        }
      ]
    },
    {
      "cell_type": "code",
      "source": [
        "print(f'{np.max(error1)}---{np.max(error2)}---{np.max(error3)}---{np.max(error4)}')"
      ],
      "metadata": {
        "colab": {
          "base_uri": "https://localhost:8080/"
        },
        "outputId": "6e9dc9c5-4a84-40f0-c126-59cb078c0679",
        "id": "ikpzWw1V9mT3"
      },
      "execution_count": null,
      "outputs": [
        {
          "output_type": "stream",
          "name": "stdout",
          "text": [
            "0.025000000000000022---0.025000000000000022---0.025000000000000022---0.025000000000000022\n"
          ]
        }
      ]
    },
    {
      "cell_type": "code",
      "source": [
        "print(f'{np.min(error1[0])}---{np.min(error2[0])}---{np.min(error3[0])}---{np.min(error4[0])}')"
      ],
      "metadata": {
        "colab": {
          "base_uri": "https://localhost:8080/"
        },
        "outputId": "a58772d5-e7f2-440d-c803-f268f3c0926c",
        "id": "0OxRWBPI9mT4"
      },
      "execution_count": null,
      "outputs": [
        {
          "output_type": "stream",
          "name": "stdout",
          "text": [
            "0.0035714285714285865---0.0035714285714285865---0.0035714285714285865---0.0035714285714285865\n"
          ]
        }
      ]
    },
    {
      "cell_type": "markdown",
      "metadata": {
        "id": "L2ybHJGI9qp_"
      },
      "source": [
        "# $\\epsilon_{e} = 1.0$"
      ]
    },
    {
      "cell_type": "markdown",
      "metadata": {
        "id": "RoJE5xRI9qqB"
      },
      "source": [
        "Set up evaluation policy convert into factored format"
      ]
    },
    {
      "cell_type": "code",
      "execution_count": null,
      "metadata": {
        "id": "V-K7f1YO9qqB"
      },
      "outputs": [],
      "source": [
        "EVAL_EPSILON = 1.0\n",
        "\n",
        "evalPolSoft = np.copy(fullPol)\n",
        "evalPolSoft[evalPolSoft == 1] = 1 - EVAL_EPSILON\n",
        "evalPolSoft[evalPolSoft == 0] = EVAL_EPSILON / (n_actions - 1)"
      ]
    },
    {
      "cell_type": "code",
      "execution_count": null,
      "metadata": {
        "id": "LiB0KEmi9qqC"
      },
      "outputs": [],
      "source": [
        "factored_evalPolSoft1, error1 = factor_policy_1(evalPolSoft)\n",
        "factored_evalPolSoft2, error2 = factor_policy_2(evalPolSoft)\n",
        "factored_evalPolSoft3, error3 = factor_policy_3(evalPolSoft)\n",
        "factored_evalPolSoft4, error4 = factor_policy_4(evalPolSoft)"
      ]
    },
    {
      "cell_type": "code",
      "source": [
        "error1"
      ],
      "metadata": {
        "colab": {
          "base_uri": "https://localhost:8080/"
        },
        "outputId": "a6fdb60e-1554-4a50-fca8-9c06a957cd61",
        "id": "GgYiu7gn9qqD"
      },
      "execution_count": null,
      "outputs": [
        {
          "output_type": "execute_result",
          "data": {
            "text/plain": [
              "array([[0.01785714, 0.01785714, 0.01785714, ..., 0.01785714, 0.01785714,\n",
              "        0.01785714],\n",
              "       [0.01785714, 0.01785714, 0.01785714, ..., 0.01785714, 0.01785714,\n",
              "        0.01785714],\n",
              "       [0.01785714, 0.01785714, 0.01785714, ..., 0.01785714, 0.01785714,\n",
              "        0.01785714],\n",
              "       ...,\n",
              "       [0.01785714, 0.01785714, 0.01785714, ..., 0.01785714, 0.01785714,\n",
              "        0.01785714],\n",
              "       [0.01785714, 0.01785714, 0.01785714, ..., 0.01785714, 0.01785714,\n",
              "        0.01785714],\n",
              "       [0.01785714, 0.01785714, 0.01785714, ..., 0.01785714, 0.01785714,\n",
              "        0.01785714]])"
            ]
          },
          "metadata": {},
          "execution_count": 128
        }
      ]
    },
    {
      "cell_type": "code",
      "source": [
        "error2"
      ],
      "metadata": {
        "colab": {
          "base_uri": "https://localhost:8080/"
        },
        "id": "U3JJ9nOw9qqE",
        "outputId": "8e687f7d-5444-45f4-d5e4-28293e1c14c5"
      },
      "execution_count": null,
      "outputs": [
        {
          "output_type": "execute_result",
          "data": {
            "text/plain": [
              "array([[0.01785714, 0.01785714, 0.01785714, ..., 0.01785714, 0.01785714,\n",
              "        0.01785714],\n",
              "       [0.01785714, 0.01785714, 0.01785714, ..., 0.01785714, 0.01785714,\n",
              "        0.01785714],\n",
              "       [0.01785714, 0.01785714, 0.01785714, ..., 0.01785714, 0.01785714,\n",
              "        0.01785714],\n",
              "       ...,\n",
              "       [0.01785714, 0.01785714, 0.01785714, ..., 0.01785714, 0.01785714,\n",
              "        0.01785714],\n",
              "       [0.01785714, 0.01785714, 0.01785714, ..., 0.01785714, 0.01785714,\n",
              "        0.01785714],\n",
              "       [0.01785714, 0.01785714, 0.01785714, ..., 0.01785714, 0.01785714,\n",
              "        0.01785714]])"
            ]
          },
          "metadata": {},
          "execution_count": 129
        }
      ]
    },
    {
      "cell_type": "code",
      "source": [
        "error3"
      ],
      "metadata": {
        "colab": {
          "base_uri": "https://localhost:8080/"
        },
        "outputId": "aa218d2a-8557-4087-9496-18a977f37f75",
        "id": "a8pQNO5x9qqE"
      },
      "execution_count": null,
      "outputs": [
        {
          "output_type": "execute_result",
          "data": {
            "text/plain": [
              "array([[0.01785714, 0.01785714, 0.01785714, ..., 0.01785714, 0.01785714,\n",
              "        0.01785714],\n",
              "       [0.01785714, 0.01785714, 0.01785714, ..., 0.01785714, 0.01785714,\n",
              "        0.01785714],\n",
              "       [0.01785714, 0.01785714, 0.01785714, ..., 0.01785714, 0.01785714,\n",
              "        0.01785714],\n",
              "       ...,\n",
              "       [0.01785714, 0.01785714, 0.01785714, ..., 0.01785714, 0.01785714,\n",
              "        0.01785714],\n",
              "       [0.01785714, 0.01785714, 0.01785714, ..., 0.01785714, 0.01785714,\n",
              "        0.01785714],\n",
              "       [0.01785714, 0.01785714, 0.01785714, ..., 0.01785714, 0.01785714,\n",
              "        0.01785714]])"
            ]
          },
          "metadata": {},
          "execution_count": 130
        }
      ]
    },
    {
      "cell_type": "code",
      "source": [
        "error4"
      ],
      "metadata": {
        "colab": {
          "base_uri": "https://localhost:8080/"
        },
        "outputId": "6e9b6504-166e-48ca-8a6b-09afe9eaafaf",
        "id": "l21fLGLr9qqF"
      },
      "execution_count": null,
      "outputs": [
        {
          "output_type": "execute_result",
          "data": {
            "text/plain": [
              "array([[0.01785714, 0.01785714, 0.01785714, ..., 0.01785714, 0.01785714,\n",
              "        0.01785714],\n",
              "       [0.01785714, 0.01785714, 0.01785714, ..., 0.01785714, 0.01785714,\n",
              "        0.01785714],\n",
              "       [0.01785714, 0.01785714, 0.01785714, ..., 0.01785714, 0.01785714,\n",
              "        0.01785714],\n",
              "       ...,\n",
              "       [0.01785714, 0.01785714, 0.01785714, ..., 0.01785714, 0.01785714,\n",
              "        0.01785714],\n",
              "       [0.01785714, 0.01785714, 0.01785714, ..., 0.01785714, 0.01785714,\n",
              "        0.01785714],\n",
              "       [0.01785714, 0.01785714, 0.01785714, ..., 0.01785714, 0.01785714,\n",
              "        0.01785714]])"
            ]
          },
          "metadata": {},
          "execution_count": 131
        }
      ]
    },
    {
      "cell_type": "code",
      "source": [
        "error1maxes = np.argmax(error1, axis=-1)\n",
        "error2maxes = np.argmax(error2, axis=-1)\n",
        "error3maxes = np.argmax(error3, axis=-1)\n",
        "error4maxes = np.argmax(error4, axis=-1)\n",
        "\n",
        "L = len(error1maxes)\n",
        "\n",
        "print(np.count_nonzero(error1maxes - fullPolmaxes)/L)\n",
        "print(np.count_nonzero(error2maxes - fullPolmaxes)/L)\n",
        "print(np.count_nonzero(error3maxes - fullPolmaxes)/L)\n",
        "print(np.count_nonzero(error4maxes - fullPolmaxes)/L)"
      ],
      "metadata": {
        "colab": {
          "base_uri": "https://localhost:8080/"
        },
        "outputId": "0ebfcfaf-e81e-488d-c534-10e8fe086990",
        "id": "R0qDw_UX9qqG"
      },
      "execution_count": null,
      "outputs": [
        {
          "output_type": "stream",
          "name": "stdout",
          "text": [
            "0.9854166666666667\n",
            "0.9854166666666667\n",
            "0.9854166666666667\n",
            "0.9854166666666667\n"
          ]
        }
      ]
    },
    {
      "cell_type": "code",
      "source": [
        "error1mins = np.argmin(error1, axis=-1)\n",
        "error2mins = np.argmin(error2, axis=-1)\n",
        "error3mins = np.argmin(error3, axis=-1)\n",
        "error4mins = np.argmin(error4, axis=-1)\n",
        "\n",
        "L = len(error1maxes)\n",
        "softPolmins = np.argmin(evalPolSoft, axis=-1)\n",
        "\n",
        "print(np.count_nonzero(error1mins - softPolmins)/L)\n",
        "print(np.count_nonzero(error2mins - softPolmins)/L)\n",
        "print(np.count_nonzero(error3mins - softPolmins)/L)\n",
        "print(np.count_nonzero(error4mins - softPolmins)/L)"
      ],
      "metadata": {
        "colab": {
          "base_uri": "https://localhost:8080/"
        },
        "outputId": "a4d5a037-2743-404b-ee27-47640ec5e496",
        "id": "CRXukVcx9qqH"
      },
      "execution_count": null,
      "outputs": [
        {
          "output_type": "stream",
          "name": "stdout",
          "text": [
            "0.0\n",
            "0.0\n",
            "0.0\n",
            "0.0\n"
          ]
        }
      ]
    },
    {
      "cell_type": "code",
      "source": [
        "print(f'{np.mean(error1)}---{np.mean(error2)}---{np.mean(error3)}---{np.mean(error4)}')"
      ],
      "metadata": {
        "colab": {
          "base_uri": "https://localhost:8080/"
        },
        "outputId": "863d96aa-7791-4552-c333-f69e91d7e5d2",
        "id": "QkqNxR1S9qqH"
      },
      "execution_count": null,
      "outputs": [
        {
          "output_type": "stream",
          "name": "stdout",
          "text": [
            "0.01785714285714285---0.01785714285714285---0.01785714285714285---0.01785714285714285\n"
          ]
        }
      ]
    },
    {
      "cell_type": "code",
      "source": [
        "print(f'{np.max(error1)}---{np.max(error2)}---{np.max(error3)}---{np.max(error4)}')"
      ],
      "metadata": {
        "colab": {
          "base_uri": "https://localhost:8080/"
        },
        "outputId": "28c51f67-d630-4b67-8466-2efc7655940e",
        "id": "LJQYQ9Zr9qqI"
      },
      "execution_count": null,
      "outputs": [
        {
          "output_type": "stream",
          "name": "stdout",
          "text": [
            "0.01785714285714285---0.01785714285714285---0.01785714285714285---0.01785714285714285\n"
          ]
        }
      ]
    },
    {
      "cell_type": "code",
      "source": [
        "print(f'{np.min(error1[0])}---{np.min(error2[0])}---{np.min(error3[0])}---{np.min(error4[0])}')"
      ],
      "metadata": {
        "colab": {
          "base_uri": "https://localhost:8080/"
        },
        "outputId": "da5f9dc0-fb94-4a68-8b7e-30602c66fe95",
        "id": "C3PtttcQ9qqJ"
      },
      "execution_count": null,
      "outputs": [
        {
          "output_type": "stream",
          "name": "stdout",
          "text": [
            "0.01785714285714285---0.01785714285714285---0.01785714285714285---0.01785714285714285\n"
          ]
        }
      ]
    },
    {
      "cell_type": "markdown",
      "source": [
        "# Plot Graphs"
      ],
      "metadata": {
        "id": "4fyz4TmE_evo"
      }
    },
    {
      "cell_type": "markdown",
      "source": [
        "## Errors"
      ],
      "metadata": {
        "id": "UPMQ8kNazRqk"
      }
    },
    {
      "cell_type": "code",
      "source": [
        "means =  {\n",
        "    'Fact. 1': [0.057590300324675346, 0.06157645399650404, 0.06481550776809401, 0.06686551069703242, 0.06696428571428571, 0.06371871574716842, 0.05437500000000003, 0.032851589200273396, 0.0, 0.006250000000000016, 0.01785714285714285],\n",
        "    'Fact. 2': [0.1726000941332973, 0.16171390831082152, 0.15005884620647553, 0.13719399394218232, 0.12236235119047618, 0.10418556915519829, 0.07994791666666669, 0.04366811916154019, 0.0, 0.006250000000000016, 0.01785714285714285],\n",
        "    'Fact. 3': [0.010536728896103902, 0.0205943111393612, 0.02990479348237972, 0.03802622498274671, 0.04419642857142857, 0.04702228717573985, 0.04375000000000002, 0.02829801777170197, 0.0, 0.006250000000000016, 0.01785714285714285],\n",
        "    'Fact. 4': [0.014104516165597096, 0.027700134135412356, 0.040456852688731434, 0.05180053775434722, 0.060686383928571425, 0.06510569625774185, 0.060937500000000026, 0.039154234195556484, 0.0, 0.006250000000000016, 0.01785714285714285]\n",
        "}\n",
        "\n",
        "maxes = {\n",
        "    'Fact. 1': [0.9253449675324678, 0.8435086604163357, 0.753230390299356, 0.6530020703933745, 0.5410714285714286, 0.415564486664230852, 0.2750000000000002, 0.12344497607655497, 0.0, 0.025000000000000022, 0.01785714285714285],\n",
        "    'Fact. 2': [0.9253449675324678, 0.8435086604163357, 0.753230390299356, 0.6530020703933747, 0.5410714285714286, 0.41556448666423085, 0.2750000000000002, 0.12344497607655497, 0.0, 0.025000000000000022, 0.01785714285714285],\n",
        "    'Fact. 3': [0.03963068181818197, 0.07208008898776419, 0.09608753315649887, 0.11014492753623184, 0.11250000000000004, 0.10127877237851657, 0.07500000000000012, 0.03773069036226931, 0.0, 0.025000000000000022, 0.01785714285714285],\n",
        "    'Fact. 4': [0.05385360717773435, 0.10007790397310279, 0.13671626081019606, 0.1611572285690801, 0.169921875, 0.15851821697537138, 0.12187500000000018, 0.06620156702801329, 0.0, 0.025000000000000022, 0.01785714285714285]\n",
        "}\n",
        "\n",
        "mins =  {\n",
        "    'Fact. 1': [0.0006290584415584444, 0.0025742888924201457, 0.005882910193255035, 0.01048999309868874, 0.016071428571428584, 0.02170259408111068, 0.02500000000000001, 0.01968557758031439, 0.0, 0.0035714285714285865, 0.01785714285714285],\n",
        "    'Fact. 2': [0.0006290584415584444, 0.0025742888924201457, 0.005882910193255035, 0.01048999309868874, 0.016071428571428584, 0.02170259408111068, 0.02500000000000001, 0.01968557758031439, 0.0, 0.0035714285714285865, 0.01785714285714285,],\n",
        "    'Fact. 3': [0.0006290584415584426, 0.0025742888924201457, 0.005882910193255028, 0.010489993098688755, 0.01607142857142857, 0.021702594081110693, 0.024999999999999994, 0.01968557758031439, 0.0, 0.0035714285714285865, 0.01785714285714285],\n",
        "    'Fact. 4': [0.0008548191615513415, 0.0035742108561822375, 0.008370383314909961, 0.015348307482769538, 0.024274553571428575, 0.03396818935186528, 0.040625000000000036, 0.030138456584737572, 0.0, 0.0035714285714285865, 0.01785714285714285]\n",
        "}\n",
        "\n"
      ],
      "metadata": {
        "id": "VPMtVktw_hZw"
      },
      "execution_count": null,
      "outputs": []
    },
    {
      "cell_type": "code",
      "execution_count": 4,
      "metadata": {
        "id": "kQly4RvfKZ0t"
      },
      "outputs": [],
      "source": [
        "import numpy as np\n",
        "import pickle\n",
        "import matplotlib.pyplot as plt\n",
        "\n",
        "def plot_graphs(readings, label, low_ylim, up_ylim):\n",
        "  EPSILONS = [0.1, 0.2, 0.3, 0.4, 0.5, 0.6, 0.7, 0.8, 0.875, 0.9, 1.0]\n",
        "\n",
        "  colours = {\n",
        "      'Fact. 1': 'b',\n",
        "      'Fact. 2': 'g',\n",
        "      'Fact. 3': 'purple',\n",
        "      'Fact. 4': 'gold',\n",
        "  }\n",
        "\n",
        "  ylabels = {\n",
        "      'max': 'Maximum Policy Error',\n",
        "      'mean': 'Mean Policy Error',\n",
        "      'min': 'Minimum Policy Error',\n",
        "      'MeMp': 'Fraction of States With Max Error = Max Probability'\n",
        "  }\n",
        "\n",
        "  legend_list = ['Fact. 1', 'Fact. 2', 'Fact. 3', 'Fact. 4']\n",
        "\n",
        "  plt.figure()\n",
        "  for legend in legend_list:\n",
        "    plt.plot(EPSILONS, readings[legend], color=colours[legend], marker='x')\n",
        "\n",
        "  plt.grid(visible=True, which='both', axis='both')\n",
        "  plt.legend(legend_list)\n",
        "  plt.xlabel('$\\epsilon$ of Policy')\n",
        "  plt.ylabel(ylabels[label])\n",
        "  plt.ylim([low_ylim, up_ylim])\n",
        "  plt.savefig(f'{label}-policy-error.pdf', dpi=300)\n",
        "  plt.show()"
      ]
    },
    {
      "cell_type": "code",
      "source": [
        "plot_graphs(means, 'mean', 0.0, 0.2)"
      ],
      "metadata": {
        "colab": {
          "base_uri": "https://localhost:8080/",
          "height": 459
        },
        "id": "72Kknxp0j1xZ",
        "outputId": "9dcefceb-6357-458a-b06b-241fecc7d63c"
      },
      "execution_count": null,
      "outputs": [
        {
          "output_type": "display_data",
          "data": {
            "text/plain": [
              "<Figure size 640x480 with 1 Axes>"
            ],
            "image/png": "[encoded data removed]"
          },
          "metadata": {}
        }
      ]
    },
    {
      "cell_type": "code",
      "source": [
        "plot_graphs(mins, 'min', 0.0, 0.05)"
      ],
      "metadata": {
        "colab": {
          "base_uri": "https://localhost:8080/"
        },
        "id": "cg4gqprSkKAj",
        "outputId": "28a39a06-072b-4594-8c28-d1d53586c9b2"
      },
      "execution_count": null,
      "outputs": [
        {
          "output_type": "display_data",
          "data": {
            "text/plain": [
              "<Figure size 640x480 with 1 Axes>"
            ],
            "image/png": "[encoded data removed]"
          },
          "metadata": {}
        }
      ]
    },
    {
      "cell_type": "code",
      "source": [
        "plot_graphs(maxes, 'max', 0.0, 1.0)"
      ],
      "metadata": {
        "colab": {
          "base_uri": "https://localhost:8080/"
        },
        "id": "01hn-fL9kReF",
        "outputId": "e61ba087-ef0f-4841-d02a-7633438efea6"
      },
      "execution_count": null,
      "outputs": [
        {
          "output_type": "display_data",
          "data": {
            "text/plain": [
              "<Figure size 640x480 with 1 Axes>"
            ],
            "image/png": "[encoded data removed]"
          },
          "metadata": {}
        }
      ]
    },
    {
      "cell_type": "markdown",
      "source": [
        "## Max Error = Max Probability"
      ],
      "metadata": {
        "id": "c4Ysjo0TzUyB"
      }
    },
    {
      "cell_type": "code",
      "source": [
        "memp =  {\n",
        "    'Fact. 1': [1. - 0.2125, 1. - 0.2125, 1. - 0.2125, 1. - 0.2125, 1. - 0.2125, 1. - 0.2125, 1. - 0.2125, 1. - 0.7875, 1 - 0.9854166666666667, 1.0 - 0.0, 1.0 - 0.9854166666666667],\n",
        "    'Fact. 2': [1. - 0.7319444444444444, 1. - 0.7319444444444444, 1. - 0.7319444444444444, 1. - 0.7319444444444444, 1. - 0.7319444444444444, 1. - 0.7319444444444444, 1. - 0.7319444444444444, 1. - 0.33194444444444443, 1 - 0.9854166666666667, 1.0 -0.0, 1.0 - 0.9854166666666667],\n",
        "    'Fact. 3': [1. - 0.0, 1. - 0.0, 1. - 0.0, 1. - 0.0, 1. - 0.0, 1. - 0.0, 1. - 0.0, 1. - 1., 1 - 0.9854166666666667, 1.0 - 0.0, 1.0 - 0.9854166666666667],\n",
        "    'Fact. 4': [1. - 0.0, 1. - 0.0, 1. - 0.0, 1. - 0.0, 1. - 0.0, 1. - 0.0, 1. - 0.0, 1. - 1., 1 - 0.9854166666666667, 1.0 - 0.0, 1.0 - 0.9854166666666667]\n",
        "}"
      ],
      "metadata": {
        "id": "pA5pxzpEzaDt"
      },
      "execution_count": 5,
      "outputs": []
    },
    {
      "cell_type": "code",
      "source": [
        "plot_graphs(memp, 'MeMp', 0.0, 1.1)"
      ],
      "metadata": {
        "colab": {
          "base_uri": "https://localhost:8080/",
          "height": 453
        },
        "id": "pqqaZxh_XYRg",
        "outputId": "fcb145b4-c12a-40d5-fb49-a58080f10b15"
      },
      "execution_count": 6,
      "outputs": [
        {
          "output_type": "display_data",
          "data": {
            "text/plain": [
              "<Figure size 640x480 with 1 Axes>"
            ],
            "image/png": "[encoded data removed]"
          },
          "metadata": {}
        }
      ]
    }
  ]
}